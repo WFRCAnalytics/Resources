{
 "cells": [
  {
   "cell_type": "markdown",
   "metadata": {},
   "source": [
    "# Create Service Key in Google"
   ]
  },
  {
   "cell_type": "markdown",
   "metadata": {},
   "source": [
    "- Go to Google Cloud Console\n",
    "- Select Project in top drop down\n",
    "- Select IAM & Admin in sidebar\n",
    "- Select Service Accounts in sidebar\n",
    "- Click Create Service Account button (example name bhereth-wfrcbq) \n",
    "- Create account and give permissions\n",
    "- Select Keys option\n",
    "- Clcik Add Key button - Create New Key\n",
    "- Select JSON\n",
    "- Should receive confirmation that key was created\n",
    "- Look in 'Downloads' folder for key\n",
    "- Move file to secure spot on local drive\n"
   ]
  },
  {
   "cell_type": "code",
   "execution_count": 93,
   "metadata": {},
   "outputs": [],
   "source": [
    "import os\n",
    "import pandas as pd\n",
    "import pandas_gbq\n",
    "import pytz\n",
    "import io\n",
    "from dbfread import DBF"
   ]
  },
  {
   "cell_type": "code",
   "execution_count": 94,
   "metadata": {},
   "outputs": [
    {
     "data": {
      "text/html": [
       "<div>\n",
       "<style scoped>\n",
       "    .dataframe tbody tr th:only-of-type {\n",
       "        vertical-align: middle;\n",
       "    }\n",
       "\n",
       "    .dataframe tbody tr th {\n",
       "        vertical-align: top;\n",
       "    }\n",
       "\n",
       "    .dataframe thead th {\n",
       "        text-align: right;\n",
       "    }\n",
       "</style>\n",
       "<table border=\"1\" class=\"dataframe\">\n",
       "  <thead>\n",
       "    <tr style=\"text-align: right;\">\n",
       "      <th></th>\n",
       "      <th>table</th>\n",
       "      <th>variable</th>\n",
       "      <th>value</th>\n",
       "      <th>label</th>\n",
       "    </tr>\n",
       "  </thead>\n",
       "  <tbody>\n",
       "    <tr>\n",
       "      <th>0</th>\n",
       "      <td>hh</td>\n",
       "      <td>participation_group</td>\n",
       "      <td>1</td>\n",
       "      <td>Signup survey completed via browserMove, Diary...</td>\n",
       "    </tr>\n",
       "    <tr>\n",
       "      <th>1</th>\n",
       "      <td>hh</td>\n",
       "      <td>participation_group</td>\n",
       "      <td>2</td>\n",
       "      <td>Signup survey completed via browserMove, Diary...</td>\n",
       "    </tr>\n",
       "    <tr>\n",
       "      <th>2</th>\n",
       "      <td>hh</td>\n",
       "      <td>participation_group</td>\n",
       "      <td>3</td>\n",
       "      <td>Signup survey completed via browserMove, Diary...</td>\n",
       "    </tr>\n",
       "    <tr>\n",
       "      <th>3</th>\n",
       "      <td>hh</td>\n",
       "      <td>participation_group</td>\n",
       "      <td>4</td>\n",
       "      <td>Signup survey completed via call center, Diary...</td>\n",
       "    </tr>\n",
       "    <tr>\n",
       "      <th>4</th>\n",
       "      <td>hh</td>\n",
       "      <td>participation_group</td>\n",
       "      <td>5</td>\n",
       "      <td>Signup survey completed via call center, Diary...</td>\n",
       "    </tr>\n",
       "    <tr>\n",
       "      <th>...</th>\n",
       "      <td>...</td>\n",
       "      <td>...</td>\n",
       "      <td>...</td>\n",
       "      <td>...</td>\n",
       "    </tr>\n",
       "    <tr>\n",
       "      <th>2036</th>\n",
       "      <td>trip</td>\n",
       "      <td>imputed_record_type</td>\n",
       "      <td>1</td>\n",
       "      <td>Imputed from proxy</td>\n",
       "    </tr>\n",
       "    <tr>\n",
       "      <th>2037</th>\n",
       "      <td>trip</td>\n",
       "      <td>imputed_record_type</td>\n",
       "      <td>2</td>\n",
       "      <td>Imputed school trip from attendance (no host t...</td>\n",
       "    </tr>\n",
       "    <tr>\n",
       "      <th>2038</th>\n",
       "      <td>trip</td>\n",
       "      <td>trace_quality_flag</td>\n",
       "      <td>0</td>\n",
       "      <td>No</td>\n",
       "    </tr>\n",
       "    <tr>\n",
       "      <th>2039</th>\n",
       "      <td>trip</td>\n",
       "      <td>trace_quality_flag</td>\n",
       "      <td>1</td>\n",
       "      <td>Yes</td>\n",
       "    </tr>\n",
       "    <tr>\n",
       "      <th>2040</th>\n",
       "      <td>trip</td>\n",
       "      <td>trace_quality_flag</td>\n",
       "      <td>995</td>\n",
       "      <td>Missing response</td>\n",
       "    </tr>\n",
       "  </tbody>\n",
       "</table>\n",
       "<p>2041 rows × 4 columns</p>\n",
       "</div>"
      ],
      "text/plain": [
       "     table             variable value  \\\n",
       "0       hh  participation_group     1   \n",
       "1       hh  participation_group     2   \n",
       "2       hh  participation_group     3   \n",
       "3       hh  participation_group     4   \n",
       "4       hh  participation_group     5   \n",
       "...    ...                  ...   ...   \n",
       "2036  trip  imputed_record_type     1   \n",
       "2037  trip  imputed_record_type     2   \n",
       "2038  trip   trace_quality_flag     0   \n",
       "2039  trip   trace_quality_flag     1   \n",
       "2040  trip   trace_quality_flag   995   \n",
       "\n",
       "                                                  label  \n",
       "0     Signup survey completed via browserMove, Diary...  \n",
       "1     Signup survey completed via browserMove, Diary...  \n",
       "2     Signup survey completed via browserMove, Diary...  \n",
       "3     Signup survey completed via call center, Diary...  \n",
       "4     Signup survey completed via call center, Diary...  \n",
       "...                                                 ...  \n",
       "2036                                 Imputed from proxy  \n",
       "2037  Imputed school trip from attendance (no host t...  \n",
       "2038                                                 No  \n",
       "2039                                                Yes  \n",
       "2040                                   Missing response  \n",
       "\n",
       "[2041 rows x 4 columns]"
      ]
     },
     "execution_count": 94,
     "metadata": {},
     "output_type": "execute_result"
    }
   ],
   "source": [
    "# import value labels to get description of codes\n",
    "\n",
    "dfValueLabels = pd.read_csv('value_labels.csv')\n",
    "dfValueLabels"
   ]
  },
  {
   "cell_type": "code",
   "execution_count": 95,
   "metadata": {},
   "outputs": [
    {
     "data": {
      "text/html": [
       "<div>\n",
       "<style scoped>\n",
       "    .dataframe tbody tr th:only-of-type {\n",
       "        vertical-align: middle;\n",
       "    }\n",
       "\n",
       "    .dataframe tbody tr th {\n",
       "        vertical-align: top;\n",
       "    }\n",
       "\n",
       "    .dataframe thead th {\n",
       "        text-align: right;\n",
       "    }\n",
       "</style>\n",
       "<table border=\"1\" class=\"dataframe\">\n",
       "  <thead>\n",
       "    <tr style=\"text-align: right;\">\n",
       "      <th></th>\n",
       "      <th>trip_type</th>\n",
       "      <th>Trip Type</th>\n",
       "    </tr>\n",
       "  </thead>\n",
       "  <tbody>\n",
       "    <tr>\n",
       "      <th>1890</th>\n",
       "      <td>1</td>\n",
       "      <td>1-Home-based work</td>\n",
       "    </tr>\n",
       "    <tr>\n",
       "      <th>1891</th>\n",
       "      <td>2</td>\n",
       "      <td>2-Home-based school</td>\n",
       "    </tr>\n",
       "    <tr>\n",
       "      <th>1892</th>\n",
       "      <td>3</td>\n",
       "      <td>3-Home-based shopping</td>\n",
       "    </tr>\n",
       "    <tr>\n",
       "      <th>1893</th>\n",
       "      <td>4</td>\n",
       "      <td>4-Home-based personal business</td>\n",
       "    </tr>\n",
       "    <tr>\n",
       "      <th>1894</th>\n",
       "      <td>5</td>\n",
       "      <td>5-Home-based other</td>\n",
       "    </tr>\n",
       "    <tr>\n",
       "      <th>1895</th>\n",
       "      <td>6</td>\n",
       "      <td>6-Non-home-based work</td>\n",
       "    </tr>\n",
       "    <tr>\n",
       "      <th>1896</th>\n",
       "      <td>7</td>\n",
       "      <td>7-Non-home-based non-work</td>\n",
       "    </tr>\n",
       "    <tr>\n",
       "      <th>1897</th>\n",
       "      <td>995</td>\n",
       "      <td>995-Missing response</td>\n",
       "    </tr>\n",
       "  </tbody>\n",
       "</table>\n",
       "</div>"
      ],
      "text/plain": [
       "      trip_type                       Trip Type\n",
       "1890          1               1-Home-based work\n",
       "1891          2             2-Home-based school\n",
       "1892          3           3-Home-based shopping\n",
       "1893          4  4-Home-based personal business\n",
       "1894          5              5-Home-based other\n",
       "1895          6           6-Non-home-based work\n",
       "1896          7       7-Non-home-based non-work\n",
       "1897        995            995-Missing response"
      ]
     },
     "execution_count": 95,
     "metadata": {},
     "output_type": "execute_result"
    }
   ],
   "source": [
    "# read in code labels and filter and clean up for just trip_type and cast as int64\n",
    "dfTripTypeLabels = dfValueLabels[dfValueLabels['variable']=='trip_type'].copy()\n",
    "dfTripTypeLabels.rename(columns={'value':'trip_type'}, inplace=True)\n",
    "dfTripTypeLabels['trip_type'] = dfTripTypeLabels['trip_type'].astype('int64')\n",
    "dfTripTypeLabels['Trip Type'] = dfTripTypeLabels['trip_type'].astype('str') + '-' + dfTripTypeLabels['label']\n",
    "dfTripTypeLabels.drop(columns=['table','variable','label'], inplace=True)\n",
    "dfTripTypeLabels"
   ]
  },
  {
   "cell_type": "code",
   "execution_count": 96,
   "metadata": {},
   "outputs": [
    {
     "name": "stdout",
     "output_type": "stream",
     "text": [
      "Success!\n"
     ]
    }
   ],
   "source": [
    "#google cloud big query libaries\n",
    "from google.cloud import bigquery\n",
    "from google.oauth2 import service_account\n",
    "\n",
    "key_path = r\"C:\\Users\\bhereth\\confidential-2023-utah-hts-db5335615978.json\"\n",
    "#key_path = r\"C:\\Users\\bhereth\\tdm-scenarios-a85044dbbfd3.json\"\n",
    "\n",
    "credentials = service_account.Credentials.from_service_account_file(\n",
    "    key_path, scopes=[\"https://www.googleapis.com/auth/cloud-platform\"],\n",
    ")\n",
    "\n",
    "client = bigquery.Client(credentials=credentials, project=credentials.project_id,)\n",
    "print ('Success!')"
   ]
  },
  {
   "cell_type": "code",
   "execution_count": 97,
   "metadata": {},
   "outputs": [],
   "source": [
    "# CRAFT SQL STATEMENT\n",
    "# CAST function makes sure value returned is defined as int, to avoid weird precision issues with floats\n",
    "# To get distances to 2-mile bins use FLOOR(distance_miles / 2) * 2 \n",
    "\n",
    "strQry1 = \"\"\"\n",
    "SELECT \n",
    "  trip_type, \n",
    "  CAST(FLOOR(distance_miles / 2) * 2 AS INT64) AS distance_miles_2mibin,\n",
    "  SUM(trip_weight) AS trip_weight_sum\n",
    "FROM \n",
    "  `confidential-2023-utah-hts.20230313.ex_trip`\n",
    "GROUP BY \n",
    "  trip_type, \n",
    "  CAST(FLOOR(distance_miles / 2) * 2 AS INT64)\n",
    "\"\"\""
   ]
  },
  {
   "cell_type": "code",
   "execution_count": 98,
   "metadata": {},
   "outputs": [],
   "source": [
    "#dfBinnedTripDistance = client.query(strQry1).to_dataframe()\n",
    "#dfBinnedTripDistance"
   ]
  },
  {
   "cell_type": "code",
   "execution_count": 99,
   "metadata": {},
   "outputs": [
    {
     "data": {
      "text/html": [
       "<div>\n",
       "<style scoped>\n",
       "    .dataframe tbody tr th:only-of-type {\n",
       "        vertical-align: middle;\n",
       "    }\n",
       "\n",
       "    .dataframe tbody tr th {\n",
       "        vertical-align: top;\n",
       "    }\n",
       "\n",
       "    .dataframe thead th {\n",
       "        text-align: right;\n",
       "    }\n",
       "</style>\n",
       "<table border=\"1\" class=\"dataframe\">\n",
       "  <thead>\n",
       "    <tr style=\"text-align: right;\">\n",
       "      <th></th>\n",
       "      <th>trip_type</th>\n",
       "      <th>distance_miles_2mibin</th>\n",
       "      <th>trip_weight_sum</th>\n",
       "      <th>Trip Type</th>\n",
       "    </tr>\n",
       "  </thead>\n",
       "  <tbody>\n",
       "    <tr>\n",
       "      <th>0</th>\n",
       "      <td>7</td>\n",
       "      <td>10.0</td>\n",
       "      <td>46195.137161</td>\n",
       "      <td>7-Non-home-based non-work</td>\n",
       "    </tr>\n",
       "    <tr>\n",
       "      <th>1</th>\n",
       "      <td>7</td>\n",
       "      <td>8.0</td>\n",
       "      <td>76585.100138</td>\n",
       "      <td>7-Non-home-based non-work</td>\n",
       "    </tr>\n",
       "    <tr>\n",
       "      <th>2</th>\n",
       "      <td>7</td>\n",
       "      <td>0.0</td>\n",
       "      <td>637360.929566</td>\n",
       "      <td>7-Non-home-based non-work</td>\n",
       "    </tr>\n",
       "    <tr>\n",
       "      <th>3</th>\n",
       "      <td>7</td>\n",
       "      <td>2.0</td>\n",
       "      <td>378611.422226</td>\n",
       "      <td>7-Non-home-based non-work</td>\n",
       "    </tr>\n",
       "    <tr>\n",
       "      <th>4</th>\n",
       "      <td>7</td>\n",
       "      <td>12.0</td>\n",
       "      <td>59553.198315</td>\n",
       "      <td>7-Non-home-based non-work</td>\n",
       "    </tr>\n",
       "    <tr>\n",
       "      <th>...</th>\n",
       "      <td>...</td>\n",
       "      <td>...</td>\n",
       "      <td>...</td>\n",
       "      <td>...</td>\n",
       "    </tr>\n",
       "    <tr>\n",
       "      <th>969</th>\n",
       "      <td>2</td>\n",
       "      <td>126.0</td>\n",
       "      <td>0.000000</td>\n",
       "      <td>2-Home-based school</td>\n",
       "    </tr>\n",
       "    <tr>\n",
       "      <th>970</th>\n",
       "      <td>2</td>\n",
       "      <td>84.0</td>\n",
       "      <td>44.142885</td>\n",
       "      <td>2-Home-based school</td>\n",
       "    </tr>\n",
       "    <tr>\n",
       "      <th>971</th>\n",
       "      <td>2</td>\n",
       "      <td>1146.0</td>\n",
       "      <td>17.986077</td>\n",
       "      <td>2-Home-based school</td>\n",
       "    </tr>\n",
       "    <tr>\n",
       "      <th>972</th>\n",
       "      <td>2</td>\n",
       "      <td>56.0</td>\n",
       "      <td>2.586812</td>\n",
       "      <td>2-Home-based school</td>\n",
       "    </tr>\n",
       "    <tr>\n",
       "      <th>973</th>\n",
       "      <td>2</td>\n",
       "      <td>14206.0</td>\n",
       "      <td>16.002980</td>\n",
       "      <td>2-Home-based school</td>\n",
       "    </tr>\n",
       "  </tbody>\n",
       "</table>\n",
       "<p>974 rows × 4 columns</p>\n",
       "</div>"
      ],
      "text/plain": [
       "     trip_type  distance_miles_2mibin  trip_weight_sum  \\\n",
       "0            7                   10.0     46195.137161   \n",
       "1            7                    8.0     76585.100138   \n",
       "2            7                    0.0    637360.929566   \n",
       "3            7                    2.0    378611.422226   \n",
       "4            7                   12.0     59553.198315   \n",
       "..         ...                    ...              ...   \n",
       "969          2                  126.0         0.000000   \n",
       "970          2                   84.0        44.142885   \n",
       "971          2                 1146.0        17.986077   \n",
       "972          2                   56.0         2.586812   \n",
       "973          2                14206.0        16.002980   \n",
       "\n",
       "                     Trip Type  \n",
       "0    7-Non-home-based non-work  \n",
       "1    7-Non-home-based non-work  \n",
       "2    7-Non-home-based non-work  \n",
       "3    7-Non-home-based non-work  \n",
       "4    7-Non-home-based non-work  \n",
       "..                         ...  \n",
       "969        2-Home-based school  \n",
       "970        2-Home-based school  \n",
       "971        2-Home-based school  \n",
       "972        2-Home-based school  \n",
       "973        2-Home-based school  \n",
       "\n",
       "[974 rows x 4 columns]"
      ]
     },
     "execution_count": 99,
     "metadata": {},
     "output_type": "execute_result"
    }
   ],
   "source": [
    "# AWAITING GLOBBING\n",
    "# USE TEMP CSV FROM GBQ BROWSER DOWNLOAD\n",
    "\n",
    "dfBinnedTripDistance = pd.read_csv('bquxjob_1b1667df_18f06fb53f5.csv')\n",
    "dfBinnedTripDistance = pd.merge(dfBinnedTripDistance, dfTripTypeLabels, on='trip_type')\n",
    "dfBinnedTripDistance"
   ]
  },
  {
   "cell_type": "markdown",
   "metadata": {},
   "source": [
    "# Plot distributions"
   ]
  },
  {
   "cell_type": "code",
   "execution_count": 121,
   "metadata": {},
   "outputs": [],
   "source": [
    "# Group by 'trip_type' and 'distance_miles_2mibin' and sum 'trip_weight_sum'\n",
    "grouped = dfBinnedTripDistance.groupby(['Trip Type', 'distance_miles_2mibin']).agg({'trip_weight_sum': 'sum'}).reset_index()\n",
    "\n",
    "# Calculate the total weight for each trip type\n",
    "total_weights = grouped.groupby('Trip Type')['trip_weight_sum'].transform('sum')\n",
    "\n",
    "# Calculate percentage distribution\n",
    "grouped['percentage'] = (grouped['trip_weight_sum'] / total_weights) * 100\n",
    "\n",
    "# only plot below 60 miles\n",
    "filtered_grouped = grouped[grouped['distance_miles_2mibin'] <= 60].copy()\n"
   ]
  },
  {
   "cell_type": "markdown",
   "metadata": {},
   "source": [
    "## Seaborn Plot"
   ]
  },
  {
   "cell_type": "code",
   "execution_count": 122,
   "metadata": {},
   "outputs": [
    {
     "data": {
      "image/png": "[encoded data removed]",
      "text/plain": [
       "<Figure size 1200x600 with 1 Axes>"
      ]
     },
     "metadata": {},
     "output_type": "display_data"
    }
   ],
   "source": [
    "import matplotlib.pyplot as plt\n",
    "import seaborn as sns\n",
    "\n",
    "# Set the plotting style\n",
    "sns.set(style=\"whitegrid\")\n",
    "\n",
    "# Create the line plot\n",
    "plt.figure(figsize=(12, 6))\n",
    "# Filter to only include bins up to 100 miles for visualization\n",
    "line_plot = sns.lineplot(data=filtered_grouped, x='distance_miles_2mibin', y='percentage', hue='Trip Type', marker='o')\n",
    "\n",
    "# Set labels, title, and limits\n",
    "plt.xlabel('Distance Miles 2-Mi Bin')\n",
    "plt.ylabel('Percentage')\n",
    "plt.title('Trip Distance Distribution for Weber/Davis/Salt Lake/Utah Counties')\n",
    "plt.legend(title='Trip Type')\n",
    "\n",
    "# Set x-axis limit if the x-values are numeric and continuous, otherwise ensure your data points are ordered correctly\n",
    "# plt.xlim(0, 100)\n",
    "\n",
    "# Show the plot\n",
    "plt.show()"
   ]
  },
  {
   "cell_type": "markdown",
   "metadata": {},
   "source": [
    "## Plotly"
   ]
  },
  {
   "cell_type": "code",
   "execution_count": 123,
   "metadata": {},
   "outputs": [
    {
     "data": {
      "application/vnd.plotly.v1+json": {
       "config": {
        "plotlyServerURL": "https://plot.ly"
       },
       "data": [
        {
         "hovertemplate": "Trip Type=1-Home-based work<br>Distance Traveled (miles)=%{x}<br>Percentage=%{y}<extra></extra>",
         "legendgroup": "1-Home-based work",
         "line": {
          "color": "#636efa",
          "dash": "solid"
         },
         "marker": {
          "symbol": "circle"
         },
         "mode": "lines",
         "name": "1-Home-based work",
         "orientation": "v",
         "showlegend": true,
         "type": "scatter",
         "x": [
          0,
          2,
          4,
          6,
          8,
          10,
          12,
          14,
          16,
          18,
          20,
          22,
          24,
          26,
          28,
          30,
          32,
          34,
          36,
          38,
          40,
          42,
          44,
          46,
          48,
          50,
          52,
          54,
          56,
          58,
          60
         ],
         "xaxis": "x",
         "y": [
          16.63432579184402,
          16.0332569760466,
          11.174717458683556,
          10.66829221335926,
          8.106052958640289,
          6.0173838254716525,
          5.342800162094661,
          5.534043164431268,
          2.819285381867345,
          2.6377277729666027,
          2.9733979540537994,
          1.7096817631720627,
          1.944513394694845,
          0.9461446164598257,
          1.0384933037073947,
          0.7559438949061222,
          0.48799492159111457,
          0.8842229600965973,
          0.5161258186682547,
          0.9407066089076118,
          0.5201324783660076,
          0.3284070340490312,
          0.29539679600363433,
          0.20674204793976642,
          0.08464696267768257,
          0.03346409992191299,
          0.11996980968570689,
          0.057374561720485086,
          0.08929914195742597,
          0.21626137632684522,
          0.14584395927275032
         ],
         "yaxis": "y"
        },
        {
         "hovertemplate": "Trip Type=2-Home-based school<br>Distance Traveled (miles)=%{x}<br>Percentage=%{y}<extra></extra>",
         "legendgroup": "2-Home-based school",
         "line": {
          "color": "#EF553B",
          "dash": "solid"
         },
         "marker": {
          "symbol": "circle"
         },
         "mode": "lines",
         "name": "2-Home-based school",
         "orientation": "v",
         "showlegend": true,
         "type": "scatter",
         "x": [
          0,
          2,
          4,
          6,
          8,
          10,
          12,
          14,
          16,
          18,
          20,
          22,
          24,
          26,
          28,
          30,
          32,
          34,
          36,
          38,
          40,
          42,
          44,
          46,
          48,
          50,
          52,
          54,
          56,
          58,
          60
         ],
         "xaxis": "x",
         "y": [
          43.41606104547247,
          22.828853666233396,
          9.375660658262154,
          7.686490445918448,
          3.7095519602985996,
          2.7855822198504008,
          2.0056731963328915,
          0.846162465912202,
          2.0073785931539017,
          0.8978582615588032,
          0.4849239799501782,
          1.073372149936091,
          0.537609580738955,
          0.34555237917468934,
          0.45118742300608056,
          0.039020508512130236,
          0.19739477420045123,
          0.09725468704988714,
          0.3964923767448481,
          0.0712540075014671,
          0.004869538863540433,
          0.1566106435220392,
          0.04742249119287944,
          0.0305502995843696,
          0.013397728787618302,
          0.28759246892059104,
          0,
          0.023383775269956705,
          0.0008714912013127669,
          0,
          0.0019973009883608927
         ],
         "yaxis": "y"
        },
        {
         "hovertemplate": "Trip Type=3-Home-based shopping<br>Distance Traveled (miles)=%{x}<br>Percentage=%{y}<extra></extra>",
         "legendgroup": "3-Home-based shopping",
         "line": {
          "color": "#00cc96",
          "dash": "solid"
         },
         "marker": {
          "symbol": "circle"
         },
         "mode": "lines",
         "name": "3-Home-based shopping",
         "orientation": "v",
         "showlegend": true,
         "type": "scatter",
         "x": [
          0,
          2,
          4,
          6,
          8,
          10,
          12,
          14,
          16,
          18,
          20,
          22,
          24,
          26,
          28,
          30,
          32,
          34,
          36,
          38,
          40,
          42,
          44,
          46,
          48,
          50,
          52,
          54,
          56,
          58,
          60
         ],
         "xaxis": "x",
         "y": [
          36.94194383527108,
          32.47312618720333,
          12.107101226294228,
          5.412726348201718,
          4.043011578827636,
          2.0928112730253665,
          1.3363012136550882,
          0.8023843982370391,
          0.6631502405429666,
          0.2563586785548868,
          0.4651450641881702,
          0.24460318781059526,
          0.48745604029994505,
          0.4550257441146931,
          0.5668134495882712,
          0.06681692788339182,
          0.13785268477451068,
          0.03284668049222761,
          0.13320118693657135,
          0.16397589003443136,
          0.10757868345686063,
          0.047836674235246505,
          0.0819945796873988,
          0.20754067495233822,
          0.038277003723862356,
          0.005232381659568746,
          0.009229958662600075,
          0.1751914199830835,
          0.0061200007890767506,
          0,
          0
         ],
         "yaxis": "y"
        },
        {
         "hovertemplate": "Trip Type=4-Home-based personal business<br>Distance Traveled (miles)=%{x}<br>Percentage=%{y}<extra></extra>",
         "legendgroup": "4-Home-based personal business",
         "line": {
          "color": "#ab63fa",
          "dash": "solid"
         },
         "marker": {
          "symbol": "circle"
         },
         "mode": "lines",
         "name": "4-Home-based personal business",
         "orientation": "v",
         "showlegend": true,
         "type": "scatter",
         "x": [
          0,
          2,
          4,
          6,
          8,
          10,
          12,
          14,
          16,
          18,
          20,
          22,
          24,
          26,
          28,
          30,
          32,
          34,
          36,
          38,
          40,
          42,
          44,
          46,
          48,
          50,
          52,
          54,
          56,
          58
         ],
         "xaxis": "x",
         "y": [
          26.05308674595318,
          28.3843775296862,
          10.689117881425005,
          9.370199358172878,
          4.5503355305523,
          3.9579926350317236,
          2.5950572964006247,
          2.1637152965868256,
          1.8229555602942513,
          2.6747668923034005,
          1.7837619858281855,
          1.2495321778128878,
          0.5913422651636818,
          0.8222252231874598,
          0.46814394323659764,
          0.5652118049347271,
          0.7334856605017863,
          0.8603335895770123,
          0.020979437746112602,
          0.17858104586332857,
          0.04960192480262202,
          0.04775990630817869,
          0.012791215772690906,
          0.0025630067594122315,
          0.22407907958220946,
          0,
          0.015888138196801453,
          0,
          0,
          0.006968605879719298
         ],
         "yaxis": "y"
        },
        {
         "hovertemplate": "Trip Type=5-Home-based other<br>Distance Traveled (miles)=%{x}<br>Percentage=%{y}<extra></extra>",
         "legendgroup": "5-Home-based other",
         "line": {
          "color": "#FFA15A",
          "dash": "solid"
         },
         "marker": {
          "symbol": "circle"
         },
         "mode": "lines",
         "name": "5-Home-based other",
         "orientation": "v",
         "showlegend": true,
         "type": "scatter",
         "x": [
          0,
          2,
          4,
          6,
          8,
          10,
          12,
          14,
          16,
          18,
          20,
          22,
          24,
          26,
          28,
          30,
          32,
          34,
          36,
          38,
          40,
          42,
          44,
          46,
          48,
          50,
          52,
          54,
          56,
          58,
          60
         ],
         "xaxis": "x",
         "y": [
          43.19726750020399,
          22.275327305545353,
          9.639844613474702,
          6.467555180000993,
          3.7686815137267327,
          2.904379465128859,
          2.0931446509585947,
          1.4097991249464643,
          1.4020951203606207,
          0.7278553153518075,
          0.8606071748125093,
          0.7050962827724376,
          0.8178906594434536,
          0.6153099944914141,
          0.48840077084980804,
          0.22644501851685667,
          0.25982521506911077,
          0.24235666642626855,
          0.22044486645406233,
          0.17469326776144334,
          0.11423529960407747,
          0.07697323298099494,
          0.2000502156733648,
          0.12909249100399414,
          0.0530229824097482,
          0.03481292276741466,
          0.06509340480895758,
          0.008481070925983755,
          0.09118068550155166,
          0.11997037032452157,
          0.030330947078382284
         ],
         "yaxis": "y"
        },
        {
         "hovertemplate": "Trip Type=6-Non-home-based work<br>Distance Traveled (miles)=%{x}<br>Percentage=%{y}<extra></extra>",
         "legendgroup": "6-Non-home-based work",
         "line": {
          "color": "#19d3f3",
          "dash": "solid"
         },
         "marker": {
          "symbol": "circle"
         },
         "mode": "lines",
         "name": "6-Non-home-based work",
         "orientation": "v",
         "showlegend": true,
         "type": "scatter",
         "x": [
          0,
          2,
          4,
          6,
          8,
          10,
          12,
          14,
          16,
          18,
          20,
          22,
          24,
          26,
          28,
          30,
          32,
          34,
          36,
          38,
          40,
          42,
          44,
          46,
          48,
          50,
          52,
          54,
          56,
          58,
          60
         ],
         "xaxis": "x",
         "y": [
          33.197024816767616,
          19.035599957081676,
          11.170873541731021,
          6.913293128003192,
          4.85231673510496,
          3.5703721914347364,
          3.3083191939529537,
          3.4088360658355508,
          2.4010579794825615,
          1.408206821850701,
          0.9882137004259837,
          1.133458578833118,
          1.3191081618225087,
          0.5764137642026869,
          1.066554798471301,
          0.6441150738784713,
          0.4432908629678181,
          0.3496022414929022,
          0.4640966238188377,
          0.29763417828251204,
          0.38875864924891046,
          0.38788388938077917,
          0.3988808566059901,
          0.14945967772907237,
          0.22801915519487606,
          0.057852902765709445,
          0.08969442043704981,
          0.07945566015130814,
          0.11559782948394033,
          0.13925653165124433,
          0.2764351355930901
         ],
         "yaxis": "y"
        },
        {
         "hovertemplate": "Trip Type=7-Non-home-based non-work<br>Distance Traveled (miles)=%{x}<br>Percentage=%{y}<extra></extra>",
         "legendgroup": "7-Non-home-based non-work",
         "line": {
          "color": "#FF6692",
          "dash": "solid"
         },
         "marker": {
          "symbol": "circle"
         },
         "mode": "lines",
         "name": "7-Non-home-based non-work",
         "orientation": "v",
         "showlegend": true,
         "type": "scatter",
         "x": [
          0,
          2,
          4,
          6,
          8,
          10,
          12,
          14,
          16,
          18,
          20,
          22,
          24,
          26,
          28,
          30,
          32,
          34,
          36,
          38,
          40,
          42,
          44,
          46,
          48,
          50,
          52,
          54,
          56,
          58,
          60
         ],
         "xaxis": "x",
         "y": [
          38.15045766960854,
          22.66251093662647,
          10.938140264149483,
          5.755768363003831,
          4.584147671128401,
          2.76509830311143,
          3.5646706066047744,
          2.203314011454309,
          1.4089492915926374,
          1.1977495488910352,
          1.1294291487969983,
          0.6598597090695513,
          0.5249459437819859,
          0.2581636271587463,
          0.2454678235217971,
          0.49246045550975226,
          0.3766249329933185,
          0.6330561455191714,
          0.6988368328930554,
          0.16797330689823234,
          0.06007738279624077,
          0.18215676158431196,
          0.21558228825839496,
          0.07291132707610498,
          0.048032157776921505,
          0.051190632036331556,
          0.012126864827388418,
          0.017397248088975085,
          0.0672634467244307,
          0.16602834123439736,
          0.033338189532526825
         ],
         "yaxis": "y"
        },
        {
         "hovertemplate": "Trip Type=995-Missing response<br>Distance Traveled (miles)=%{x}<br>Percentage=%{y}<extra></extra>",
         "legendgroup": "995-Missing response",
         "line": {
          "color": "#B6E880",
          "dash": "solid"
         },
         "marker": {
          "symbol": "circle"
         },
         "mode": "lines",
         "name": "995-Missing response",
         "orientation": "v",
         "showlegend": true,
         "type": "scatter",
         "x": [
          0,
          2,
          4,
          6,
          8,
          10,
          12,
          14,
          16,
          18,
          20,
          22,
          24,
          26,
          28,
          30,
          32,
          34,
          36,
          38,
          40,
          42,
          44,
          46,
          48,
          50,
          52,
          54,
          56,
          58,
          60
         ],
         "xaxis": "x",
         "y": [
          35.884457242691056,
          21.882487039212645,
          10.674025956942975,
          7.279454037632091,
          4.6405992953878155,
          3.4651138541177495,
          3.4938376719892603,
          2.576525610652326,
          1.2839203002649286,
          1.389989808926248,
          0.7629460039380324,
          0.887656744407065,
          0.7464722582619963,
          0.6696555135293306,
          0.4610046865938553,
          0.3025417173927363,
          0.35729399335593404,
          0.4332042818342334,
          0.3207287664310064,
          0.12802987566444027,
          0.15635235471701403,
          0.2870595083531497,
          0.024296985386111004,
          0.12052281492010662,
          0.033354194621205695,
          0.1385220796677469,
          0.16452744383461693,
          0.1109944892319424,
          0.1967673139525713,
          0.049375644968220056,
          0.012940791625234274
         ],
         "yaxis": "y"
        }
       ],
       "layout": {
        "legend": {
         "title": {
          "text": "Trip Type"
         },
         "tracegroupgap": 0
        },
        "template": {
         "data": {
          "bar": [
           {
            "error_x": {
             "color": "#2a3f5f"
            },
            "error_y": {
             "color": "#2a3f5f"
            },
            "marker": {
             "line": {
              "color": "#E5ECF6",
              "width": 0.5
             },
             "pattern": {
              "fillmode": "overlay",
              "size": 10,
              "solidity": 0.2
             }
            },
            "type": "bar"
           }
          ],
          "barpolar": [
           {
            "marker": {
             "line": {
              "color": "#E5ECF6",
              "width": 0.5
             },
             "pattern": {
              "fillmode": "overlay",
              "size": 10,
              "solidity": 0.2
             }
            },
            "type": "barpolar"
           }
          ],
          "carpet": [
           {
            "aaxis": {
             "endlinecolor": "#2a3f5f",
             "gridcolor": "white",
             "linecolor": "white",
             "minorgridcolor": "white",
             "startlinecolor": "#2a3f5f"
            },
            "baxis": {
             "endlinecolor": "#2a3f5f",
             "gridcolor": "white",
             "linecolor": "white",
             "minorgridcolor": "white",
             "startlinecolor": "#2a3f5f"
            },
            "type": "carpet"
           }
          ],
          "choropleth": [
           {
            "colorbar": {
             "outlinewidth": 0,
             "ticks": ""
            },
            "type": "choropleth"
           }
          ],
          "contour": [
           {
            "colorbar": {
             "outlinewidth": 0,
             "ticks": ""
            },
            "colorscale": [
             [
              0,
              "#0d0887"
             ],
             [
              0.1111111111111111,
              "#46039f"
             ],
             [
              0.2222222222222222,
              "#7201a8"
             ],
             [
              0.3333333333333333,
              "#9c179e"
             ],
             [
              0.4444444444444444,
              "#bd3786"
             ],
             [
              0.5555555555555556,
              "#d8576b"
             ],
             [
              0.6666666666666666,
              "#ed7953"
             ],
             [
              0.7777777777777778,
              "#fb9f3a"
             ],
             [
              0.8888888888888888,
              "#fdca26"
             ],
             [
              1,
              "#f0f921"
             ]
            ],
            "type": "contour"
           }
          ],
          "contourcarpet": [
           {
            "colorbar": {
             "outlinewidth": 0,
             "ticks": ""
            },
            "type": "contourcarpet"
           }
          ],
          "heatmap": [
           {
            "colorbar": {
             "outlinewidth": 0,
             "ticks": ""
            },
            "colorscale": [
             [
              0,
              "#0d0887"
             ],
             [
              0.1111111111111111,
              "#46039f"
             ],
             [
              0.2222222222222222,
              "#7201a8"
             ],
             [
              0.3333333333333333,
              "#9c179e"
             ],
             [
              0.4444444444444444,
              "#bd3786"
             ],
             [
              0.5555555555555556,
              "#d8576b"
             ],
             [
              0.6666666666666666,
              "#ed7953"
             ],
             [
              0.7777777777777778,
              "#fb9f3a"
             ],
             [
              0.8888888888888888,
              "#fdca26"
             ],
             [
              1,
              "#f0f921"
             ]
            ],
            "type": "heatmap"
           }
          ],
          "heatmapgl": [
           {
            "colorbar": {
             "outlinewidth": 0,
             "ticks": ""
            },
            "colorscale": [
             [
              0,
              "#0d0887"
             ],
             [
              0.1111111111111111,
              "#46039f"
             ],
             [
              0.2222222222222222,
              "#7201a8"
             ],
             [
              0.3333333333333333,
              "#9c179e"
             ],
             [
              0.4444444444444444,
              "#bd3786"
             ],
             [
              0.5555555555555556,
              "#d8576b"
             ],
             [
              0.6666666666666666,
              "#ed7953"
             ],
             [
              0.7777777777777778,
              "#fb9f3a"
             ],
             [
              0.8888888888888888,
              "#fdca26"
             ],
             [
              1,
              "#f0f921"
             ]
            ],
            "type": "heatmapgl"
           }
          ],
          "histogram": [
           {
            "marker": {
             "pattern": {
              "fillmode": "overlay",
              "size": 10,
              "solidity": 0.2
             }
            },
            "type": "histogram"
           }
          ],
          "histogram2d": [
           {
            "colorbar": {
             "outlinewidth": 0,
             "ticks": ""
            },
            "colorscale": [
             [
              0,
              "#0d0887"
             ],
             [
              0.1111111111111111,
              "#46039f"
             ],
             [
              0.2222222222222222,
              "#7201a8"
             ],
             [
              0.3333333333333333,
              "#9c179e"
             ],
             [
              0.4444444444444444,
              "#bd3786"
             ],
             [
              0.5555555555555556,
              "#d8576b"
             ],
             [
              0.6666666666666666,
              "#ed7953"
             ],
             [
              0.7777777777777778,
              "#fb9f3a"
             ],
             [
              0.8888888888888888,
              "#fdca26"
             ],
             [
              1,
              "#f0f921"
             ]
            ],
            "type": "histogram2d"
           }
          ],
          "histogram2dcontour": [
           {
            "colorbar": {
             "outlinewidth": 0,
             "ticks": ""
            },
            "colorscale": [
             [
              0,
              "#0d0887"
             ],
             [
              0.1111111111111111,
              "#46039f"
             ],
             [
              0.2222222222222222,
              "#7201a8"
             ],
             [
              0.3333333333333333,
              "#9c179e"
             ],
             [
              0.4444444444444444,
              "#bd3786"
             ],
             [
              0.5555555555555556,
              "#d8576b"
             ],
             [
              0.6666666666666666,
              "#ed7953"
             ],
             [
              0.7777777777777778,
              "#fb9f3a"
             ],
             [
              0.8888888888888888,
              "#fdca26"
             ],
             [
              1,
              "#f0f921"
             ]
            ],
            "type": "histogram2dcontour"
           }
          ],
          "mesh3d": [
           {
            "colorbar": {
             "outlinewidth": 0,
             "ticks": ""
            },
            "type": "mesh3d"
           }
          ],
          "parcoords": [
           {
            "line": {
             "colorbar": {
              "outlinewidth": 0,
              "ticks": ""
             }
            },
            "type": "parcoords"
           }
          ],
          "pie": [
           {
            "automargin": true,
            "type": "pie"
           }
          ],
          "scatter": [
           {
            "fillpattern": {
             "fillmode": "overlay",
             "size": 10,
             "solidity": 0.2
            },
            "type": "scatter"
           }
          ],
          "scatter3d": [
           {
            "line": {
             "colorbar": {
              "outlinewidth": 0,
              "ticks": ""
             }
            },
            "marker": {
             "colorbar": {
              "outlinewidth": 0,
              "ticks": ""
             }
            },
            "type": "scatter3d"
           }
          ],
          "scattercarpet": [
           {
            "marker": {
             "colorbar": {
              "outlinewidth": 0,
              "ticks": ""
             }
            },
            "type": "scattercarpet"
           }
          ],
          "scattergeo": [
           {
            "marker": {
             "colorbar": {
              "outlinewidth": 0,
              "ticks": ""
             }
            },
            "type": "scattergeo"
           }
          ],
          "scattergl": [
           {
            "marker": {
             "colorbar": {
              "outlinewidth": 0,
              "ticks": ""
             }
            },
            "type": "scattergl"
           }
          ],
          "scattermapbox": [
           {
            "marker": {
             "colorbar": {
              "outlinewidth": 0,
              "ticks": ""
             }
            },
            "type": "scattermapbox"
           }
          ],
          "scatterpolar": [
           {
            "marker": {
             "colorbar": {
              "outlinewidth": 0,
              "ticks": ""
             }
            },
            "type": "scatterpolar"
           }
          ],
          "scatterpolargl": [
           {
            "marker": {
             "colorbar": {
              "outlinewidth": 0,
              "ticks": ""
             }
            },
            "type": "scatterpolargl"
           }
          ],
          "scatterternary": [
           {
            "marker": {
             "colorbar": {
              "outlinewidth": 0,
              "ticks": ""
             }
            },
            "type": "scatterternary"
           }
          ],
          "surface": [
           {
            "colorbar": {
             "outlinewidth": 0,
             "ticks": ""
            },
            "colorscale": [
             [
              0,
              "#0d0887"
             ],
             [
              0.1111111111111111,
              "#46039f"
             ],
             [
              0.2222222222222222,
              "#7201a8"
             ],
             [
              0.3333333333333333,
              "#9c179e"
             ],
             [
              0.4444444444444444,
              "#bd3786"
             ],
             [
              0.5555555555555556,
              "#d8576b"
             ],
             [
              0.6666666666666666,
              "#ed7953"
             ],
             [
              0.7777777777777778,
              "#fb9f3a"
             ],
             [
              0.8888888888888888,
              "#fdca26"
             ],
             [
              1,
              "#f0f921"
             ]
            ],
            "type": "surface"
           }
          ],
          "table": [
           {
            "cells": {
             "fill": {
              "color": "#EBF0F8"
             },
             "line": {
              "color": "white"
             }
            },
            "header": {
             "fill": {
              "color": "#C8D4E3"
             },
             "line": {
              "color": "white"
             }
            },
            "type": "table"
           }
          ]
         },
         "layout": {
          "annotationdefaults": {
           "arrowcolor": "#2a3f5f",
           "arrowhead": 0,
           "arrowwidth": 1
          },
          "autotypenumbers": "strict",
          "coloraxis": {
           "colorbar": {
            "outlinewidth": 0,
            "ticks": ""
           }
          },
          "colorscale": {
           "diverging": [
            [
             0,
             "#8e0152"
            ],
            [
             0.1,
             "#c51b7d"
            ],
            [
             0.2,
             "#de77ae"
            ],
            [
             0.3,
             "#f1b6da"
            ],
            [
             0.4,
             "#fde0ef"
            ],
            [
             0.5,
             "#f7f7f7"
            ],
            [
             0.6,
             "#e6f5d0"
            ],
            [
             0.7,
             "#b8e186"
            ],
            [
             0.8,
             "#7fbc41"
            ],
            [
             0.9,
             "#4d9221"
            ],
            [
             1,
             "#276419"
            ]
           ],
           "sequential": [
            [
             0,
             "#0d0887"
            ],
            [
             0.1111111111111111,
             "#46039f"
            ],
            [
             0.2222222222222222,
             "#7201a8"
            ],
            [
             0.3333333333333333,
             "#9c179e"
            ],
            [
             0.4444444444444444,
             "#bd3786"
            ],
            [
             0.5555555555555556,
             "#d8576b"
            ],
            [
             0.6666666666666666,
             "#ed7953"
            ],
            [
             0.7777777777777778,
             "#fb9f3a"
            ],
            [
             0.8888888888888888,
             "#fdca26"
            ],
            [
             1,
             "#f0f921"
            ]
           ],
           "sequentialminus": [
            [
             0,
             "#0d0887"
            ],
            [
             0.1111111111111111,
             "#46039f"
            ],
            [
             0.2222222222222222,
             "#7201a8"
            ],
            [
             0.3333333333333333,
             "#9c179e"
            ],
            [
             0.4444444444444444,
             "#bd3786"
            ],
            [
             0.5555555555555556,
             "#d8576b"
            ],
            [
             0.6666666666666666,
             "#ed7953"
            ],
            [
             0.7777777777777778,
             "#fb9f3a"
            ],
            [
             0.8888888888888888,
             "#fdca26"
            ],
            [
             1,
             "#f0f921"
            ]
           ]
          },
          "colorway": [
           "#636efa",
           "#EF553B",
           "#00cc96",
           "#ab63fa",
           "#FFA15A",
           "#19d3f3",
           "#FF6692",
           "#B6E880",
           "#FF97FF",
           "#FECB52"
          ],
          "font": {
           "color": "#2a3f5f"
          },
          "geo": {
           "bgcolor": "white",
           "lakecolor": "white",
           "landcolor": "#E5ECF6",
           "showlakes": true,
           "showland": true,
           "subunitcolor": "white"
          },
          "hoverlabel": {
           "align": "left"
          },
          "hovermode": "closest",
          "mapbox": {
           "style": "light"
          },
          "paper_bgcolor": "white",
          "plot_bgcolor": "#E5ECF6",
          "polar": {
           "angularaxis": {
            "gridcolor": "white",
            "linecolor": "white",
            "ticks": ""
           },
           "bgcolor": "#E5ECF6",
           "radialaxis": {
            "gridcolor": "white",
            "linecolor": "white",
            "ticks": ""
           }
          },
          "scene": {
           "xaxis": {
            "backgroundcolor": "#E5ECF6",
            "gridcolor": "white",
            "gridwidth": 2,
            "linecolor": "white",
            "showbackground": true,
            "ticks": "",
            "zerolinecolor": "white"
           },
           "yaxis": {
            "backgroundcolor": "#E5ECF6",
            "gridcolor": "white",
            "gridwidth": 2,
            "linecolor": "white",
            "showbackground": true,
            "ticks": "",
            "zerolinecolor": "white"
           },
           "zaxis": {
            "backgroundcolor": "#E5ECF6",
            "gridcolor": "white",
            "gridwidth": 2,
            "linecolor": "white",
            "showbackground": true,
            "ticks": "",
            "zerolinecolor": "white"
           }
          },
          "shapedefaults": {
           "line": {
            "color": "#2a3f5f"
           }
          },
          "ternary": {
           "aaxis": {
            "gridcolor": "white",
            "linecolor": "white",
            "ticks": ""
           },
           "baxis": {
            "gridcolor": "white",
            "linecolor": "white",
            "ticks": ""
           },
           "bgcolor": "#E5ECF6",
           "caxis": {
            "gridcolor": "white",
            "linecolor": "white",
            "ticks": ""
           }
          },
          "title": {
           "x": 0.05
          },
          "xaxis": {
           "automargin": true,
           "gridcolor": "white",
           "linecolor": "white",
           "ticks": "",
           "title": {
            "standoff": 15
           },
           "zerolinecolor": "white",
           "zerolinewidth": 2
          },
          "yaxis": {
           "automargin": true,
           "gridcolor": "white",
           "linecolor": "white",
           "ticks": "",
           "title": {
            "standoff": 15
           },
           "zerolinecolor": "white",
           "zerolinewidth": 2
          }
         }
        },
        "title": {
         "text": "Trip Distance Distribution for Weber/Davis/Salt Lake/Utah Counties"
        },
        "xaxis": {
         "anchor": "y",
         "domain": [
          0,
          1
         ],
         "title": {
          "text": "Distance Traveled (miles)"
         }
        },
        "yaxis": {
         "anchor": "x",
         "domain": [
          0,
          1
         ],
         "title": {
          "text": "Percentage of Trips"
         }
        }
       }
      }
     },
     "metadata": {},
     "output_type": "display_data"
    }
   ],
   "source": [
    "import plotly.express as px\n",
    "\n",
    "# Create an interactive line graph\n",
    "fig = px.line(\n",
    "    filtered_grouped,\n",
    "    x='distance_miles_2mibin',\n",
    "    y='percentage',\n",
    "    color='Trip Type',\n",
    "    #markers=True,  # This adds markers to each point\n",
    "    labels={\n",
    "        'distance_miles_2mibin': 'Distance Traveled (miles)',\n",
    "        'percentage': 'Percentage'\n",
    "    },\n",
    "    title='Trip Distance Distribution for Weber/Davis/Salt Lake/Utah Counties'\n",
    "    \n",
    ")\n",
    "\n",
    "# Update layout if necessary\n",
    "fig.update_layout(\n",
    "    xaxis_title='Distance Traveled (miles)',\n",
    "    yaxis_title='Percentage of Trips',\n",
    "    legend_title='Trip Type'\n",
    ")\n",
    "\n",
    "# Show the plot\n",
    "fig.show()"
   ]
  },
  {
   "cell_type": "markdown",
   "metadata": {},
   "source": [
    "## Plotly Cumulative Distribution"
   ]
  },
  {
   "cell_type": "code",
   "execution_count": 108,
   "metadata": {},
   "outputs": [],
   "source": [
    "# Assuming 'filtered_grouped' is a DataFrame that has been grouped appropriately\n",
    "filtered_grouped['cumulative_percentage'] = filtered_grouped.groupby('Trip Type')['percentage'].cumsum()"
   ]
  },
  {
   "cell_type": "code",
   "execution_count": 109,
   "metadata": {},
   "outputs": [
    {
     "data": {
      "application/vnd.plotly.v1+json": {
       "config": {
        "plotlyServerURL": "https://plot.ly"
       },
       "data": [
        {
         "hovertemplate": "Trip Type=1-Home-based work<br>Distance Traveled (miles)=%{x}<br>Cumulative Percentage=%{y}<extra></extra>",
         "legendgroup": "1-Home-based work",
         "line": {
          "color": "#636efa",
          "dash": "solid"
         },
         "marker": {
          "symbol": "circle"
         },
         "mode": "lines",
         "name": "1-Home-based work",
         "orientation": "v",
         "showlegend": true,
         "type": "scatter",
         "x": [
          0,
          2,
          4,
          6,
          8,
          10,
          12,
          14,
          16,
          18,
          20,
          22,
          24,
          26,
          28,
          30,
          32,
          34,
          36,
          38,
          40,
          42,
          44,
          46,
          48,
          50,
          52,
          54,
          56,
          58,
          60
         ],
         "xaxis": "x",
         "y": [
          16.63432579184402,
          32.66758276789062,
          43.84230022657418,
          54.51059243993344,
          62.61664539857372,
          68.63402922404538,
          73.97682938614004,
          79.5108725505713,
          82.33015793243865,
          84.96788570540525,
          87.94128365945906,
          89.65096542263112,
          91.59547881732597,
          92.54162343378579,
          93.58011673749319,
          94.33606063239931,
          94.82405555399042,
          95.70827851408701,
          96.22440433275527,
          97.16511094166289,
          97.6852434200289,
          98.01365045407792,
          98.30904725008156,
          98.51578929802132,
          98.60043626069901,
          98.63390036062091,
          98.75387017030663,
          98.8112447320271,
          98.90054387398453,
          99.11680525031139,
          99.26264920958414
         ],
         "yaxis": "y"
        },
        {
         "hovertemplate": "Trip Type=2-Home-based school<br>Distance Traveled (miles)=%{x}<br>Cumulative Percentage=%{y}<extra></extra>",
         "legendgroup": "2-Home-based school",
         "line": {
          "color": "#EF553B",
          "dash": "solid"
         },
         "marker": {
          "symbol": "circle"
         },
         "mode": "lines",
         "name": "2-Home-based school",
         "orientation": "v",
         "showlegend": true,
         "type": "scatter",
         "x": [
          0,
          2,
          4,
          6,
          8,
          10,
          12,
          14,
          16,
          18,
          20,
          22,
          24,
          26,
          28,
          30,
          32,
          34,
          36,
          38,
          40,
          42,
          44,
          46,
          48,
          50,
          52,
          54,
          56,
          58,
          60
         ],
         "xaxis": "x",
         "y": [
          43.41606104547247,
          66.24491471170586,
          75.62057536996802,
          83.30706581588646,
          87.01661777618507,
          89.80219999603547,
          91.80787319236836,
          92.65403565828056,
          94.66141425143446,
          95.55927251299326,
          96.04419649294344,
          97.11756864287953,
          97.65517822361849,
          98.00073060279318,
          98.45191802579926,
          98.49093853431138,
          98.68833330851184,
          98.78558799556173,
          99.18208037230657,
          99.25333437980804,
          99.25820391867158,
          99.41481456219363,
          99.4622370533865,
          99.49278735297086,
          99.50618508175849,
          99.79377755067908,
          99.79377755067908,
          99.81716132594904,
          99.81803281715035,
          99.81803281715035,
          99.82003011813872
         ],
         "yaxis": "y"
        },
        {
         "hovertemplate": "Trip Type=3-Home-based shopping<br>Distance Traveled (miles)=%{x}<br>Cumulative Percentage=%{y}<extra></extra>",
         "legendgroup": "3-Home-based shopping",
         "line": {
          "color": "#00cc96",
          "dash": "solid"
         },
         "marker": {
          "symbol": "circle"
         },
         "mode": "lines",
         "name": "3-Home-based shopping",
         "orientation": "v",
         "showlegend": true,
         "type": "scatter",
         "x": [
          0,
          2,
          4,
          6,
          8,
          10,
          12,
          14,
          16,
          18,
          20,
          22,
          24,
          26,
          28,
          30,
          32,
          34,
          36,
          38,
          40,
          42,
          44,
          46,
          48,
          50,
          52,
          54,
          56,
          58,
          60
         ],
         "xaxis": "x",
         "y": [
          36.94194383527108,
          69.41507002247441,
          81.52217124876864,
          86.93489759697036,
          90.97790917579799,
          93.07072044882337,
          94.40702166247844,
          95.20940606071548,
          95.87255630125846,
          96.12891497981335,
          96.59406004400151,
          96.8386632318121,
          97.32611927211205,
          97.78114501622674,
          98.34795846581501,
          98.4147753936984,
          98.55262807847292,
          98.58547475896515,
          98.71867594590172,
          98.88265183593614,
          98.99023051939301,
          99.03806719362825,
          99.12006177331565,
          99.327602448268,
          99.36587945199186,
          99.37111183365143,
          99.38034179231403,
          99.5555332122971,
          99.56165321308619,
          99.56165321308619,
          99.56165321308619
         ],
         "yaxis": "y"
        },
        {
         "hovertemplate": "Trip Type=4-Home-based personal business<br>Distance Traveled (miles)=%{x}<br>Cumulative Percentage=%{y}<extra></extra>",
         "legendgroup": "4-Home-based personal business",
         "line": {
          "color": "#ab63fa",
          "dash": "solid"
         },
         "marker": {
          "symbol": "circle"
         },
         "mode": "lines",
         "name": "4-Home-based personal business",
         "orientation": "v",
         "showlegend": true,
         "type": "scatter",
         "x": [
          0,
          2,
          4,
          6,
          8,
          10,
          12,
          14,
          16,
          18,
          20,
          22,
          24,
          26,
          28,
          30,
          32,
          34,
          36,
          38,
          40,
          42,
          44,
          46,
          48,
          50,
          52,
          54,
          56,
          58
         ],
         "xaxis": "x",
         "y": [
          26.05308674595318,
          54.437464275639385,
          65.12658215706439,
          74.49678151523726,
          79.04711704578956,
          83.00510968082129,
          85.60016697722192,
          87.76388227380873,
          89.586837834103,
          92.26160472640639,
          94.04536671223458,
          95.29489889004746,
          95.88624115521115,
          96.70846637839861,
          97.17661032163521,
          97.74182212656993,
          98.47530778707171,
          99.33564137664872,
          99.35662081439484,
          99.53520186025817,
          99.5848037850608,
          99.63256369136897,
          99.64535490714167,
          99.64791791390107,
          99.87199699348328,
          99.87199699348328,
          99.88788513168008,
          99.88788513168008,
          99.88788513168008,
          99.8948537375598
         ],
         "yaxis": "y"
        },
        {
         "hovertemplate": "Trip Type=5-Home-based other<br>Distance Traveled (miles)=%{x}<br>Cumulative Percentage=%{y}<extra></extra>",
         "legendgroup": "5-Home-based other",
         "line": {
          "color": "#FFA15A",
          "dash": "solid"
         },
         "marker": {
          "symbol": "circle"
         },
         "mode": "lines",
         "name": "5-Home-based other",
         "orientation": "v",
         "showlegend": true,
         "type": "scatter",
         "x": [
          0,
          2,
          4,
          6,
          8,
          10,
          12,
          14,
          16,
          18,
          20,
          22,
          24,
          26,
          28,
          30,
          32,
          34,
          36,
          38,
          40,
          42,
          44,
          46,
          48,
          50,
          52,
          54,
          56,
          58,
          60
         ],
         "xaxis": "x",
         "y": [
          43.19726750020399,
          65.47259480574934,
          75.11243941922405,
          81.57999459922505,
          85.34867611295178,
          88.25305557808063,
          90.34620022903923,
          91.75599935398569,
          93.15809447434631,
          93.88594978969812,
          94.74655696451063,
          95.45165324728306,
          96.26954390672653,
          96.88485390121794,
          97.37325467206774,
          97.5996996905846,
          97.85952490565371,
          98.10188157207998,
          98.32232643853403,
          98.49701970629549,
          98.61125500589957,
          98.68822823888055,
          98.88827845455393,
          99.01737094555791,
          99.07039392796766,
          99.10520685073507,
          99.17030025554403,
          99.17878132647002,
          99.26996201197157,
          99.3899323822961,
          99.42026332937448
         ],
         "yaxis": "y"
        },
        {
         "hovertemplate": "Trip Type=6-Non-home-based work<br>Distance Traveled (miles)=%{x}<br>Cumulative Percentage=%{y}<extra></extra>",
         "legendgroup": "6-Non-home-based work",
         "line": {
          "color": "#19d3f3",
          "dash": "solid"
         },
         "marker": {
          "symbol": "circle"
         },
         "mode": "lines",
         "name": "6-Non-home-based work",
         "orientation": "v",
         "showlegend": true,
         "type": "scatter",
         "x": [
          0,
          2,
          4,
          6,
          8,
          10,
          12,
          14,
          16,
          18,
          20,
          22,
          24,
          26,
          28,
          30,
          32,
          34,
          36,
          38,
          40,
          42,
          44,
          46,
          48,
          50,
          52,
          54,
          56,
          58,
          60
         ],
         "xaxis": "x",
         "y": [
          33.197024816767616,
          52.232624773849295,
          63.403498315580315,
          70.31679144358351,
          75.16910817868846,
          78.7394803701232,
          82.04779956407616,
          85.4566356299117,
          87.85769360939426,
          89.26590043124497,
          90.25411413167095,
          91.38757271050407,
          92.70668087232657,
          93.28309463652927,
          94.34964943500057,
          94.99376450887904,
          95.43705537184685,
          95.78665761333976,
          96.2507542371586,
          96.54838841544111,
          96.93714706469002,
          97.3250309540708,
          97.72391181067678,
          97.87337148840587,
          98.10139064360074,
          98.15924354636644,
          98.2489379668035,
          98.3283936269548,
          98.44399145643874,
          98.58324798809,
          98.85968312368308
         ],
         "yaxis": "y"
        },
        {
         "hovertemplate": "Trip Type=7-Non-home-based non-work<br>Distance Traveled (miles)=%{x}<br>Cumulative Percentage=%{y}<extra></extra>",
         "legendgroup": "7-Non-home-based non-work",
         "line": {
          "color": "#FF6692",
          "dash": "solid"
         },
         "marker": {
          "symbol": "circle"
         },
         "mode": "lines",
         "name": "7-Non-home-based non-work",
         "orientation": "v",
         "showlegend": true,
         "type": "scatter",
         "x": [
          0,
          2,
          4,
          6,
          8,
          10,
          12,
          14,
          16,
          18,
          20,
          22,
          24,
          26,
          28,
          30,
          32,
          34,
          36,
          38,
          40,
          42,
          44,
          46,
          48,
          50,
          52,
          54,
          56,
          58,
          60
         ],
         "xaxis": "x",
         "y": [
          38.15045766960854,
          60.81296860623502,
          71.7511088703845,
          77.50687723338832,
          82.09102490451673,
          84.85612320762816,
          88.42079381423294,
          90.62410782568725,
          92.03305711727988,
          93.23080666617092,
          94.36023581496791,
          95.02009552403746,
          95.54504146781944,
          95.8032050949782,
          96.04867291849999,
          96.54113337400975,
          96.91775830700307,
          97.55081445252223,
          98.2496512854153,
          98.41762459231353,
          98.47770197510977,
          98.65985873669408,
          98.87544102495247,
          98.94835235202858,
          98.9963845098055,
          99.04757514184183,
          99.05970200666921,
          99.0770992547582,
          99.14436270148262,
          99.31039104271701,
          99.34372923224954
         ],
         "yaxis": "y"
        },
        {
         "hovertemplate": "Trip Type=995-Missing response<br>Distance Traveled (miles)=%{x}<br>Cumulative Percentage=%{y}<extra></extra>",
         "legendgroup": "995-Missing response",
         "line": {
          "color": "#B6E880",
          "dash": "solid"
         },
         "marker": {
          "symbol": "circle"
         },
         "mode": "lines",
         "name": "995-Missing response",
         "orientation": "v",
         "showlegend": true,
         "type": "scatter",
         "x": [
          0,
          2,
          4,
          6,
          8,
          10,
          12,
          14,
          16,
          18,
          20,
          22,
          24,
          26,
          28,
          30,
          32,
          34,
          36,
          38,
          40,
          42,
          44,
          46,
          48,
          50,
          52,
          54,
          56,
          58,
          60
         ],
         "xaxis": "x",
         "y": [
          35.884457242691056,
          57.766944281903704,
          68.44097023884667,
          75.72042427647877,
          80.36102357186658,
          83.82613742598433,
          87.3199750979736,
          89.89650070862592,
          91.18042100889085,
          92.57041081781709,
          93.33335682175513,
          94.22101356616218,
          94.96748582442419,
          95.63714133795352,
          96.09814602454738,
          96.4006877419401,
          96.75798173529604,
          97.19118601713028,
          97.51191478356128,
          97.63994465922572,
          97.79629701394273,
          98.08335652229589,
          98.107653507682,
          98.22817632260211,
          98.2615305172233,
          98.40005259689106,
          98.56458004072567,
          98.67557452995761,
          98.87234184391019,
          98.92171748887841,
          98.93465828050364
         ],
         "yaxis": "y"
        }
       ],
       "layout": {
        "legend": {
         "title": {
          "text": "Trip Type"
         },
         "tracegroupgap": 0
        },
        "template": {
         "data": {
          "bar": [
           {
            "error_x": {
             "color": "#2a3f5f"
            },
            "error_y": {
             "color": "#2a3f5f"
            },
            "marker": {
             "line": {
              "color": "#E5ECF6",
              "width": 0.5
             },
             "pattern": {
              "fillmode": "overlay",
              "size": 10,
              "solidity": 0.2
             }
            },
            "type": "bar"
           }
          ],
          "barpolar": [
           {
            "marker": {
             "line": {
              "color": "#E5ECF6",
              "width": 0.5
             },
             "pattern": {
              "fillmode": "overlay",
              "size": 10,
              "solidity": 0.2
             }
            },
            "type": "barpolar"
           }
          ],
          "carpet": [
           {
            "aaxis": {
             "endlinecolor": "#2a3f5f",
             "gridcolor": "white",
             "linecolor": "white",
             "minorgridcolor": "white",
             "startlinecolor": "#2a3f5f"
            },
            "baxis": {
             "endlinecolor": "#2a3f5f",
             "gridcolor": "white",
             "linecolor": "white",
             "minorgridcolor": "white",
             "startlinecolor": "#2a3f5f"
            },
            "type": "carpet"
           }
          ],
          "choropleth": [
           {
            "colorbar": {
             "outlinewidth": 0,
             "ticks": ""
            },
            "type": "choropleth"
           }
          ],
          "contour": [
           {
            "colorbar": {
             "outlinewidth": 0,
             "ticks": ""
            },
            "colorscale": [
             [
              0,
              "#0d0887"
             ],
             [
              0.1111111111111111,
              "#46039f"
             ],
             [
              0.2222222222222222,
              "#7201a8"
             ],
             [
              0.3333333333333333,
              "#9c179e"
             ],
             [
              0.4444444444444444,
              "#bd3786"
             ],
             [
              0.5555555555555556,
              "#d8576b"
             ],
             [
              0.6666666666666666,
              "#ed7953"
             ],
             [
              0.7777777777777778,
              "#fb9f3a"
             ],
             [
              0.8888888888888888,
              "#fdca26"
             ],
             [
              1,
              "#f0f921"
             ]
            ],
            "type": "contour"
           }
          ],
          "contourcarpet": [
           {
            "colorbar": {
             "outlinewidth": 0,
             "ticks": ""
            },
            "type": "contourcarpet"
           }
          ],
          "heatmap": [
           {
            "colorbar": {
             "outlinewidth": 0,
             "ticks": ""
            },
            "colorscale": [
             [
              0,
              "#0d0887"
             ],
             [
              0.1111111111111111,
              "#46039f"
             ],
             [
              0.2222222222222222,
              "#7201a8"
             ],
             [
              0.3333333333333333,
              "#9c179e"
             ],
             [
              0.4444444444444444,
              "#bd3786"
             ],
             [
              0.5555555555555556,
              "#d8576b"
             ],
             [
              0.6666666666666666,
              "#ed7953"
             ],
             [
              0.7777777777777778,
              "#fb9f3a"
             ],
             [
              0.8888888888888888,
              "#fdca26"
             ],
             [
              1,
              "#f0f921"
             ]
            ],
            "type": "heatmap"
           }
          ],
          "heatmapgl": [
           {
            "colorbar": {
             "outlinewidth": 0,
             "ticks": ""
            },
            "colorscale": [
             [
              0,
              "#0d0887"
             ],
             [
              0.1111111111111111,
              "#46039f"
             ],
             [
              0.2222222222222222,
              "#7201a8"
             ],
             [
              0.3333333333333333,
              "#9c179e"
             ],
             [
              0.4444444444444444,
              "#bd3786"
             ],
             [
              0.5555555555555556,
              "#d8576b"
             ],
             [
              0.6666666666666666,
              "#ed7953"
             ],
             [
              0.7777777777777778,
              "#fb9f3a"
             ],
             [
              0.8888888888888888,
              "#fdca26"
             ],
             [
              1,
              "#f0f921"
             ]
            ],
            "type": "heatmapgl"
           }
          ],
          "histogram": [
           {
            "marker": {
             "pattern": {
              "fillmode": "overlay",
              "size": 10,
              "solidity": 0.2
             }
            },
            "type": "histogram"
           }
          ],
          "histogram2d": [
           {
            "colorbar": {
             "outlinewidth": 0,
             "ticks": ""
            },
            "colorscale": [
             [
              0,
              "#0d0887"
             ],
             [
              0.1111111111111111,
              "#46039f"
             ],
             [
              0.2222222222222222,
              "#7201a8"
             ],
             [
              0.3333333333333333,
              "#9c179e"
             ],
             [
              0.4444444444444444,
              "#bd3786"
             ],
             [
              0.5555555555555556,
              "#d8576b"
             ],
             [
              0.6666666666666666,
              "#ed7953"
             ],
             [
              0.7777777777777778,
              "#fb9f3a"
             ],
             [
              0.8888888888888888,
              "#fdca26"
             ],
             [
              1,
              "#f0f921"
             ]
            ],
            "type": "histogram2d"
           }
          ],
          "histogram2dcontour": [
           {
            "colorbar": {
             "outlinewidth": 0,
             "ticks": ""
            },
            "colorscale": [
             [
              0,
              "#0d0887"
             ],
             [
              0.1111111111111111,
              "#46039f"
             ],
             [
              0.2222222222222222,
              "#7201a8"
             ],
             [
              0.3333333333333333,
              "#9c179e"
             ],
             [
              0.4444444444444444,
              "#bd3786"
             ],
             [
              0.5555555555555556,
              "#d8576b"
             ],
             [
              0.6666666666666666,
              "#ed7953"
             ],
             [
              0.7777777777777778,
              "#fb9f3a"
             ],
             [
              0.8888888888888888,
              "#fdca26"
             ],
             [
              1,
              "#f0f921"
             ]
            ],
            "type": "histogram2dcontour"
           }
          ],
          "mesh3d": [
           {
            "colorbar": {
             "outlinewidth": 0,
             "ticks": ""
            },
            "type": "mesh3d"
           }
          ],
          "parcoords": [
           {
            "line": {
             "colorbar": {
              "outlinewidth": 0,
              "ticks": ""
             }
            },
            "type": "parcoords"
           }
          ],
          "pie": [
           {
            "automargin": true,
            "type": "pie"
           }
          ],
          "scatter": [
           {
            "fillpattern": {
             "fillmode": "overlay",
             "size": 10,
             "solidity": 0.2
            },
            "type": "scatter"
           }
          ],
          "scatter3d": [
           {
            "line": {
             "colorbar": {
              "outlinewidth": 0,
              "ticks": ""
             }
            },
            "marker": {
             "colorbar": {
              "outlinewidth": 0,
              "ticks": ""
             }
            },
            "type": "scatter3d"
           }
          ],
          "scattercarpet": [
           {
            "marker": {
             "colorbar": {
              "outlinewidth": 0,
              "ticks": ""
             }
            },
            "type": "scattercarpet"
           }
          ],
          "scattergeo": [
           {
            "marker": {
             "colorbar": {
              "outlinewidth": 0,
              "ticks": ""
             }
            },
            "type": "scattergeo"
           }
          ],
          "scattergl": [
           {
            "marker": {
             "colorbar": {
              "outlinewidth": 0,
              "ticks": ""
             }
            },
            "type": "scattergl"
           }
          ],
          "scattermapbox": [
           {
            "marker": {
             "colorbar": {
              "outlinewidth": 0,
              "ticks": ""
             }
            },
            "type": "scattermapbox"
           }
          ],
          "scatterpolar": [
           {
            "marker": {
             "colorbar": {
              "outlinewidth": 0,
              "ticks": ""
             }
            },
            "type": "scatterpolar"
           }
          ],
          "scatterpolargl": [
           {
            "marker": {
             "colorbar": {
              "outlinewidth": 0,
              "ticks": ""
             }
            },
            "type": "scatterpolargl"
           }
          ],
          "scatterternary": [
           {
            "marker": {
             "colorbar": {
              "outlinewidth": 0,
              "ticks": ""
             }
            },
            "type": "scatterternary"
           }
          ],
          "surface": [
           {
            "colorbar": {
             "outlinewidth": 0,
             "ticks": ""
            },
            "colorscale": [
             [
              0,
              "#0d0887"
             ],
             [
              0.1111111111111111,
              "#46039f"
             ],
             [
              0.2222222222222222,
              "#7201a8"
             ],
             [
              0.3333333333333333,
              "#9c179e"
             ],
             [
              0.4444444444444444,
              "#bd3786"
             ],
             [
              0.5555555555555556,
              "#d8576b"
             ],
             [
              0.6666666666666666,
              "#ed7953"
             ],
             [
              0.7777777777777778,
              "#fb9f3a"
             ],
             [
              0.8888888888888888,
              "#fdca26"
             ],
             [
              1,
              "#f0f921"
             ]
            ],
            "type": "surface"
           }
          ],
          "table": [
           {
            "cells": {
             "fill": {
              "color": "#EBF0F8"
             },
             "line": {
              "color": "white"
             }
            },
            "header": {
             "fill": {
              "color": "#C8D4E3"
             },
             "line": {
              "color": "white"
             }
            },
            "type": "table"
           }
          ]
         },
         "layout": {
          "annotationdefaults": {
           "arrowcolor": "#2a3f5f",
           "arrowhead": 0,
           "arrowwidth": 1
          },
          "autotypenumbers": "strict",
          "coloraxis": {
           "colorbar": {
            "outlinewidth": 0,
            "ticks": ""
           }
          },
          "colorscale": {
           "diverging": [
            [
             0,
             "#8e0152"
            ],
            [
             0.1,
             "#c51b7d"
            ],
            [
             0.2,
             "#de77ae"
            ],
            [
             0.3,
             "#f1b6da"
            ],
            [
             0.4,
             "#fde0ef"
            ],
            [
             0.5,
             "#f7f7f7"
            ],
            [
             0.6,
             "#e6f5d0"
            ],
            [
             0.7,
             "#b8e186"
            ],
            [
             0.8,
             "#7fbc41"
            ],
            [
             0.9,
             "#4d9221"
            ],
            [
             1,
             "#276419"
            ]
           ],
           "sequential": [
            [
             0,
             "#0d0887"
            ],
            [
             0.1111111111111111,
             "#46039f"
            ],
            [
             0.2222222222222222,
             "#7201a8"
            ],
            [
             0.3333333333333333,
             "#9c179e"
            ],
            [
             0.4444444444444444,
             "#bd3786"
            ],
            [
             0.5555555555555556,
             "#d8576b"
            ],
            [
             0.6666666666666666,
             "#ed7953"
            ],
            [
             0.7777777777777778,
             "#fb9f3a"
            ],
            [
             0.8888888888888888,
             "#fdca26"
            ],
            [
             1,
             "#f0f921"
            ]
           ],
           "sequentialminus": [
            [
             0,
             "#0d0887"
            ],
            [
             0.1111111111111111,
             "#46039f"
            ],
            [
             0.2222222222222222,
             "#7201a8"
            ],
            [
             0.3333333333333333,
             "#9c179e"
            ],
            [
             0.4444444444444444,
             "#bd3786"
            ],
            [
             0.5555555555555556,
             "#d8576b"
            ],
            [
             0.6666666666666666,
             "#ed7953"
            ],
            [
             0.7777777777777778,
             "#fb9f3a"
            ],
            [
             0.8888888888888888,
             "#fdca26"
            ],
            [
             1,
             "#f0f921"
            ]
           ]
          },
          "colorway": [
           "#636efa",
           "#EF553B",
           "#00cc96",
           "#ab63fa",
           "#FFA15A",
           "#19d3f3",
           "#FF6692",
           "#B6E880",
           "#FF97FF",
           "#FECB52"
          ],
          "font": {
           "color": "#2a3f5f"
          },
          "geo": {
           "bgcolor": "white",
           "lakecolor": "white",
           "landcolor": "#E5ECF6",
           "showlakes": true,
           "showland": true,
           "subunitcolor": "white"
          },
          "hoverlabel": {
           "align": "left"
          },
          "hovermode": "closest",
          "mapbox": {
           "style": "light"
          },
          "paper_bgcolor": "white",
          "plot_bgcolor": "#E5ECF6",
          "polar": {
           "angularaxis": {
            "gridcolor": "white",
            "linecolor": "white",
            "ticks": ""
           },
           "bgcolor": "#E5ECF6",
           "radialaxis": {
            "gridcolor": "white",
            "linecolor": "white",
            "ticks": ""
           }
          },
          "scene": {
           "xaxis": {
            "backgroundcolor": "#E5ECF6",
            "gridcolor": "white",
            "gridwidth": 2,
            "linecolor": "white",
            "showbackground": true,
            "ticks": "",
            "zerolinecolor": "white"
           },
           "yaxis": {
            "backgroundcolor": "#E5ECF6",
            "gridcolor": "white",
            "gridwidth": 2,
            "linecolor": "white",
            "showbackground": true,
            "ticks": "",
            "zerolinecolor": "white"
           },
           "zaxis": {
            "backgroundcolor": "#E5ECF6",
            "gridcolor": "white",
            "gridwidth": 2,
            "linecolor": "white",
            "showbackground": true,
            "ticks": "",
            "zerolinecolor": "white"
           }
          },
          "shapedefaults": {
           "line": {
            "color": "#2a3f5f"
           }
          },
          "ternary": {
           "aaxis": {
            "gridcolor": "white",
            "linecolor": "white",
            "ticks": ""
           },
           "baxis": {
            "gridcolor": "white",
            "linecolor": "white",
            "ticks": ""
           },
           "bgcolor": "#E5ECF6",
           "caxis": {
            "gridcolor": "white",
            "linecolor": "white",
            "ticks": ""
           }
          },
          "title": {
           "x": 0.05
          },
          "xaxis": {
           "automargin": true,
           "gridcolor": "white",
           "linecolor": "white",
           "ticks": "",
           "title": {
            "standoff": 15
           },
           "zerolinecolor": "white",
           "zerolinewidth": 2
          },
          "yaxis": {
           "automargin": true,
           "gridcolor": "white",
           "linecolor": "white",
           "ticks": "",
           "title": {
            "standoff": 15
           },
           "zerolinecolor": "white",
           "zerolinewidth": 2
          }
         }
        },
        "title": {
         "text": "Cumulative Trip Distance Distribution for Weber/Davis/Salt Lake/Utah Counties"
        },
        "xaxis": {
         "anchor": "y",
         "domain": [
          0,
          1
         ],
         "title": {
          "text": "Distance Traveled (miles)"
         }
        },
        "yaxis": {
         "anchor": "x",
         "domain": [
          0,
          1
         ],
         "title": {
          "text": "Cumulative Percentage of Trips"
         }
        }
       }
      }
     },
     "metadata": {},
     "output_type": "display_data"
    }
   ],
   "source": [
    "import plotly.express as px\n",
    "\n",
    "# Create an interactive line graph for cumulative distribution\n",
    "fig = px.line(\n",
    "    filtered_grouped,\n",
    "    x='distance_miles_2mibin',\n",
    "    y='cumulative_percentage',\n",
    "    color='Trip Type',\n",
    "    labels={\n",
    "        'distance_miles_2mibin': 'Distance Traveled (miles)',\n",
    "        'cumulative_percentage': 'Cumulative Percentage'\n",
    "    },\n",
    "    title='Cumulative Trip Distance Distribution for Weber/Davis/Salt Lake/Utah Counties'\n",
    ")\n",
    "\n",
    "# Update layout if necessary\n",
    "fig.update_layout(\n",
    "    xaxis_title='Distance Traveled (miles)',\n",
    "    yaxis_title='Cumulative Percentage of Trips',\n",
    "    legend_title='Trip Type'\n",
    ")\n",
    "\n",
    "# Show the plot\n",
    "fig.show()\n"
   ]
  },
  {
   "cell_type": "markdown",
   "metadata": {},
   "source": [
    "# Compare HBW distribution by Vehicle Type"
   ]
  },
  {
   "cell_type": "code",
   "execution_count": 81,
   "metadata": {},
   "outputs": [
    {
     "data": {
      "text/html": [
       "<div>\n",
       "<style scoped>\n",
       "    .dataframe tbody tr th:only-of-type {\n",
       "        vertical-align: middle;\n",
       "    }\n",
       "\n",
       "    .dataframe tbody tr th {\n",
       "        vertical-align: top;\n",
       "    }\n",
       "\n",
       "    .dataframe thead th {\n",
       "        text-align: right;\n",
       "    }\n",
       "</style>\n",
       "<table border=\"1\" class=\"dataframe\">\n",
       "  <thead>\n",
       "    <tr style=\"text-align: right;\">\n",
       "      <th></th>\n",
       "      <th>fuel_type</th>\n",
       "      <th>Fuel Type</th>\n",
       "    </tr>\n",
       "  </thead>\n",
       "  <tbody>\n",
       "    <tr>\n",
       "      <th>1045</th>\n",
       "      <td>1</td>\n",
       "      <td>1-Gas</td>\n",
       "    </tr>\n",
       "    <tr>\n",
       "      <th>1046</th>\n",
       "      <td>2</td>\n",
       "      <td>2-Hybrid (HEV)</td>\n",
       "    </tr>\n",
       "    <tr>\n",
       "      <th>1047</th>\n",
       "      <td>3</td>\n",
       "      <td>3-Plug-in hybrid (PHEV)</td>\n",
       "    </tr>\n",
       "    <tr>\n",
       "      <th>1048</th>\n",
       "      <td>4</td>\n",
       "      <td>4-Electric (EV)</td>\n",
       "    </tr>\n",
       "    <tr>\n",
       "      <th>1049</th>\n",
       "      <td>5</td>\n",
       "      <td>5-Diesel</td>\n",
       "    </tr>\n",
       "    <tr>\n",
       "      <th>1050</th>\n",
       "      <td>6</td>\n",
       "      <td>6-Other (e.g., natural gas, bio-diesel)</td>\n",
       "    </tr>\n",
       "  </tbody>\n",
       "</table>\n",
       "</div>"
      ],
      "text/plain": [
       "      fuel_type                                Fuel Type\n",
       "1045          1                                    1-Gas\n",
       "1046          2                           2-Hybrid (HEV)\n",
       "1047          3                  3-Plug-in hybrid (PHEV)\n",
       "1048          4                          4-Electric (EV)\n",
       "1049          5                                 5-Diesel\n",
       "1050          6  6-Other (e.g., natural gas, bio-diesel)"
      ]
     },
     "execution_count": 81,
     "metadata": {},
     "output_type": "execute_result"
    }
   ],
   "source": [
    "# read in code labels and filter and clean up for just fuel_type and cast as int64\n",
    "# use reference: https://unifiedplan.org/2023-utah-household-travel-survey/core-dataset-guide/#codebook\n",
    "dfVehTypeLabels = dfValueLabels[dfValueLabels['variable']=='fuel_type'].copy()\n",
    "dfVehTypeLabels.rename(columns={'value':'fuel_type'}, inplace=True)\n",
    "dfVehTypeLabels['fuel_type'] = dfVehTypeLabels['fuel_type'].astype('int64')\n",
    "dfVehTypeLabels['Fuel Type'] = dfVehTypeLabels['fuel_type'].astype('str') + '-' + dfVehTypeLabels['label']\n",
    "dfVehTypeLabels.drop(columns=['table','variable','label'], inplace=True)\n",
    "dfVehTypeLabels"
   ]
  },
  {
   "cell_type": "code",
   "execution_count": null,
   "metadata": {},
   "outputs": [],
   "source": [
    "# CRAFT SQL STATEMENT\n",
    "# CAST function makes sure value returned is defined as int, to avoid weird precision issues with floats\n",
    "# To get distances to 2-mile bins use FLOOR(distance_miles / 2) * 2 \n",
    "\n",
    "strQry1 = \"\"\"\n",
    "SELECT \n",
    "  trip_type, \n",
    "  CAST(FLOOR(distance_miles / 2) * 2 AS INT64) AS distance_miles_2mibin,\n",
    "  SUM(trip_weight) AS trip_weight_sum\n",
    "FROM \n",
    "  `confidential-2023-utah-hts.20230313.ex_trip`\n",
    "GROUP BY \n",
    "  trip_type, \n",
    "  CAST(FLOOR(distance_miles / 2) * 2 AS INT64)\n",
    "\"\"\""
   ]
  }
 ],
 "metadata": {
  "kernelspec": {
   "display_name": "base",
   "language": "python",
   "name": "python3"
  },
  "language_info": {
   "codemirror_mode": {
    "name": "ipython",
    "version": 3
   },
   "file_extension": ".py",
   "mimetype": "text/x-python",
   "name": "python",
   "nbconvert_exporter": "python",
   "pygments_lexer": "ipython3",
   "version": "3.9.13"
  }
 },
 "nbformat": 4,
 "nbformat_minor": 2
}
