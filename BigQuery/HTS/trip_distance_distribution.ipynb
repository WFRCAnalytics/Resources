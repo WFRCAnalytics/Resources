{
 "cells": [
  {
   "cell_type": "code",
   "execution_count": 1,
   "metadata": {},
   "outputs": [],
   "source": [
    "import os\n",
    "import pandas as pd\n",
    "import pandas_gbq\n",
    "import pytz\n",
    "import io\n",
    "from dbfread import DBF"
   ]
  },
  {
   "cell_type": "markdown",
   "metadata": {},
   "source": [
    "# Access Data in BigQuery"
   ]
  },
  {
   "cell_type": "markdown",
   "metadata": {},
   "source": [
    "**Steps to Create a BigQuery API Key**:\n",
    "- Go to Google Cloud Console\n",
    "- Select Project in top drop down\n",
    "- Select IAM & Admin in sidebar\n",
    "- Select Service Accounts in sidebar\n",
    "- Click Create Service Account button (example name bhereth-wfrcbq) \n",
    "- Create account and give permissions\n",
    "- Select Keys option\n",
    "- Clcik Add Key button - Create New Key\n",
    "- Select JSON\n",
    "- Should receive confirmation that key was created\n",
    "- Look in 'Downloads' folder for key\n",
    "- Move file to secure spot on local drive\n"
   ]
  },
  {
   "cell_type": "code",
   "execution_count": 9,
   "metadata": {},
   "outputs": [
    {
     "name": "stdout",
     "output_type": "stream",
     "text": [
      "Successfully Linked to BigQuery Client!\n"
     ]
    }
   ],
   "source": [
    "# Link to BigQuery Client through API\n",
    "\n",
    "#google cloud big query libaries\n",
    "from google.cloud import bigquery\n",
    "from google.oauth2 import service_account\n",
    "\n",
    "key_path = r\"C:\\Users\\bhereth\\confidential-2023-utah-hts-db5335615978.json\"\n",
    "#key_path = r\"C:\\Users\\bhereth\\tdm-scenarios-a85044dbbfd3.json\"\n",
    "\n",
    "credentials = service_account.Credentials.from_service_account_file(\n",
    "    key_path, scopes=[\"https://www.googleapis.com/auth/cloud-platform\"],\n",
    ")\n",
    "\n",
    "client = bigquery.Client(credentials=credentials, project=credentials.project_id,)\n",
    "print ('Successfully Linked to BigQuery Client!')"
   ]
  },
  {
   "cell_type": "code",
   "execution_count": 44,
   "metadata": {},
   "outputs": [],
   "source": [
    "# CRAFT SQL STATEMENT\n",
    "# CAST function makes sure value returned is defined as int, to avoid weird precision issues with floats\n",
    "# To get distances to 2-mile bins use FLOOR(distance_miles / 2) * 2 \n",
    "\n",
    "strQry1 = \"\"\"\n",
    "SELECT \n",
    "  trip_type, \n",
    "  CAST(FLOOR(distance_miles / 2) * 2 AS INT64) AS distance_miles_2mibin,\n",
    "  SUM(trip_weight) AS trip_weight_sum\n",
    "FROM \n",
    "  `confidential-2023-utah-hts.20230313.ex_trip`\n",
    "GROUP BY \n",
    "  trip_type, \n",
    "  distance_miles_2mibin\n",
    "\"\"\""
   ]
  },
  {
   "cell_type": "code",
   "execution_count": 27,
   "metadata": {},
   "outputs": [
    {
     "data": {
      "text/html": [
       "<div>\n",
       "<style scoped>\n",
       "    .dataframe tbody tr th:only-of-type {\n",
       "        vertical-align: middle;\n",
       "    }\n",
       "\n",
       "    .dataframe tbody tr th {\n",
       "        vertical-align: top;\n",
       "    }\n",
       "\n",
       "    .dataframe thead th {\n",
       "        text-align: right;\n",
       "    }\n",
       "</style>\n",
       "<table border=\"1\" class=\"dataframe\">\n",
       "  <thead>\n",
       "    <tr style=\"text-align: right;\">\n",
       "      <th></th>\n",
       "      <th>hh_id</th>\n",
       "      <th>participation_group</th>\n",
       "      <th>is_complete</th>\n",
       "      <th>is_survey_complete</th>\n",
       "      <th>num_days_complete</th>\n",
       "      <th>num_days_survey_complete</th>\n",
       "      <th>num_days_complete_weekday</th>\n",
       "      <th>num_days_survey_complete_weekday</th>\n",
       "      <th>num_complete_mon</th>\n",
       "      <th>num_survey_complete_mon</th>\n",
       "      <th>...</th>\n",
       "      <th>bike_more_3</th>\n",
       "      <th>bike_more_4</th>\n",
       "      <th>bike_more_5</th>\n",
       "      <th>bike_more_6</th>\n",
       "      <th>bike_more_7</th>\n",
       "      <th>bike_more_8</th>\n",
       "      <th>bike_more_996</th>\n",
       "      <th>bike_more_997</th>\n",
       "      <th>bike_more_other</th>\n",
       "      <th>hh_weight</th>\n",
       "    </tr>\n",
       "  </thead>\n",
       "  <tbody>\n",
       "    <tr>\n",
       "      <th>0</th>\n",
       "      <td>23064875</td>\n",
       "      <td>9</td>\n",
       "      <td>0</td>\n",
       "      <td>1</td>\n",
       "      <td>0</td>\n",
       "      <td>5</td>\n",
       "      <td>0</td>\n",
       "      <td>3</td>\n",
       "      <td>0</td>\n",
       "      <td>1</td>\n",
       "      <td>...</td>\n",
       "      <td>0</td>\n",
       "      <td>1</td>\n",
       "      <td>0</td>\n",
       "      <td>1</td>\n",
       "      <td>0</td>\n",
       "      <td>1</td>\n",
       "      <td>0</td>\n",
       "      <td>0</td>\n",
       "      <td></td>\n",
       "      <td>0.000000</td>\n",
       "    </tr>\n",
       "    <tr>\n",
       "      <th>1</th>\n",
       "      <td>23075027</td>\n",
       "      <td>9</td>\n",
       "      <td>0</td>\n",
       "      <td>1</td>\n",
       "      <td>0</td>\n",
       "      <td>7</td>\n",
       "      <td>0</td>\n",
       "      <td>5</td>\n",
       "      <td>0</td>\n",
       "      <td>1</td>\n",
       "      <td>...</td>\n",
       "      <td>0</td>\n",
       "      <td>0</td>\n",
       "      <td>0</td>\n",
       "      <td>1</td>\n",
       "      <td>0</td>\n",
       "      <td>0</td>\n",
       "      <td>0</td>\n",
       "      <td>0</td>\n",
       "      <td></td>\n",
       "      <td>0.000000</td>\n",
       "    </tr>\n",
       "    <tr>\n",
       "      <th>2</th>\n",
       "      <td>23089450</td>\n",
       "      <td>9</td>\n",
       "      <td>0</td>\n",
       "      <td>1</td>\n",
       "      <td>0</td>\n",
       "      <td>6</td>\n",
       "      <td>0</td>\n",
       "      <td>4</td>\n",
       "      <td>0</td>\n",
       "      <td>1</td>\n",
       "      <td>...</td>\n",
       "      <td>0</td>\n",
       "      <td>0</td>\n",
       "      <td>0</td>\n",
       "      <td>1</td>\n",
       "      <td>0</td>\n",
       "      <td>0</td>\n",
       "      <td>1</td>\n",
       "      <td>0</td>\n",
       "      <td></td>\n",
       "      <td>0.000000</td>\n",
       "    </tr>\n",
       "    <tr>\n",
       "      <th>3</th>\n",
       "      <td>23106914</td>\n",
       "      <td>9</td>\n",
       "      <td>0</td>\n",
       "      <td>1</td>\n",
       "      <td>0</td>\n",
       "      <td>7</td>\n",
       "      <td>0</td>\n",
       "      <td>5</td>\n",
       "      <td>0</td>\n",
       "      <td>1</td>\n",
       "      <td>...</td>\n",
       "      <td>1</td>\n",
       "      <td>1</td>\n",
       "      <td>0</td>\n",
       "      <td>1</td>\n",
       "      <td>1</td>\n",
       "      <td>1</td>\n",
       "      <td>0</td>\n",
       "      <td>0</td>\n",
       "      <td></td>\n",
       "      <td>0.000000</td>\n",
       "    </tr>\n",
       "    <tr>\n",
       "      <th>4</th>\n",
       "      <td>23129049</td>\n",
       "      <td>9</td>\n",
       "      <td>0</td>\n",
       "      <td>1</td>\n",
       "      <td>0</td>\n",
       "      <td>6</td>\n",
       "      <td>0</td>\n",
       "      <td>5</td>\n",
       "      <td>0</td>\n",
       "      <td>1</td>\n",
       "      <td>...</td>\n",
       "      <td>0</td>\n",
       "      <td>0</td>\n",
       "      <td>0</td>\n",
       "      <td>0</td>\n",
       "      <td>0</td>\n",
       "      <td>0</td>\n",
       "      <td>0</td>\n",
       "      <td>0</td>\n",
       "      <td></td>\n",
       "      <td>0.000000</td>\n",
       "    </tr>\n",
       "    <tr>\n",
       "      <th>...</th>\n",
       "      <td>...</td>\n",
       "      <td>...</td>\n",
       "      <td>...</td>\n",
       "      <td>...</td>\n",
       "      <td>...</td>\n",
       "      <td>...</td>\n",
       "      <td>...</td>\n",
       "      <td>...</td>\n",
       "      <td>...</td>\n",
       "      <td>...</td>\n",
       "      <td>...</td>\n",
       "      <td>...</td>\n",
       "      <td>...</td>\n",
       "      <td>...</td>\n",
       "      <td>...</td>\n",
       "      <td>...</td>\n",
       "      <td>...</td>\n",
       "      <td>...</td>\n",
       "      <td>...</td>\n",
       "      <td>...</td>\n",
       "      <td>...</td>\n",
       "    </tr>\n",
       "    <tr>\n",
       "      <th>11178</th>\n",
       "      <td>23381104</td>\n",
       "      <td>9</td>\n",
       "      <td>1</td>\n",
       "      <td>1</td>\n",
       "      <td>7</td>\n",
       "      <td>7</td>\n",
       "      <td>5</td>\n",
       "      <td>5</td>\n",
       "      <td>1</td>\n",
       "      <td>1</td>\n",
       "      <td>...</td>\n",
       "      <td>1</td>\n",
       "      <td>0</td>\n",
       "      <td>1</td>\n",
       "      <td>0</td>\n",
       "      <td>0</td>\n",
       "      <td>0</td>\n",
       "      <td>0</td>\n",
       "      <td>0</td>\n",
       "      <td></td>\n",
       "      <td>19.161332</td>\n",
       "    </tr>\n",
       "    <tr>\n",
       "      <th>11179</th>\n",
       "      <td>23384500</td>\n",
       "      <td>9</td>\n",
       "      <td>1</td>\n",
       "      <td>1</td>\n",
       "      <td>7</td>\n",
       "      <td>7</td>\n",
       "      <td>5</td>\n",
       "      <td>5</td>\n",
       "      <td>1</td>\n",
       "      <td>1</td>\n",
       "      <td>...</td>\n",
       "      <td>0</td>\n",
       "      <td>0</td>\n",
       "      <td>0</td>\n",
       "      <td>1</td>\n",
       "      <td>0</td>\n",
       "      <td>0</td>\n",
       "      <td>1</td>\n",
       "      <td>0</td>\n",
       "      <td></td>\n",
       "      <td>589.566141</td>\n",
       "    </tr>\n",
       "    <tr>\n",
       "      <th>11180</th>\n",
       "      <td>23433444</td>\n",
       "      <td>9</td>\n",
       "      <td>1</td>\n",
       "      <td>1</td>\n",
       "      <td>7</td>\n",
       "      <td>7</td>\n",
       "      <td>5</td>\n",
       "      <td>5</td>\n",
       "      <td>1</td>\n",
       "      <td>1</td>\n",
       "      <td>...</td>\n",
       "      <td>0</td>\n",
       "      <td>0</td>\n",
       "      <td>0</td>\n",
       "      <td>1</td>\n",
       "      <td>1</td>\n",
       "      <td>0</td>\n",
       "      <td>0</td>\n",
       "      <td>0</td>\n",
       "      <td></td>\n",
       "      <td>17.572443</td>\n",
       "    </tr>\n",
       "    <tr>\n",
       "      <th>11181</th>\n",
       "      <td>23461880</td>\n",
       "      <td>9</td>\n",
       "      <td>1</td>\n",
       "      <td>1</td>\n",
       "      <td>7</td>\n",
       "      <td>7</td>\n",
       "      <td>5</td>\n",
       "      <td>5</td>\n",
       "      <td>1</td>\n",
       "      <td>1</td>\n",
       "      <td>...</td>\n",
       "      <td>0</td>\n",
       "      <td>0</td>\n",
       "      <td>1</td>\n",
       "      <td>1</td>\n",
       "      <td>0</td>\n",
       "      <td>0</td>\n",
       "      <td>0</td>\n",
       "      <td>0</td>\n",
       "      <td></td>\n",
       "      <td>11.448475</td>\n",
       "    </tr>\n",
       "    <tr>\n",
       "      <th>11182</th>\n",
       "      <td>23474905</td>\n",
       "      <td>9</td>\n",
       "      <td>1</td>\n",
       "      <td>1</td>\n",
       "      <td>7</td>\n",
       "      <td>7</td>\n",
       "      <td>5</td>\n",
       "      <td>5</td>\n",
       "      <td>1</td>\n",
       "      <td>1</td>\n",
       "      <td>...</td>\n",
       "      <td>0</td>\n",
       "      <td>0</td>\n",
       "      <td>0</td>\n",
       "      <td>0</td>\n",
       "      <td>0</td>\n",
       "      <td>0</td>\n",
       "      <td>1</td>\n",
       "      <td>0</td>\n",
       "      <td></td>\n",
       "      <td>437.492561</td>\n",
       "    </tr>\n",
       "  </tbody>\n",
       "</table>\n",
       "<p>11183 rows × 110 columns</p>\n",
       "</div>"
      ],
      "text/plain": [
       "          hh_id  participation_group  is_complete  is_survey_complete  \\\n",
       "0      23064875                    9            0                   1   \n",
       "1      23075027                    9            0                   1   \n",
       "2      23089450                    9            0                   1   \n",
       "3      23106914                    9            0                   1   \n",
       "4      23129049                    9            0                   1   \n",
       "...         ...                  ...          ...                 ...   \n",
       "11178  23381104                    9            1                   1   \n",
       "11179  23384500                    9            1                   1   \n",
       "11180  23433444                    9            1                   1   \n",
       "11181  23461880                    9            1                   1   \n",
       "11182  23474905                    9            1                   1   \n",
       "\n",
       "       num_days_complete  num_days_survey_complete  num_days_complete_weekday  \\\n",
       "0                      0                         5                          0   \n",
       "1                      0                         7                          0   \n",
       "2                      0                         6                          0   \n",
       "3                      0                         7                          0   \n",
       "4                      0                         6                          0   \n",
       "...                  ...                       ...                        ...   \n",
       "11178                  7                         7                          5   \n",
       "11179                  7                         7                          5   \n",
       "11180                  7                         7                          5   \n",
       "11181                  7                         7                          5   \n",
       "11182                  7                         7                          5   \n",
       "\n",
       "       num_days_survey_complete_weekday  num_complete_mon  \\\n",
       "0                                     3                 0   \n",
       "1                                     5                 0   \n",
       "2                                     4                 0   \n",
       "3                                     5                 0   \n",
       "4                                     5                 0   \n",
       "...                                 ...               ...   \n",
       "11178                                 5                 1   \n",
       "11179                                 5                 1   \n",
       "11180                                 5                 1   \n",
       "11181                                 5                 1   \n",
       "11182                                 5                 1   \n",
       "\n",
       "       num_survey_complete_mon  ...  bike_more_3  bike_more_4  bike_more_5  \\\n",
       "0                            1  ...            0            1            0   \n",
       "1                            1  ...            0            0            0   \n",
       "2                            1  ...            0            0            0   \n",
       "3                            1  ...            1            1            0   \n",
       "4                            1  ...            0            0            0   \n",
       "...                        ...  ...          ...          ...          ...   \n",
       "11178                        1  ...            1            0            1   \n",
       "11179                        1  ...            0            0            0   \n",
       "11180                        1  ...            0            0            0   \n",
       "11181                        1  ...            0            0            1   \n",
       "11182                        1  ...            0            0            0   \n",
       "\n",
       "       bike_more_6  bike_more_7  bike_more_8  bike_more_996  bike_more_997  \\\n",
       "0                1            0            1              0              0   \n",
       "1                1            0            0              0              0   \n",
       "2                1            0            0              1              0   \n",
       "3                1            1            1              0              0   \n",
       "4                0            0            0              0              0   \n",
       "...            ...          ...          ...            ...            ...   \n",
       "11178            0            0            0              0              0   \n",
       "11179            1            0            0              1              0   \n",
       "11180            1            1            0              0              0   \n",
       "11181            1            0            0              0              0   \n",
       "11182            0            0            0              1              0   \n",
       "\n",
       "       bike_more_other   hh_weight  \n",
       "0                         0.000000  \n",
       "1                         0.000000  \n",
       "2                         0.000000  \n",
       "3                         0.000000  \n",
       "4                         0.000000  \n",
       "...                ...         ...  \n",
       "11178                    19.161332  \n",
       "11179                   589.566141  \n",
       "11180                    17.572443  \n",
       "11181                    11.448475  \n",
       "11182                   437.492561  \n",
       "\n",
       "[11183 rows x 110 columns]"
      ]
     },
     "metadata": {},
     "output_type": "display_data"
    }
   ],
   "source": [
    "# test connection\n",
    "dfHouseholds = client.query(\"SELECT * FROM `confidential-2023-utah-hts.20230313.ex_hh`\").to_dataframe()\n",
    "\n",
    "display(dfHouseholds)"
   ]
  },
  {
   "cell_type": "markdown",
   "metadata": {},
   "source": [
    "# Compare Trip Lengths by Trip Type"
   ]
  },
  {
   "cell_type": "code",
   "execution_count": 25,
   "metadata": {},
   "outputs": [
    {
     "data": {
      "text/html": [
       "<div>\n",
       "<style scoped>\n",
       "    .dataframe tbody tr th:only-of-type {\n",
       "        vertical-align: middle;\n",
       "    }\n",
       "\n",
       "    .dataframe tbody tr th {\n",
       "        vertical-align: top;\n",
       "    }\n",
       "\n",
       "    .dataframe thead th {\n",
       "        text-align: right;\n",
       "    }\n",
       "</style>\n",
       "<table border=\"1\" class=\"dataframe\">\n",
       "  <thead>\n",
       "    <tr style=\"text-align: right;\">\n",
       "      <th></th>\n",
       "      <th>trip_type</th>\n",
       "      <th>distance_miles_2mibin</th>\n",
       "      <th>trip_weight_sum</th>\n",
       "    </tr>\n",
       "  </thead>\n",
       "  <tbody>\n",
       "    <tr>\n",
       "      <th>0</th>\n",
       "      <td>7</td>\n",
       "      <td>10.0</td>\n",
       "      <td>46195.137161</td>\n",
       "    </tr>\n",
       "    <tr>\n",
       "      <th>1</th>\n",
       "      <td>995</td>\n",
       "      <td>46.0</td>\n",
       "      <td>2261.263668</td>\n",
       "    </tr>\n",
       "    <tr>\n",
       "      <th>2</th>\n",
       "      <td>995</td>\n",
       "      <td>8.0</td>\n",
       "      <td>87067.486697</td>\n",
       "    </tr>\n",
       "    <tr>\n",
       "      <th>3</th>\n",
       "      <td>995</td>\n",
       "      <td>12.0</td>\n",
       "      <td>65551.806063</td>\n",
       "    </tr>\n",
       "    <tr>\n",
       "      <th>4</th>\n",
       "      <td>995</td>\n",
       "      <td>10.0</td>\n",
       "      <td>65012.886309</td>\n",
       "    </tr>\n",
       "    <tr>\n",
       "      <th>...</th>\n",
       "      <td>...</td>\n",
       "      <td>...</td>\n",
       "      <td>...</td>\n",
       "    </tr>\n",
       "    <tr>\n",
       "      <th>969</th>\n",
       "      <td>6</td>\n",
       "      <td>838.0</td>\n",
       "      <td>0.000000</td>\n",
       "    </tr>\n",
       "    <tr>\n",
       "      <th>970</th>\n",
       "      <td>995</td>\n",
       "      <td>5014.0</td>\n",
       "      <td>113.350987</td>\n",
       "    </tr>\n",
       "    <tr>\n",
       "      <th>971</th>\n",
       "      <td>7</td>\n",
       "      <td>254.0</td>\n",
       "      <td>0.000000</td>\n",
       "    </tr>\n",
       "    <tr>\n",
       "      <th>972</th>\n",
       "      <td>5</td>\n",
       "      <td>120.0</td>\n",
       "      <td>0.000000</td>\n",
       "    </tr>\n",
       "    <tr>\n",
       "      <th>973</th>\n",
       "      <td>6</td>\n",
       "      <td>1230.0</td>\n",
       "      <td>0.000000</td>\n",
       "    </tr>\n",
       "  </tbody>\n",
       "</table>\n",
       "<p>974 rows × 3 columns</p>\n",
       "</div>"
      ],
      "text/plain": [
       "     trip_type  distance_miles_2mibin  trip_weight_sum\n",
       "0            7                   10.0     46195.137161\n",
       "1          995                   46.0      2261.263668\n",
       "2          995                    8.0     87067.486697\n",
       "3          995                   12.0     65551.806063\n",
       "4          995                   10.0     65012.886309\n",
       "..         ...                    ...              ...\n",
       "969          6                  838.0         0.000000\n",
       "970        995                 5014.0       113.350987\n",
       "971          7                  254.0         0.000000\n",
       "972          5                  120.0         0.000000\n",
       "973          6                 1230.0         0.000000\n",
       "\n",
       "[974 rows x 3 columns]"
      ]
     },
     "metadata": {},
     "output_type": "display_data"
    }
   ],
   "source": [
    "# DOESN'T WORK YET WITH TRIP TABLE\n",
    "# AWAITING GLOBBING\n",
    "\n",
    "# ACCESS DATA THROUGH BIGQUERY API\n",
    "#dfBinnedTripDistance = client.query(strQry1).to_dataframe()\n",
    "\n",
    "# USE TEMP CSV FROM GBQ BROWSER DOWNLOAD\n",
    "dfBinnedTripDistance = pd.read_csv('bquxjob_1b1667df_18f06fb53f5.csv')\n",
    "\n",
    "display(dfBinnedTripDistance)"
   ]
  },
  {
   "cell_type": "code",
   "execution_count": 26,
   "metadata": {},
   "outputs": [
    {
     "data": {
      "text/html": [
       "<div>\n",
       "<style scoped>\n",
       "    .dataframe tbody tr th:only-of-type {\n",
       "        vertical-align: middle;\n",
       "    }\n",
       "\n",
       "    .dataframe tbody tr th {\n",
       "        vertical-align: top;\n",
       "    }\n",
       "\n",
       "    .dataframe thead th {\n",
       "        text-align: right;\n",
       "    }\n",
       "</style>\n",
       "<table border=\"1\" class=\"dataframe\">\n",
       "  <thead>\n",
       "    <tr style=\"text-align: right;\">\n",
       "      <th></th>\n",
       "      <th>table</th>\n",
       "      <th>variable</th>\n",
       "      <th>value</th>\n",
       "      <th>label</th>\n",
       "    </tr>\n",
       "  </thead>\n",
       "  <tbody>\n",
       "    <tr>\n",
       "      <th>0</th>\n",
       "      <td>hh</td>\n",
       "      <td>participation_group</td>\n",
       "      <td>1</td>\n",
       "      <td>Signup survey completed via browserMove, Diary...</td>\n",
       "    </tr>\n",
       "    <tr>\n",
       "      <th>1</th>\n",
       "      <td>hh</td>\n",
       "      <td>participation_group</td>\n",
       "      <td>2</td>\n",
       "      <td>Signup survey completed via browserMove, Diary...</td>\n",
       "    </tr>\n",
       "    <tr>\n",
       "      <th>2</th>\n",
       "      <td>hh</td>\n",
       "      <td>participation_group</td>\n",
       "      <td>3</td>\n",
       "      <td>Signup survey completed via browserMove, Diary...</td>\n",
       "    </tr>\n",
       "    <tr>\n",
       "      <th>3</th>\n",
       "      <td>hh</td>\n",
       "      <td>participation_group</td>\n",
       "      <td>4</td>\n",
       "      <td>Signup survey completed via call center, Diary...</td>\n",
       "    </tr>\n",
       "    <tr>\n",
       "      <th>4</th>\n",
       "      <td>hh</td>\n",
       "      <td>participation_group</td>\n",
       "      <td>5</td>\n",
       "      <td>Signup survey completed via call center, Diary...</td>\n",
       "    </tr>\n",
       "    <tr>\n",
       "      <th>...</th>\n",
       "      <td>...</td>\n",
       "      <td>...</td>\n",
       "      <td>...</td>\n",
       "      <td>...</td>\n",
       "    </tr>\n",
       "    <tr>\n",
       "      <th>2036</th>\n",
       "      <td>trip</td>\n",
       "      <td>imputed_record_type</td>\n",
       "      <td>1</td>\n",
       "      <td>Imputed from proxy</td>\n",
       "    </tr>\n",
       "    <tr>\n",
       "      <th>2037</th>\n",
       "      <td>trip</td>\n",
       "      <td>imputed_record_type</td>\n",
       "      <td>2</td>\n",
       "      <td>Imputed school trip from attendance (no host t...</td>\n",
       "    </tr>\n",
       "    <tr>\n",
       "      <th>2038</th>\n",
       "      <td>trip</td>\n",
       "      <td>trace_quality_flag</td>\n",
       "      <td>0</td>\n",
       "      <td>No</td>\n",
       "    </tr>\n",
       "    <tr>\n",
       "      <th>2039</th>\n",
       "      <td>trip</td>\n",
       "      <td>trace_quality_flag</td>\n",
       "      <td>1</td>\n",
       "      <td>Yes</td>\n",
       "    </tr>\n",
       "    <tr>\n",
       "      <th>2040</th>\n",
       "      <td>trip</td>\n",
       "      <td>trace_quality_flag</td>\n",
       "      <td>995</td>\n",
       "      <td>Missing response</td>\n",
       "    </tr>\n",
       "  </tbody>\n",
       "</table>\n",
       "<p>2041 rows × 4 columns</p>\n",
       "</div>"
      ],
      "text/plain": [
       "     table             variable value  \\\n",
       "0       hh  participation_group     1   \n",
       "1       hh  participation_group     2   \n",
       "2       hh  participation_group     3   \n",
       "3       hh  participation_group     4   \n",
       "4       hh  participation_group     5   \n",
       "...    ...                  ...   ...   \n",
       "2036  trip  imputed_record_type     1   \n",
       "2037  trip  imputed_record_type     2   \n",
       "2038  trip   trace_quality_flag     0   \n",
       "2039  trip   trace_quality_flag     1   \n",
       "2040  trip   trace_quality_flag   995   \n",
       "\n",
       "                                                  label  \n",
       "0     Signup survey completed via browserMove, Diary...  \n",
       "1     Signup survey completed via browserMove, Diary...  \n",
       "2     Signup survey completed via browserMove, Diary...  \n",
       "3     Signup survey completed via call center, Diary...  \n",
       "4     Signup survey completed via call center, Diary...  \n",
       "...                                                 ...  \n",
       "2036                                 Imputed from proxy  \n",
       "2037  Imputed school trip from attendance (no host t...  \n",
       "2038                                                 No  \n",
       "2039                                                Yes  \n",
       "2040                                   Missing response  \n",
       "\n",
       "[2041 rows x 4 columns]"
      ]
     },
     "metadata": {},
     "output_type": "display_data"
    }
   ],
   "source": [
    "# import value labels to get description of codes\n",
    "dfValueLabels = pd.read_csv('value_labels.csv')\n",
    "\n",
    "display(dfValueLabels)"
   ]
  },
  {
   "cell_type": "code",
   "execution_count": 23,
   "metadata": {},
   "outputs": [
    {
     "data": {
      "text/html": [
       "<div>\n",
       "<style scoped>\n",
       "    .dataframe tbody tr th:only-of-type {\n",
       "        vertical-align: middle;\n",
       "    }\n",
       "\n",
       "    .dataframe tbody tr th {\n",
       "        vertical-align: top;\n",
       "    }\n",
       "\n",
       "    .dataframe thead th {\n",
       "        text-align: right;\n",
       "    }\n",
       "</style>\n",
       "<table border=\"1\" class=\"dataframe\">\n",
       "  <thead>\n",
       "    <tr style=\"text-align: right;\">\n",
       "      <th></th>\n",
       "      <th>trip_type</th>\n",
       "      <th>Trip Type</th>\n",
       "    </tr>\n",
       "  </thead>\n",
       "  <tbody>\n",
       "    <tr>\n",
       "      <th>1890</th>\n",
       "      <td>1</td>\n",
       "      <td>1-Home-based work</td>\n",
       "    </tr>\n",
       "    <tr>\n",
       "      <th>1891</th>\n",
       "      <td>2</td>\n",
       "      <td>2-Home-based school</td>\n",
       "    </tr>\n",
       "    <tr>\n",
       "      <th>1892</th>\n",
       "      <td>3</td>\n",
       "      <td>3-Home-based shopping</td>\n",
       "    </tr>\n",
       "    <tr>\n",
       "      <th>1893</th>\n",
       "      <td>4</td>\n",
       "      <td>4-Home-based personal business</td>\n",
       "    </tr>\n",
       "    <tr>\n",
       "      <th>1894</th>\n",
       "      <td>5</td>\n",
       "      <td>5-Home-based other</td>\n",
       "    </tr>\n",
       "    <tr>\n",
       "      <th>1895</th>\n",
       "      <td>6</td>\n",
       "      <td>6-Non-home-based work</td>\n",
       "    </tr>\n",
       "    <tr>\n",
       "      <th>1896</th>\n",
       "      <td>7</td>\n",
       "      <td>7-Non-home-based non-work</td>\n",
       "    </tr>\n",
       "    <tr>\n",
       "      <th>1897</th>\n",
       "      <td>995</td>\n",
       "      <td>995-Missing response</td>\n",
       "    </tr>\n",
       "  </tbody>\n",
       "</table>\n",
       "</div>"
      ],
      "text/plain": [
       "      trip_type                       Trip Type\n",
       "1890          1               1-Home-based work\n",
       "1891          2             2-Home-based school\n",
       "1892          3           3-Home-based shopping\n",
       "1893          4  4-Home-based personal business\n",
       "1894          5              5-Home-based other\n",
       "1895          6           6-Non-home-based work\n",
       "1896          7       7-Non-home-based non-work\n",
       "1897        995            995-Missing response"
      ]
     },
     "execution_count": 23,
     "metadata": {},
     "output_type": "execute_result"
    }
   ],
   "source": [
    "# Filter to just the trip type labels\n",
    "# read in code labels and filter and clean up for just trip_type and cast as int64\n",
    "dfTripTypeLabels = dfValueLabels[dfValueLabels['variable']=='trip_type'].copy()\n",
    "dfTripTypeLabels.rename(columns={'value':'trip_type'}, inplace=True)\n",
    "dfTripTypeLabels['trip_type'] = dfTripTypeLabels['trip_type'].astype('int64')\n",
    "dfTripTypeLabels['Trip Type'] = dfTripTypeLabels['trip_type'].astype('str') + '-' + dfTripTypeLabels['label']\n",
    "dfTripTypeLabels.drop(columns=['table','variable','label'], inplace=True)\n",
    "dfTripTypeLabels"
   ]
  },
  {
   "cell_type": "code",
   "execution_count": 29,
   "metadata": {},
   "outputs": [
    {
     "data": {
      "text/html": [
       "<div>\n",
       "<style scoped>\n",
       "    .dataframe tbody tr th:only-of-type {\n",
       "        vertical-align: middle;\n",
       "    }\n",
       "\n",
       "    .dataframe tbody tr th {\n",
       "        vertical-align: top;\n",
       "    }\n",
       "\n",
       "    .dataframe thead th {\n",
       "        text-align: right;\n",
       "    }\n",
       "</style>\n",
       "<table border=\"1\" class=\"dataframe\">\n",
       "  <thead>\n",
       "    <tr style=\"text-align: right;\">\n",
       "      <th></th>\n",
       "      <th>trip_type</th>\n",
       "      <th>distance_miles_2mibin</th>\n",
       "      <th>trip_weight_sum</th>\n",
       "      <th>Trip Type</th>\n",
       "    </tr>\n",
       "  </thead>\n",
       "  <tbody>\n",
       "    <tr>\n",
       "      <th>0</th>\n",
       "      <td>7</td>\n",
       "      <td>10.0</td>\n",
       "      <td>46195.137161</td>\n",
       "      <td>7-Non-home-based non-work</td>\n",
       "    </tr>\n",
       "    <tr>\n",
       "      <th>1</th>\n",
       "      <td>7</td>\n",
       "      <td>8.0</td>\n",
       "      <td>76585.100138</td>\n",
       "      <td>7-Non-home-based non-work</td>\n",
       "    </tr>\n",
       "    <tr>\n",
       "      <th>2</th>\n",
       "      <td>7</td>\n",
       "      <td>0.0</td>\n",
       "      <td>637360.929566</td>\n",
       "      <td>7-Non-home-based non-work</td>\n",
       "    </tr>\n",
       "    <tr>\n",
       "      <th>3</th>\n",
       "      <td>7</td>\n",
       "      <td>2.0</td>\n",
       "      <td>378611.422226</td>\n",
       "      <td>7-Non-home-based non-work</td>\n",
       "    </tr>\n",
       "    <tr>\n",
       "      <th>4</th>\n",
       "      <td>7</td>\n",
       "      <td>12.0</td>\n",
       "      <td>59553.198315</td>\n",
       "      <td>7-Non-home-based non-work</td>\n",
       "    </tr>\n",
       "    <tr>\n",
       "      <th>...</th>\n",
       "      <td>...</td>\n",
       "      <td>...</td>\n",
       "      <td>...</td>\n",
       "      <td>...</td>\n",
       "    </tr>\n",
       "    <tr>\n",
       "      <th>969</th>\n",
       "      <td>2</td>\n",
       "      <td>126.0</td>\n",
       "      <td>0.000000</td>\n",
       "      <td>2-Home-based school</td>\n",
       "    </tr>\n",
       "    <tr>\n",
       "      <th>970</th>\n",
       "      <td>2</td>\n",
       "      <td>84.0</td>\n",
       "      <td>44.142885</td>\n",
       "      <td>2-Home-based school</td>\n",
       "    </tr>\n",
       "    <tr>\n",
       "      <th>971</th>\n",
       "      <td>2</td>\n",
       "      <td>1146.0</td>\n",
       "      <td>17.986077</td>\n",
       "      <td>2-Home-based school</td>\n",
       "    </tr>\n",
       "    <tr>\n",
       "      <th>972</th>\n",
       "      <td>2</td>\n",
       "      <td>56.0</td>\n",
       "      <td>2.586812</td>\n",
       "      <td>2-Home-based school</td>\n",
       "    </tr>\n",
       "    <tr>\n",
       "      <th>973</th>\n",
       "      <td>2</td>\n",
       "      <td>14206.0</td>\n",
       "      <td>16.002980</td>\n",
       "      <td>2-Home-based school</td>\n",
       "    </tr>\n",
       "  </tbody>\n",
       "</table>\n",
       "<p>974 rows × 4 columns</p>\n",
       "</div>"
      ],
      "text/plain": [
       "     trip_type  distance_miles_2mibin  trip_weight_sum  \\\n",
       "0            7                   10.0     46195.137161   \n",
       "1            7                    8.0     76585.100138   \n",
       "2            7                    0.0    637360.929566   \n",
       "3            7                    2.0    378611.422226   \n",
       "4            7                   12.0     59553.198315   \n",
       "..         ...                    ...              ...   \n",
       "969          2                  126.0         0.000000   \n",
       "970          2                   84.0        44.142885   \n",
       "971          2                 1146.0        17.986077   \n",
       "972          2                   56.0         2.586812   \n",
       "973          2                14206.0        16.002980   \n",
       "\n",
       "                     Trip Type  \n",
       "0    7-Non-home-based non-work  \n",
       "1    7-Non-home-based non-work  \n",
       "2    7-Non-home-based non-work  \n",
       "3    7-Non-home-based non-work  \n",
       "4    7-Non-home-based non-work  \n",
       "..                         ...  \n",
       "969        2-Home-based school  \n",
       "970        2-Home-based school  \n",
       "971        2-Home-based school  \n",
       "972        2-Home-based school  \n",
       "973        2-Home-based school  \n",
       "\n",
       "[974 rows x 4 columns]"
      ]
     },
     "execution_count": 29,
     "metadata": {},
     "output_type": "execute_result"
    }
   ],
   "source": [
    "# add labels onto data\n",
    "dfBinnedTripDistance = pd.merge(dfBinnedTripDistance, dfTripTypeLabels, on='trip_type')\n",
    "dfBinnedTripDistance"
   ]
  },
  {
   "cell_type": "markdown",
   "metadata": {},
   "source": [
    "## Calculate Distribution of Trips"
   ]
  },
  {
   "cell_type": "code",
   "execution_count": 170,
   "metadata": {},
   "outputs": [],
   "source": [
    "# Group by 'trip_type' and 'distance_miles_2mibin' and sum 'trip_weight_sum'\n",
    "grouped = dfBinnedTripDistance.groupby(['Trip Type', 'distance_miles_2mibin']).agg({'trip_weight_sum': 'sum'}).reset_index()\n",
    "\n",
    "# Calculate the total weight for each trip type\n",
    "total_weights = grouped.groupby('Trip Type')['trip_weight_sum'].transform('sum')\n",
    "\n",
    "# Calculate percentage distribution\n",
    "grouped['percentage'] = (grouped['trip_weight_sum'] / total_weights) * 100\n",
    "\n",
    "# only plot below 60 miles\n",
    "#filtered_grouped = grouped[grouped['distance_miles_2mibin'] <= 30].copy()\n"
   ]
  },
  {
   "cell_type": "code",
   "execution_count": 171,
   "metadata": {},
   "outputs": [],
   "source": [
    "# Add cumulative distribution\n",
    "\n",
    "# Assuming 'filtered_grouped' is a DataFrame that has been grouped appropriately\n",
    "filtered_grouped['cumulative_percentage'] = filtered_grouped.groupby('Trip Type')['percentage'].cumsum()"
   ]
  },
  {
   "cell_type": "markdown",
   "metadata": {},
   "source": [
    "## Plot distributions"
   ]
  },
  {
   "cell_type": "markdown",
   "metadata": {},
   "source": [
    "### Seaborn Plot"
   ]
  },
  {
   "cell_type": "code",
   "execution_count": 172,
   "metadata": {},
   "outputs": [
    {
     "data": {
      "image/png": "[encoded data removed]",
      "text/plain": [
       "<Figure size 1200x600 with 1 Axes>"
      ]
     },
     "metadata": {},
     "output_type": "display_data"
    }
   ],
   "source": [
    "import matplotlib.pyplot as plt\n",
    "import seaborn as sns\n",
    "\n",
    "# Set the plotting style\n",
    "sns.set(style=\"whitegrid\")\n",
    "\n",
    "# Define a colorful palette\n",
    "palette = sns.color_palette(\"hsv\", n_colors=filtered_grouped['Trip Type'].nunique())\n",
    "\n",
    "# Create the line plot\n",
    "plt.figure(figsize=(12, 6))\n",
    "# Filter to only include bins up to 100 miles for visualization\n",
    "line_plot = sns.lineplot(data=filtered_grouped, x='distance_miles_2mibin', y='percentage', hue='Trip Type', marker='o', palette=palette)\n",
    "\n",
    "# Set labels, title, and limits\n",
    "plt.xlabel('Distance Miles 2-Mi Bin')\n",
    "plt.ylabel('Percentage')\n",
    "plt.title('Trip Distance Distribution for Weber/Davis/Salt Lake/Utah Counties')\n",
    "plt.legend(title='Trip Type')\n",
    "\n",
    "# Show the plot\n",
    "plt.show()\n"
   ]
  },
  {
   "cell_type": "markdown",
   "metadata": {},
   "source": [
    "### Plotly"
   ]
  },
  {
   "cell_type": "code",
   "execution_count": 173,
   "metadata": {},
   "outputs": [
    {
     "data": {
      "application/vnd.plotly.v1+json": {
       "config": {
        "plotlyServerURL": "https://plot.ly"
       },
       "data": [
        {
         "hovertemplate": "Trip Type=1-Home-based work<br>Distance Traveled (miles)=%{x}<br>Percentage=%{y}<extra></extra>",
         "legendgroup": "1-Home-based work",
         "line": {
          "color": "#636efa",
          "dash": "solid"
         },
         "marker": {
          "symbol": "circle"
         },
         "mode": "lines",
         "name": "1-Home-based work",
         "orientation": "v",
         "showlegend": true,
         "type": "scatter",
         "x": [
          0,
          2,
          4,
          6,
          8,
          10,
          12,
          14,
          16,
          18,
          20,
          22,
          24,
          26,
          28,
          30
         ],
         "xaxis": "x",
         "y": [
          16.63432579184402,
          16.0332569760466,
          11.174717458683556,
          10.66829221335926,
          8.106052958640289,
          6.0173838254716525,
          5.342800162094661,
          5.534043164431268,
          2.819285381867345,
          2.6377277729666027,
          2.9733979540537994,
          1.7096817631720627,
          1.944513394694845,
          0.9461446164598257,
          1.0384933037073947,
          0.7559438949061222
         ],
         "yaxis": "y"
        },
        {
         "hovertemplate": "Trip Type=2-Home-based school<br>Distance Traveled (miles)=%{x}<br>Percentage=%{y}<extra></extra>",
         "legendgroup": "2-Home-based school",
         "line": {
          "color": "#EF553B",
          "dash": "solid"
         },
         "marker": {
          "symbol": "circle"
         },
         "mode": "lines",
         "name": "2-Home-based school",
         "orientation": "v",
         "showlegend": true,
         "type": "scatter",
         "x": [
          0,
          2,
          4,
          6,
          8,
          10,
          12,
          14,
          16,
          18,
          20,
          22,
          24,
          26,
          28,
          30
         ],
         "xaxis": "x",
         "y": [
          43.41606104547247,
          22.828853666233396,
          9.375660658262154,
          7.686490445918448,
          3.7095519602985996,
          2.7855822198504008,
          2.0056731963328915,
          0.846162465912202,
          2.0073785931539017,
          0.8978582615588032,
          0.4849239799501782,
          1.073372149936091,
          0.537609580738955,
          0.34555237917468934,
          0.45118742300608056,
          0.039020508512130236
         ],
         "yaxis": "y"
        },
        {
         "hovertemplate": "Trip Type=3-Home-based shopping<br>Distance Traveled (miles)=%{x}<br>Percentage=%{y}<extra></extra>",
         "legendgroup": "3-Home-based shopping",
         "line": {
          "color": "#00cc96",
          "dash": "solid"
         },
         "marker": {
          "symbol": "circle"
         },
         "mode": "lines",
         "name": "3-Home-based shopping",
         "orientation": "v",
         "showlegend": true,
         "type": "scatter",
         "x": [
          0,
          2,
          4,
          6,
          8,
          10,
          12,
          14,
          16,
          18,
          20,
          22,
          24,
          26,
          28,
          30
         ],
         "xaxis": "x",
         "y": [
          36.94194383527108,
          32.47312618720333,
          12.107101226294228,
          5.412726348201718,
          4.043011578827636,
          2.0928112730253665,
          1.3363012136550882,
          0.8023843982370391,
          0.6631502405429666,
          0.2563586785548868,
          0.4651450641881702,
          0.24460318781059526,
          0.48745604029994505,
          0.4550257441146931,
          0.5668134495882712,
          0.06681692788339182
         ],
         "yaxis": "y"
        },
        {
         "hovertemplate": "Trip Type=4-Home-based personal business<br>Distance Traveled (miles)=%{x}<br>Percentage=%{y}<extra></extra>",
         "legendgroup": "4-Home-based personal business",
         "line": {
          "color": "#ab63fa",
          "dash": "solid"
         },
         "marker": {
          "symbol": "circle"
         },
         "mode": "lines",
         "name": "4-Home-based personal business",
         "orientation": "v",
         "showlegend": true,
         "type": "scatter",
         "x": [
          0,
          2,
          4,
          6,
          8,
          10,
          12,
          14,
          16,
          18,
          20,
          22,
          24,
          26,
          28,
          30
         ],
         "xaxis": "x",
         "y": [
          26.05308674595318,
          28.3843775296862,
          10.689117881425005,
          9.370199358172878,
          4.5503355305523,
          3.9579926350317236,
          2.5950572964006247,
          2.1637152965868256,
          1.8229555602942513,
          2.6747668923034005,
          1.7837619858281855,
          1.2495321778128878,
          0.5913422651636818,
          0.8222252231874598,
          0.46814394323659764,
          0.5652118049347271
         ],
         "yaxis": "y"
        },
        {
         "hovertemplate": "Trip Type=5-Home-based other<br>Distance Traveled (miles)=%{x}<br>Percentage=%{y}<extra></extra>",
         "legendgroup": "5-Home-based other",
         "line": {
          "color": "#FFA15A",
          "dash": "solid"
         },
         "marker": {
          "symbol": "circle"
         },
         "mode": "lines",
         "name": "5-Home-based other",
         "orientation": "v",
         "showlegend": true,
         "type": "scatter",
         "x": [
          0,
          2,
          4,
          6,
          8,
          10,
          12,
          14,
          16,
          18,
          20,
          22,
          24,
          26,
          28,
          30
         ],
         "xaxis": "x",
         "y": [
          43.19726750020399,
          22.275327305545353,
          9.639844613474702,
          6.467555180000993,
          3.7686815137267327,
          2.904379465128859,
          2.0931446509585947,
          1.4097991249464643,
          1.4020951203606207,
          0.7278553153518075,
          0.8606071748125093,
          0.7050962827724376,
          0.8178906594434536,
          0.6153099944914141,
          0.48840077084980804,
          0.22644501851685667
         ],
         "yaxis": "y"
        },
        {
         "hovertemplate": "Trip Type=6-Non-home-based work<br>Distance Traveled (miles)=%{x}<br>Percentage=%{y}<extra></extra>",
         "legendgroup": "6-Non-home-based work",
         "line": {
          "color": "#19d3f3",
          "dash": "solid"
         },
         "marker": {
          "symbol": "circle"
         },
         "mode": "lines",
         "name": "6-Non-home-based work",
         "orientation": "v",
         "showlegend": true,
         "type": "scatter",
         "x": [
          0,
          2,
          4,
          6,
          8,
          10,
          12,
          14,
          16,
          18,
          20,
          22,
          24,
          26,
          28,
          30
         ],
         "xaxis": "x",
         "y": [
          33.197024816767616,
          19.035599957081676,
          11.170873541731021,
          6.913293128003192,
          4.85231673510496,
          3.5703721914347364,
          3.3083191939529537,
          3.4088360658355508,
          2.4010579794825615,
          1.408206821850701,
          0.9882137004259837,
          1.133458578833118,
          1.3191081618225087,
          0.5764137642026869,
          1.066554798471301,
          0.6441150738784713
         ],
         "yaxis": "y"
        },
        {
         "hovertemplate": "Trip Type=7-Non-home-based non-work<br>Distance Traveled (miles)=%{x}<br>Percentage=%{y}<extra></extra>",
         "legendgroup": "7-Non-home-based non-work",
         "line": {
          "color": "#FF6692",
          "dash": "solid"
         },
         "marker": {
          "symbol": "circle"
         },
         "mode": "lines",
         "name": "7-Non-home-based non-work",
         "orientation": "v",
         "showlegend": true,
         "type": "scatter",
         "x": [
          0,
          2,
          4,
          6,
          8,
          10,
          12,
          14,
          16,
          18,
          20,
          22,
          24,
          26,
          28,
          30
         ],
         "xaxis": "x",
         "y": [
          38.15045766960854,
          22.66251093662647,
          10.938140264149483,
          5.755768363003831,
          4.584147671128401,
          2.76509830311143,
          3.5646706066047744,
          2.203314011454309,
          1.4089492915926374,
          1.1977495488910352,
          1.1294291487969983,
          0.6598597090695513,
          0.5249459437819859,
          0.2581636271587463,
          0.2454678235217971,
          0.49246045550975226
         ],
         "yaxis": "y"
        },
        {
         "hovertemplate": "Trip Type=995-Missing response<br>Distance Traveled (miles)=%{x}<br>Percentage=%{y}<extra></extra>",
         "legendgroup": "995-Missing response",
         "line": {
          "color": "#B6E880",
          "dash": "solid"
         },
         "marker": {
          "symbol": "circle"
         },
         "mode": "lines",
         "name": "995-Missing response",
         "orientation": "v",
         "showlegend": true,
         "type": "scatter",
         "x": [
          0,
          2,
          4,
          6,
          8,
          10,
          12,
          14,
          16,
          18,
          20,
          22,
          24,
          26,
          28,
          30
         ],
         "xaxis": "x",
         "y": [
          35.884457242691056,
          21.882487039212645,
          10.674025956942975,
          7.279454037632091,
          4.6405992953878155,
          3.4651138541177495,
          3.4938376719892603,
          2.576525610652326,
          1.2839203002649286,
          1.389989808926248,
          0.7629460039380324,
          0.887656744407065,
          0.7464722582619963,
          0.6696555135293306,
          0.4610046865938553,
          0.3025417173927363
         ],
         "yaxis": "y"
        }
       ],
       "layout": {
        "legend": {
         "title": {
          "text": "Trip Type"
         },
         "tracegroupgap": 0
        },
        "template": {
         "data": {
          "bar": [
           {
            "error_x": {
             "color": "#2a3f5f"
            },
            "error_y": {
             "color": "#2a3f5f"
            },
            "marker": {
             "line": {
              "color": "#E5ECF6",
              "width": 0.5
             },
             "pattern": {
              "fillmode": "overlay",
              "size": 10,
              "solidity": 0.2
             }
            },
            "type": "bar"
           }
          ],
          "barpolar": [
           {
            "marker": {
             "line": {
              "color": "#E5ECF6",
              "width": 0.5
             },
             "pattern": {
              "fillmode": "overlay",
              "size": 10,
              "solidity": 0.2
             }
            },
            "type": "barpolar"
           }
          ],
          "carpet": [
           {
            "aaxis": {
             "endlinecolor": "#2a3f5f",
             "gridcolor": "white",
             "linecolor": "white",
             "minorgridcolor": "white",
             "startlinecolor": "#2a3f5f"
            },
            "baxis": {
             "endlinecolor": "#2a3f5f",
             "gridcolor": "white",
             "linecolor": "white",
             "minorgridcolor": "white",
             "startlinecolor": "#2a3f5f"
            },
            "type": "carpet"
           }
          ],
          "choropleth": [
           {
            "colorbar": {
             "outlinewidth": 0,
             "ticks": ""
            },
            "type": "choropleth"
           }
          ],
          "contour": [
           {
            "colorbar": {
             "outlinewidth": 0,
             "ticks": ""
            },
            "colorscale": [
             [
              0,
              "#0d0887"
             ],
             [
              0.1111111111111111,
              "#46039f"
             ],
             [
              0.2222222222222222,
              "#7201a8"
             ],
             [
              0.3333333333333333,
              "#9c179e"
             ],
             [
              0.4444444444444444,
              "#bd3786"
             ],
             [
              0.5555555555555556,
              "#d8576b"
             ],
             [
              0.6666666666666666,
              "#ed7953"
             ],
             [
              0.7777777777777778,
              "#fb9f3a"
             ],
             [
              0.8888888888888888,
              "#fdca26"
             ],
             [
              1,
              "#f0f921"
             ]
            ],
            "type": "contour"
           }
          ],
          "contourcarpet": [
           {
            "colorbar": {
             "outlinewidth": 0,
             "ticks": ""
            },
            "type": "contourcarpet"
           }
          ],
          "heatmap": [
           {
            "colorbar": {
             "outlinewidth": 0,
             "ticks": ""
            },
            "colorscale": [
             [
              0,
              "#0d0887"
             ],
             [
              0.1111111111111111,
              "#46039f"
             ],
             [
              0.2222222222222222,
              "#7201a8"
             ],
             [
              0.3333333333333333,
              "#9c179e"
             ],
             [
              0.4444444444444444,
              "#bd3786"
             ],
             [
              0.5555555555555556,
              "#d8576b"
             ],
             [
              0.6666666666666666,
              "#ed7953"
             ],
             [
              0.7777777777777778,
              "#fb9f3a"
             ],
             [
              0.8888888888888888,
              "#fdca26"
             ],
             [
              1,
              "#f0f921"
             ]
            ],
            "type": "heatmap"
           }
          ],
          "heatmapgl": [
           {
            "colorbar": {
             "outlinewidth": 0,
             "ticks": ""
            },
            "colorscale": [
             [
              0,
              "#0d0887"
             ],
             [
              0.1111111111111111,
              "#46039f"
             ],
             [
              0.2222222222222222,
              "#7201a8"
             ],
             [
              0.3333333333333333,
              "#9c179e"
             ],
             [
              0.4444444444444444,
              "#bd3786"
             ],
             [
              0.5555555555555556,
              "#d8576b"
             ],
             [
              0.6666666666666666,
              "#ed7953"
             ],
             [
              0.7777777777777778,
              "#fb9f3a"
             ],
             [
              0.8888888888888888,
              "#fdca26"
             ],
             [
              1,
              "#f0f921"
             ]
            ],
            "type": "heatmapgl"
           }
          ],
          "histogram": [
           {
            "marker": {
             "pattern": {
              "fillmode": "overlay",
              "size": 10,
              "solidity": 0.2
             }
            },
            "type": "histogram"
           }
          ],
          "histogram2d": [
           {
            "colorbar": {
             "outlinewidth": 0,
             "ticks": ""
            },
            "colorscale": [
             [
              0,
              "#0d0887"
             ],
             [
              0.1111111111111111,
              "#46039f"
             ],
             [
              0.2222222222222222,
              "#7201a8"
             ],
             [
              0.3333333333333333,
              "#9c179e"
             ],
             [
              0.4444444444444444,
              "#bd3786"
             ],
             [
              0.5555555555555556,
              "#d8576b"
             ],
             [
              0.6666666666666666,
              "#ed7953"
             ],
             [
              0.7777777777777778,
              "#fb9f3a"
             ],
             [
              0.8888888888888888,
              "#fdca26"
             ],
             [
              1,
              "#f0f921"
             ]
            ],
            "type": "histogram2d"
           }
          ],
          "histogram2dcontour": [
           {
            "colorbar": {
             "outlinewidth": 0,
             "ticks": ""
            },
            "colorscale": [
             [
              0,
              "#0d0887"
             ],
             [
              0.1111111111111111,
              "#46039f"
             ],
             [
              0.2222222222222222,
              "#7201a8"
             ],
             [
              0.3333333333333333,
              "#9c179e"
             ],
             [
              0.4444444444444444,
              "#bd3786"
             ],
             [
              0.5555555555555556,
              "#d8576b"
             ],
             [
              0.6666666666666666,
              "#ed7953"
             ],
             [
              0.7777777777777778,
              "#fb9f3a"
             ],
             [
              0.8888888888888888,
              "#fdca26"
             ],
             [
              1,
              "#f0f921"
             ]
            ],
            "type": "histogram2dcontour"
           }
          ],
          "mesh3d": [
           {
            "colorbar": {
             "outlinewidth": 0,
             "ticks": ""
            },
            "type": "mesh3d"
           }
          ],
          "parcoords": [
           {
            "line": {
             "colorbar": {
              "outlinewidth": 0,
              "ticks": ""
             }
            },
            "type": "parcoords"
           }
          ],
          "pie": [
           {
            "automargin": true,
            "type": "pie"
           }
          ],
          "scatter": [
           {
            "fillpattern": {
             "fillmode": "overlay",
             "size": 10,
             "solidity": 0.2
            },
            "type": "scatter"
           }
          ],
          "scatter3d": [
           {
            "line": {
             "colorbar": {
              "outlinewidth": 0,
              "ticks": ""
             }
            },
            "marker": {
             "colorbar": {
              "outlinewidth": 0,
              "ticks": ""
             }
            },
            "type": "scatter3d"
           }
          ],
          "scattercarpet": [
           {
            "marker": {
             "colorbar": {
              "outlinewidth": 0,
              "ticks": ""
             }
            },
            "type": "scattercarpet"
           }
          ],
          "scattergeo": [
           {
            "marker": {
             "colorbar": {
              "outlinewidth": 0,
              "ticks": ""
             }
            },
            "type": "scattergeo"
           }
          ],
          "scattergl": [
           {
            "marker": {
             "colorbar": {
              "outlinewidth": 0,
              "ticks": ""
             }
            },
            "type": "scattergl"
           }
          ],
          "scattermapbox": [
           {
            "marker": {
             "colorbar": {
              "outlinewidth": 0,
              "ticks": ""
             }
            },
            "type": "scattermapbox"
           }
          ],
          "scatterpolar": [
           {
            "marker": {
             "colorbar": {
              "outlinewidth": 0,
              "ticks": ""
             }
            },
            "type": "scatterpolar"
           }
          ],
          "scatterpolargl": [
           {
            "marker": {
             "colorbar": {
              "outlinewidth": 0,
              "ticks": ""
             }
            },
            "type": "scatterpolargl"
           }
          ],
          "scatterternary": [
           {
            "marker": {
             "colorbar": {
              "outlinewidth": 0,
              "ticks": ""
             }
            },
            "type": "scatterternary"
           }
          ],
          "surface": [
           {
            "colorbar": {
             "outlinewidth": 0,
             "ticks": ""
            },
            "colorscale": [
             [
              0,
              "#0d0887"
             ],
             [
              0.1111111111111111,
              "#46039f"
             ],
             [
              0.2222222222222222,
              "#7201a8"
             ],
             [
              0.3333333333333333,
              "#9c179e"
             ],
             [
              0.4444444444444444,
              "#bd3786"
             ],
             [
              0.5555555555555556,
              "#d8576b"
             ],
             [
              0.6666666666666666,
              "#ed7953"
             ],
             [
              0.7777777777777778,
              "#fb9f3a"
             ],
             [
              0.8888888888888888,
              "#fdca26"
             ],
             [
              1,
              "#f0f921"
             ]
            ],
            "type": "surface"
           }
          ],
          "table": [
           {
            "cells": {
             "fill": {
              "color": "#EBF0F8"
             },
             "line": {
              "color": "white"
             }
            },
            "header": {
             "fill": {
              "color": "#C8D4E3"
             },
             "line": {
              "color": "white"
             }
            },
            "type": "table"
           }
          ]
         },
         "layout": {
          "annotationdefaults": {
           "arrowcolor": "#2a3f5f",
           "arrowhead": 0,
           "arrowwidth": 1
          },
          "autotypenumbers": "strict",
          "coloraxis": {
           "colorbar": {
            "outlinewidth": 0,
            "ticks": ""
           }
          },
          "colorscale": {
           "diverging": [
            [
             0,
             "#8e0152"
            ],
            [
             0.1,
             "#c51b7d"
            ],
            [
             0.2,
             "#de77ae"
            ],
            [
             0.3,
             "#f1b6da"
            ],
            [
             0.4,
             "#fde0ef"
            ],
            [
             0.5,
             "#f7f7f7"
            ],
            [
             0.6,
             "#e6f5d0"
            ],
            [
             0.7,
             "#b8e186"
            ],
            [
             0.8,
             "#7fbc41"
            ],
            [
             0.9,
             "#4d9221"
            ],
            [
             1,
             "#276419"
            ]
           ],
           "sequential": [
            [
             0,
             "#0d0887"
            ],
            [
             0.1111111111111111,
             "#46039f"
            ],
            [
             0.2222222222222222,
             "#7201a8"
            ],
            [
             0.3333333333333333,
             "#9c179e"
            ],
            [
             0.4444444444444444,
             "#bd3786"
            ],
            [
             0.5555555555555556,
             "#d8576b"
            ],
            [
             0.6666666666666666,
             "#ed7953"
            ],
            [
             0.7777777777777778,
             "#fb9f3a"
            ],
            [
             0.8888888888888888,
             "#fdca26"
            ],
            [
             1,
             "#f0f921"
            ]
           ],
           "sequentialminus": [
            [
             0,
             "#0d0887"
            ],
            [
             0.1111111111111111,
             "#46039f"
            ],
            [
             0.2222222222222222,
             "#7201a8"
            ],
            [
             0.3333333333333333,
             "#9c179e"
            ],
            [
             0.4444444444444444,
             "#bd3786"
            ],
            [
             0.5555555555555556,
             "#d8576b"
            ],
            [
             0.6666666666666666,
             "#ed7953"
            ],
            [
             0.7777777777777778,
             "#fb9f3a"
            ],
            [
             0.8888888888888888,
             "#fdca26"
            ],
            [
             1,
             "#f0f921"
            ]
           ]
          },
          "colorway": [
           "#636efa",
           "#EF553B",
           "#00cc96",
           "#ab63fa",
           "#FFA15A",
           "#19d3f3",
           "#FF6692",
           "#B6E880",
           "#FF97FF",
           "#FECB52"
          ],
          "font": {
           "color": "#2a3f5f"
          },
          "geo": {
           "bgcolor": "white",
           "lakecolor": "white",
           "landcolor": "#E5ECF6",
           "showlakes": true,
           "showland": true,
           "subunitcolor": "white"
          },
          "hoverlabel": {
           "align": "left"
          },
          "hovermode": "closest",
          "mapbox": {
           "style": "light"
          },
          "paper_bgcolor": "white",
          "plot_bgcolor": "#E5ECF6",
          "polar": {
           "angularaxis": {
            "gridcolor": "white",
            "linecolor": "white",
            "ticks": ""
           },
           "bgcolor": "#E5ECF6",
           "radialaxis": {
            "gridcolor": "white",
            "linecolor": "white",
            "ticks": ""
           }
          },
          "scene": {
           "xaxis": {
            "backgroundcolor": "#E5ECF6",
            "gridcolor": "white",
            "gridwidth": 2,
            "linecolor": "white",
            "showbackground": true,
            "ticks": "",
            "zerolinecolor": "white"
           },
           "yaxis": {
            "backgroundcolor": "#E5ECF6",
            "gridcolor": "white",
            "gridwidth": 2,
            "linecolor": "white",
            "showbackground": true,
            "ticks": "",
            "zerolinecolor": "white"
           },
           "zaxis": {
            "backgroundcolor": "#E5ECF6",
            "gridcolor": "white",
            "gridwidth": 2,
            "linecolor": "white",
            "showbackground": true,
            "ticks": "",
            "zerolinecolor": "white"
           }
          },
          "shapedefaults": {
           "line": {
            "color": "#2a3f5f"
           }
          },
          "ternary": {
           "aaxis": {
            "gridcolor": "white",
            "linecolor": "white",
            "ticks": ""
           },
           "baxis": {
            "gridcolor": "white",
            "linecolor": "white",
            "ticks": ""
           },
           "bgcolor": "#E5ECF6",
           "caxis": {
            "gridcolor": "white",
            "linecolor": "white",
            "ticks": ""
           }
          },
          "title": {
           "x": 0.05
          },
          "xaxis": {
           "automargin": true,
           "gridcolor": "white",
           "linecolor": "white",
           "ticks": "",
           "title": {
            "standoff": 15
           },
           "zerolinecolor": "white",
           "zerolinewidth": 2
          },
          "yaxis": {
           "automargin": true,
           "gridcolor": "white",
           "linecolor": "white",
           "ticks": "",
           "title": {
            "standoff": 15
           },
           "zerolinecolor": "white",
           "zerolinewidth": 2
          }
         }
        },
        "title": {
         "text": "Trip Distance Distribution for Weber/Davis/Salt Lake/Utah Counties"
        },
        "xaxis": {
         "anchor": "y",
         "domain": [
          0,
          1
         ],
         "title": {
          "text": "Distance Traveled (miles)"
         }
        },
        "yaxis": {
         "anchor": "x",
         "domain": [
          0,
          1
         ],
         "title": {
          "text": "Percentage of Trips"
         }
        }
       }
      }
     },
     "metadata": {},
     "output_type": "display_data"
    }
   ],
   "source": [
    "import plotly.express as px\n",
    "\n",
    "# Create an interactive line graph\n",
    "fig = px.line(\n",
    "    filtered_grouped,\n",
    "    x='distance_miles_2mibin',\n",
    "    y='percentage',\n",
    "    color='Trip Type',\n",
    "    #markers=True,  # This adds markers to each point\n",
    "    labels={\n",
    "        'distance_miles_2mibin': 'Distance Traveled (miles)',\n",
    "        'percentage': 'Percentage'\n",
    "    },\n",
    "    title='Trip Distance Distribution for Weber/Davis/Salt Lake/Utah Counties'\n",
    "    \n",
    ")\n",
    "\n",
    "# Update layout if necessary\n",
    "fig.update_layout(\n",
    "    xaxis_title='Distance Traveled (miles)',\n",
    "    yaxis_title='Percentage of Trips',\n",
    "    legend_title='Trip Type'\n",
    ")\n",
    "\n",
    "# Show the plot\n",
    "fig.show()"
   ]
  },
  {
   "cell_type": "markdown",
   "metadata": {},
   "source": [
    "### Seaborn Cumulative"
   ]
  },
  {
   "cell_type": "code",
   "execution_count": 174,
   "metadata": {},
   "outputs": [
    {
     "data": {
      "image/png": "[encoded data removed]",
      "text/plain": [
       "<Figure size 1200x600 with 1 Axes>"
      ]
     },
     "metadata": {},
     "output_type": "display_data"
    }
   ],
   "source": [
    "import matplotlib.pyplot as plt\n",
    "import seaborn as sns\n",
    "\n",
    "# Set the plotting style\n",
    "sns.set(style=\"whitegrid\")\n",
    "\n",
    "# Create the line plot with seaborn\n",
    "plt.figure(figsize=(12, 6))\n",
    "line_plot = sns.lineplot(\n",
    "    data=filtered_grouped,\n",
    "    x='distance_miles_2mibin',\n",
    "    y='cumulative_percentage',\n",
    "    hue='Trip Type',\n",
    "    marker='o',\n",
    "    palette=palette  # A perceptually uniform colormap\n",
    ")\n",
    "\n",
    "# Customize the plot with labels and titles\n",
    "plt.xlabel('Distance Traveled (miles)')\n",
    "plt.ylabel('Cumulative Percentage of Trips')\n",
    "plt.title('Cumulative Trip Distance Distribution for Weber/Davis/Salt Lake/Utah Counties')\n",
    "plt.legend(title='Trip Type')\n",
    "\n",
    "# Show the plot\n",
    "plt.show()\n"
   ]
  },
  {
   "cell_type": "markdown",
   "metadata": {},
   "source": [
    "### Plotly Cumulative Distribution"
   ]
  },
  {
   "cell_type": "code",
   "execution_count": 175,
   "metadata": {},
   "outputs": [
    {
     "data": {
      "application/vnd.plotly.v1+json": {
       "config": {
        "plotlyServerURL": "https://plot.ly"
       },
       "data": [
        {
         "hovertemplate": "Trip Type=1-Home-based work<br>Distance Traveled (miles)=%{x}<br>Cumulative Percentage=%{y}<extra></extra>",
         "legendgroup": "1-Home-based work",
         "line": {
          "color": "#636efa",
          "dash": "solid"
         },
         "marker": {
          "symbol": "circle"
         },
         "mode": "lines",
         "name": "1-Home-based work",
         "orientation": "v",
         "showlegend": true,
         "type": "scatter",
         "x": [
          0,
          2,
          4,
          6,
          8,
          10,
          12,
          14,
          16,
          18,
          20,
          22,
          24,
          26,
          28,
          30
         ],
         "xaxis": "x",
         "y": [
          16.63432579184402,
          32.66758276789062,
          43.84230022657418,
          54.51059243993344,
          62.61664539857372,
          68.63402922404538,
          73.97682938614004,
          79.5108725505713,
          82.33015793243865,
          84.96788570540525,
          87.94128365945906,
          89.65096542263112,
          91.59547881732597,
          92.54162343378579,
          93.58011673749319,
          94.33606063239931
         ],
         "yaxis": "y"
        },
        {
         "hovertemplate": "Trip Type=2-Home-based school<br>Distance Traveled (miles)=%{x}<br>Cumulative Percentage=%{y}<extra></extra>",
         "legendgroup": "2-Home-based school",
         "line": {
          "color": "#EF553B",
          "dash": "solid"
         },
         "marker": {
          "symbol": "circle"
         },
         "mode": "lines",
         "name": "2-Home-based school",
         "orientation": "v",
         "showlegend": true,
         "type": "scatter",
         "x": [
          0,
          2,
          4,
          6,
          8,
          10,
          12,
          14,
          16,
          18,
          20,
          22,
          24,
          26,
          28,
          30
         ],
         "xaxis": "x",
         "y": [
          43.41606104547247,
          66.24491471170586,
          75.62057536996802,
          83.30706581588646,
          87.01661777618507,
          89.80219999603547,
          91.80787319236836,
          92.65403565828056,
          94.66141425143446,
          95.55927251299326,
          96.04419649294344,
          97.11756864287953,
          97.65517822361849,
          98.00073060279318,
          98.45191802579926,
          98.49093853431138
         ],
         "yaxis": "y"
        },
        {
         "hovertemplate": "Trip Type=3-Home-based shopping<br>Distance Traveled (miles)=%{x}<br>Cumulative Percentage=%{y}<extra></extra>",
         "legendgroup": "3-Home-based shopping",
         "line": {
          "color": "#00cc96",
          "dash": "solid"
         },
         "marker": {
          "symbol": "circle"
         },
         "mode": "lines",
         "name": "3-Home-based shopping",
         "orientation": "v",
         "showlegend": true,
         "type": "scatter",
         "x": [
          0,
          2,
          4,
          6,
          8,
          10,
          12,
          14,
          16,
          18,
          20,
          22,
          24,
          26,
          28,
          30
         ],
         "xaxis": "x",
         "y": [
          36.94194383527108,
          69.41507002247441,
          81.52217124876864,
          86.93489759697036,
          90.97790917579799,
          93.07072044882337,
          94.40702166247844,
          95.20940606071548,
          95.87255630125846,
          96.12891497981335,
          96.59406004400151,
          96.8386632318121,
          97.32611927211205,
          97.78114501622674,
          98.34795846581501,
          98.4147753936984
         ],
         "yaxis": "y"
        },
        {
         "hovertemplate": "Trip Type=4-Home-based personal business<br>Distance Traveled (miles)=%{x}<br>Cumulative Percentage=%{y}<extra></extra>",
         "legendgroup": "4-Home-based personal business",
         "line": {
          "color": "#ab63fa",
          "dash": "solid"
         },
         "marker": {
          "symbol": "circle"
         },
         "mode": "lines",
         "name": "4-Home-based personal business",
         "orientation": "v",
         "showlegend": true,
         "type": "scatter",
         "x": [
          0,
          2,
          4,
          6,
          8,
          10,
          12,
          14,
          16,
          18,
          20,
          22,
          24,
          26,
          28,
          30
         ],
         "xaxis": "x",
         "y": [
          26.05308674595318,
          54.437464275639385,
          65.12658215706439,
          74.49678151523726,
          79.04711704578956,
          83.00510968082129,
          85.60016697722192,
          87.76388227380873,
          89.586837834103,
          92.26160472640639,
          94.04536671223458,
          95.29489889004746,
          95.88624115521115,
          96.70846637839861,
          97.17661032163521,
          97.74182212656993
         ],
         "yaxis": "y"
        },
        {
         "hovertemplate": "Trip Type=5-Home-based other<br>Distance Traveled (miles)=%{x}<br>Cumulative Percentage=%{y}<extra></extra>",
         "legendgroup": "5-Home-based other",
         "line": {
          "color": "#FFA15A",
          "dash": "solid"
         },
         "marker": {
          "symbol": "circle"
         },
         "mode": "lines",
         "name": "5-Home-based other",
         "orientation": "v",
         "showlegend": true,
         "type": "scatter",
         "x": [
          0,
          2,
          4,
          6,
          8,
          10,
          12,
          14,
          16,
          18,
          20,
          22,
          24,
          26,
          28,
          30
         ],
         "xaxis": "x",
         "y": [
          43.19726750020399,
          65.47259480574934,
          75.11243941922405,
          81.57999459922505,
          85.34867611295178,
          88.25305557808063,
          90.34620022903923,
          91.75599935398569,
          93.15809447434631,
          93.88594978969812,
          94.74655696451063,
          95.45165324728306,
          96.26954390672653,
          96.88485390121794,
          97.37325467206774,
          97.5996996905846
         ],
         "yaxis": "y"
        },
        {
         "hovertemplate": "Trip Type=6-Non-home-based work<br>Distance Traveled (miles)=%{x}<br>Cumulative Percentage=%{y}<extra></extra>",
         "legendgroup": "6-Non-home-based work",
         "line": {
          "color": "#19d3f3",
          "dash": "solid"
         },
         "marker": {
          "symbol": "circle"
         },
         "mode": "lines",
         "name": "6-Non-home-based work",
         "orientation": "v",
         "showlegend": true,
         "type": "scatter",
         "x": [
          0,
          2,
          4,
          6,
          8,
          10,
          12,
          14,
          16,
          18,
          20,
          22,
          24,
          26,
          28,
          30
         ],
         "xaxis": "x",
         "y": [
          33.197024816767616,
          52.232624773849295,
          63.403498315580315,
          70.31679144358351,
          75.16910817868846,
          78.7394803701232,
          82.04779956407616,
          85.4566356299117,
          87.85769360939426,
          89.26590043124497,
          90.25411413167095,
          91.38757271050407,
          92.70668087232657,
          93.28309463652927,
          94.34964943500057,
          94.99376450887904
         ],
         "yaxis": "y"
        },
        {
         "hovertemplate": "Trip Type=7-Non-home-based non-work<br>Distance Traveled (miles)=%{x}<br>Cumulative Percentage=%{y}<extra></extra>",
         "legendgroup": "7-Non-home-based non-work",
         "line": {
          "color": "#FF6692",
          "dash": "solid"
         },
         "marker": {
          "symbol": "circle"
         },
         "mode": "lines",
         "name": "7-Non-home-based non-work",
         "orientation": "v",
         "showlegend": true,
         "type": "scatter",
         "x": [
          0,
          2,
          4,
          6,
          8,
          10,
          12,
          14,
          16,
          18,
          20,
          22,
          24,
          26,
          28,
          30
         ],
         "xaxis": "x",
         "y": [
          38.15045766960854,
          60.81296860623502,
          71.7511088703845,
          77.50687723338832,
          82.09102490451673,
          84.85612320762816,
          88.42079381423294,
          90.62410782568725,
          92.03305711727988,
          93.23080666617092,
          94.36023581496791,
          95.02009552403746,
          95.54504146781944,
          95.8032050949782,
          96.04867291849999,
          96.54113337400975
         ],
         "yaxis": "y"
        },
        {
         "hovertemplate": "Trip Type=995-Missing response<br>Distance Traveled (miles)=%{x}<br>Cumulative Percentage=%{y}<extra></extra>",
         "legendgroup": "995-Missing response",
         "line": {
          "color": "#B6E880",
          "dash": "solid"
         },
         "marker": {
          "symbol": "circle"
         },
         "mode": "lines",
         "name": "995-Missing response",
         "orientation": "v",
         "showlegend": true,
         "type": "scatter",
         "x": [
          0,
          2,
          4,
          6,
          8,
          10,
          12,
          14,
          16,
          18,
          20,
          22,
          24,
          26,
          28,
          30
         ],
         "xaxis": "x",
         "y": [
          35.884457242691056,
          57.766944281903704,
          68.44097023884667,
          75.72042427647877,
          80.36102357186658,
          83.82613742598433,
          87.3199750979736,
          89.89650070862592,
          91.18042100889085,
          92.57041081781709,
          93.33335682175513,
          94.22101356616218,
          94.96748582442419,
          95.63714133795352,
          96.09814602454738,
          96.4006877419401
         ],
         "yaxis": "y"
        }
       ],
       "layout": {
        "legend": {
         "title": {
          "text": "Trip Type"
         },
         "tracegroupgap": 0
        },
        "template": {
         "data": {
          "bar": [
           {
            "error_x": {
             "color": "#2a3f5f"
            },
            "error_y": {
             "color": "#2a3f5f"
            },
            "marker": {
             "line": {
              "color": "#E5ECF6",
              "width": 0.5
             },
             "pattern": {
              "fillmode": "overlay",
              "size": 10,
              "solidity": 0.2
             }
            },
            "type": "bar"
           }
          ],
          "barpolar": [
           {
            "marker": {
             "line": {
              "color": "#E5ECF6",
              "width": 0.5
             },
             "pattern": {
              "fillmode": "overlay",
              "size": 10,
              "solidity": 0.2
             }
            },
            "type": "barpolar"
           }
          ],
          "carpet": [
           {
            "aaxis": {
             "endlinecolor": "#2a3f5f",
             "gridcolor": "white",
             "linecolor": "white",
             "minorgridcolor": "white",
             "startlinecolor": "#2a3f5f"
            },
            "baxis": {
             "endlinecolor": "#2a3f5f",
             "gridcolor": "white",
             "linecolor": "white",
             "minorgridcolor": "white",
             "startlinecolor": "#2a3f5f"
            },
            "type": "carpet"
           }
          ],
          "choropleth": [
           {
            "colorbar": {
             "outlinewidth": 0,
             "ticks": ""
            },
            "type": "choropleth"
           }
          ],
          "contour": [
           {
            "colorbar": {
             "outlinewidth": 0,
             "ticks": ""
            },
            "colorscale": [
             [
              0,
              "#0d0887"
             ],
             [
              0.1111111111111111,
              "#46039f"
             ],
             [
              0.2222222222222222,
              "#7201a8"
             ],
             [
              0.3333333333333333,
              "#9c179e"
             ],
             [
              0.4444444444444444,
              "#bd3786"
             ],
             [
              0.5555555555555556,
              "#d8576b"
             ],
             [
              0.6666666666666666,
              "#ed7953"
             ],
             [
              0.7777777777777778,
              "#fb9f3a"
             ],
             [
              0.8888888888888888,
              "#fdca26"
             ],
             [
              1,
              "#f0f921"
             ]
            ],
            "type": "contour"
           }
          ],
          "contourcarpet": [
           {
            "colorbar": {
             "outlinewidth": 0,
             "ticks": ""
            },
            "type": "contourcarpet"
           }
          ],
          "heatmap": [
           {
            "colorbar": {
             "outlinewidth": 0,
             "ticks": ""
            },
            "colorscale": [
             [
              0,
              "#0d0887"
             ],
             [
              0.1111111111111111,
              "#46039f"
             ],
             [
              0.2222222222222222,
              "#7201a8"
             ],
             [
              0.3333333333333333,
              "#9c179e"
             ],
             [
              0.4444444444444444,
              "#bd3786"
             ],
             [
              0.5555555555555556,
              "#d8576b"
             ],
             [
              0.6666666666666666,
              "#ed7953"
             ],
             [
              0.7777777777777778,
              "#fb9f3a"
             ],
             [
              0.8888888888888888,
              "#fdca26"
             ],
             [
              1,
              "#f0f921"
             ]
            ],
            "type": "heatmap"
           }
          ],
          "heatmapgl": [
           {
            "colorbar": {
             "outlinewidth": 0,
             "ticks": ""
            },
            "colorscale": [
             [
              0,
              "#0d0887"
             ],
             [
              0.1111111111111111,
              "#46039f"
             ],
             [
              0.2222222222222222,
              "#7201a8"
             ],
             [
              0.3333333333333333,
              "#9c179e"
             ],
             [
              0.4444444444444444,
              "#bd3786"
             ],
             [
              0.5555555555555556,
              "#d8576b"
             ],
             [
              0.6666666666666666,
              "#ed7953"
             ],
             [
              0.7777777777777778,
              "#fb9f3a"
             ],
             [
              0.8888888888888888,
              "#fdca26"
             ],
             [
              1,
              "#f0f921"
             ]
            ],
            "type": "heatmapgl"
           }
          ],
          "histogram": [
           {
            "marker": {
             "pattern": {
              "fillmode": "overlay",
              "size": 10,
              "solidity": 0.2
             }
            },
            "type": "histogram"
           }
          ],
          "histogram2d": [
           {
            "colorbar": {
             "outlinewidth": 0,
             "ticks": ""
            },
            "colorscale": [
             [
              0,
              "#0d0887"
             ],
             [
              0.1111111111111111,
              "#46039f"
             ],
             [
              0.2222222222222222,
              "#7201a8"
             ],
             [
              0.3333333333333333,
              "#9c179e"
             ],
             [
              0.4444444444444444,
              "#bd3786"
             ],
             [
              0.5555555555555556,
              "#d8576b"
             ],
             [
              0.6666666666666666,
              "#ed7953"
             ],
             [
              0.7777777777777778,
              "#fb9f3a"
             ],
             [
              0.8888888888888888,
              "#fdca26"
             ],
             [
              1,
              "#f0f921"
             ]
            ],
            "type": "histogram2d"
           }
          ],
          "histogram2dcontour": [
           {
            "colorbar": {
             "outlinewidth": 0,
             "ticks": ""
            },
            "colorscale": [
             [
              0,
              "#0d0887"
             ],
             [
              0.1111111111111111,
              "#46039f"
             ],
             [
              0.2222222222222222,
              "#7201a8"
             ],
             [
              0.3333333333333333,
              "#9c179e"
             ],
             [
              0.4444444444444444,
              "#bd3786"
             ],
             [
              0.5555555555555556,
              "#d8576b"
             ],
             [
              0.6666666666666666,
              "#ed7953"
             ],
             [
              0.7777777777777778,
              "#fb9f3a"
             ],
             [
              0.8888888888888888,
              "#fdca26"
             ],
             [
              1,
              "#f0f921"
             ]
            ],
            "type": "histogram2dcontour"
           }
          ],
          "mesh3d": [
           {
            "colorbar": {
             "outlinewidth": 0,
             "ticks": ""
            },
            "type": "mesh3d"
           }
          ],
          "parcoords": [
           {
            "line": {
             "colorbar": {
              "outlinewidth": 0,
              "ticks": ""
             }
            },
            "type": "parcoords"
           }
          ],
          "pie": [
           {
            "automargin": true,
            "type": "pie"
           }
          ],
          "scatter": [
           {
            "fillpattern": {
             "fillmode": "overlay",
             "size": 10,
             "solidity": 0.2
            },
            "type": "scatter"
           }
          ],
          "scatter3d": [
           {
            "line": {
             "colorbar": {
              "outlinewidth": 0,
              "ticks": ""
             }
            },
            "marker": {
             "colorbar": {
              "outlinewidth": 0,
              "ticks": ""
             }
            },
            "type": "scatter3d"
           }
          ],
          "scattercarpet": [
           {
            "marker": {
             "colorbar": {
              "outlinewidth": 0,
              "ticks": ""
             }
            },
            "type": "scattercarpet"
           }
          ],
          "scattergeo": [
           {
            "marker": {
             "colorbar": {
              "outlinewidth": 0,
              "ticks": ""
             }
            },
            "type": "scattergeo"
           }
          ],
          "scattergl": [
           {
            "marker": {
             "colorbar": {
              "outlinewidth": 0,
              "ticks": ""
             }
            },
            "type": "scattergl"
           }
          ],
          "scattermapbox": [
           {
            "marker": {
             "colorbar": {
              "outlinewidth": 0,
              "ticks": ""
             }
            },
            "type": "scattermapbox"
           }
          ],
          "scatterpolar": [
           {
            "marker": {
             "colorbar": {
              "outlinewidth": 0,
              "ticks": ""
             }
            },
            "type": "scatterpolar"
           }
          ],
          "scatterpolargl": [
           {
            "marker": {
             "colorbar": {
              "outlinewidth": 0,
              "ticks": ""
             }
            },
            "type": "scatterpolargl"
           }
          ],
          "scatterternary": [
           {
            "marker": {
             "colorbar": {
              "outlinewidth": 0,
              "ticks": ""
             }
            },
            "type": "scatterternary"
           }
          ],
          "surface": [
           {
            "colorbar": {
             "outlinewidth": 0,
             "ticks": ""
            },
            "colorscale": [
             [
              0,
              "#0d0887"
             ],
             [
              0.1111111111111111,
              "#46039f"
             ],
             [
              0.2222222222222222,
              "#7201a8"
             ],
             [
              0.3333333333333333,
              "#9c179e"
             ],
             [
              0.4444444444444444,
              "#bd3786"
             ],
             [
              0.5555555555555556,
              "#d8576b"
             ],
             [
              0.6666666666666666,
              "#ed7953"
             ],
             [
              0.7777777777777778,
              "#fb9f3a"
             ],
             [
              0.8888888888888888,
              "#fdca26"
             ],
             [
              1,
              "#f0f921"
             ]
            ],
            "type": "surface"
           }
          ],
          "table": [
           {
            "cells": {
             "fill": {
              "color": "#EBF0F8"
             },
             "line": {
              "color": "white"
             }
            },
            "header": {
             "fill": {
              "color": "#C8D4E3"
             },
             "line": {
              "color": "white"
             }
            },
            "type": "table"
           }
          ]
         },
         "layout": {
          "annotationdefaults": {
           "arrowcolor": "#2a3f5f",
           "arrowhead": 0,
           "arrowwidth": 1
          },
          "autotypenumbers": "strict",
          "coloraxis": {
           "colorbar": {
            "outlinewidth": 0,
            "ticks": ""
           }
          },
          "colorscale": {
           "diverging": [
            [
             0,
             "#8e0152"
            ],
            [
             0.1,
             "#c51b7d"
            ],
            [
             0.2,
             "#de77ae"
            ],
            [
             0.3,
             "#f1b6da"
            ],
            [
             0.4,
             "#fde0ef"
            ],
            [
             0.5,
             "#f7f7f7"
            ],
            [
             0.6,
             "#e6f5d0"
            ],
            [
             0.7,
             "#b8e186"
            ],
            [
             0.8,
             "#7fbc41"
            ],
            [
             0.9,
             "#4d9221"
            ],
            [
             1,
             "#276419"
            ]
           ],
           "sequential": [
            [
             0,
             "#0d0887"
            ],
            [
             0.1111111111111111,
             "#46039f"
            ],
            [
             0.2222222222222222,
             "#7201a8"
            ],
            [
             0.3333333333333333,
             "#9c179e"
            ],
            [
             0.4444444444444444,
             "#bd3786"
            ],
            [
             0.5555555555555556,
             "#d8576b"
            ],
            [
             0.6666666666666666,
             "#ed7953"
            ],
            [
             0.7777777777777778,
             "#fb9f3a"
            ],
            [
             0.8888888888888888,
             "#fdca26"
            ],
            [
             1,
             "#f0f921"
            ]
           ],
           "sequentialminus": [
            [
             0,
             "#0d0887"
            ],
            [
             0.1111111111111111,
             "#46039f"
            ],
            [
             0.2222222222222222,
             "#7201a8"
            ],
            [
             0.3333333333333333,
             "#9c179e"
            ],
            [
             0.4444444444444444,
             "#bd3786"
            ],
            [
             0.5555555555555556,
             "#d8576b"
            ],
            [
             0.6666666666666666,
             "#ed7953"
            ],
            [
             0.7777777777777778,
             "#fb9f3a"
            ],
            [
             0.8888888888888888,
             "#fdca26"
            ],
            [
             1,
             "#f0f921"
            ]
           ]
          },
          "colorway": [
           "#636efa",
           "#EF553B",
           "#00cc96",
           "#ab63fa",
           "#FFA15A",
           "#19d3f3",
           "#FF6692",
           "#B6E880",
           "#FF97FF",
           "#FECB52"
          ],
          "font": {
           "color": "#2a3f5f"
          },
          "geo": {
           "bgcolor": "white",
           "lakecolor": "white",
           "landcolor": "#E5ECF6",
           "showlakes": true,
           "showland": true,
           "subunitcolor": "white"
          },
          "hoverlabel": {
           "align": "left"
          },
          "hovermode": "closest",
          "mapbox": {
           "style": "light"
          },
          "paper_bgcolor": "white",
          "plot_bgcolor": "#E5ECF6",
          "polar": {
           "angularaxis": {
            "gridcolor": "white",
            "linecolor": "white",
            "ticks": ""
           },
           "bgcolor": "#E5ECF6",
           "radialaxis": {
            "gridcolor": "white",
            "linecolor": "white",
            "ticks": ""
           }
          },
          "scene": {
           "xaxis": {
            "backgroundcolor": "#E5ECF6",
            "gridcolor": "white",
            "gridwidth": 2,
            "linecolor": "white",
            "showbackground": true,
            "ticks": "",
            "zerolinecolor": "white"
           },
           "yaxis": {
            "backgroundcolor": "#E5ECF6",
            "gridcolor": "white",
            "gridwidth": 2,
            "linecolor": "white",
            "showbackground": true,
            "ticks": "",
            "zerolinecolor": "white"
           },
           "zaxis": {
            "backgroundcolor": "#E5ECF6",
            "gridcolor": "white",
            "gridwidth": 2,
            "linecolor": "white",
            "showbackground": true,
            "ticks": "",
            "zerolinecolor": "white"
           }
          },
          "shapedefaults": {
           "line": {
            "color": "#2a3f5f"
           }
          },
          "ternary": {
           "aaxis": {
            "gridcolor": "white",
            "linecolor": "white",
            "ticks": ""
           },
           "baxis": {
            "gridcolor": "white",
            "linecolor": "white",
            "ticks": ""
           },
           "bgcolor": "#E5ECF6",
           "caxis": {
            "gridcolor": "white",
            "linecolor": "white",
            "ticks": ""
           }
          },
          "title": {
           "x": 0.05
          },
          "xaxis": {
           "automargin": true,
           "gridcolor": "white",
           "linecolor": "white",
           "ticks": "",
           "title": {
            "standoff": 15
           },
           "zerolinecolor": "white",
           "zerolinewidth": 2
          },
          "yaxis": {
           "automargin": true,
           "gridcolor": "white",
           "linecolor": "white",
           "ticks": "",
           "title": {
            "standoff": 15
           },
           "zerolinecolor": "white",
           "zerolinewidth": 2
          }
         }
        },
        "title": {
         "text": "Cumulative Trip Distance Distribution for Weber/Davis/Salt Lake/Utah Counties"
        },
        "xaxis": {
         "anchor": "y",
         "domain": [
          0,
          1
         ],
         "title": {
          "text": "Distance Traveled (miles)"
         }
        },
        "yaxis": {
         "anchor": "x",
         "domain": [
          0,
          1
         ],
         "title": {
          "text": "Cumulative Percentage of Trips"
         }
        }
       }
      }
     },
     "metadata": {},
     "output_type": "display_data"
    }
   ],
   "source": [
    "import plotly.express as px\n",
    "\n",
    "# Create an interactive line graph for cumulative distribution\n",
    "fig = px.line(\n",
    "    filtered_grouped,\n",
    "    x='distance_miles_2mibin',\n",
    "    y='cumulative_percentage',\n",
    "    color='Trip Type',\n",
    "    labels={\n",
    "        'distance_miles_2mibin': 'Distance Traveled (miles)',\n",
    "        'cumulative_percentage': 'Cumulative Percentage'\n",
    "    },\n",
    "    title='Cumulative Trip Distance Distribution for Weber/Davis/Salt Lake/Utah Counties'\n",
    ")\n",
    "\n",
    "# Update layout if necessary\n",
    "fig.update_layout(\n",
    "    xaxis_title='Distance Traveled (miles)',\n",
    "    yaxis_title='Cumulative Percentage of Trips',\n",
    "    legend_title='Trip Type'\n",
    ")\n",
    "\n",
    "# Show the plot\n",
    "fig.show()\n"
   ]
  },
  {
   "cell_type": "markdown",
   "metadata": {},
   "source": [
    "# Compare HBW distribution by Income"
   ]
  },
  {
   "cell_type": "code",
   "execution_count": 176,
   "metadata": {},
   "outputs": [],
   "source": [
    "# CRAFT SQL STATEMENT\n",
    "# CAST function makes sure value returned is defined as int, to avoid weird precision issues with floats\n",
    "# To get distances to 2-mile bins use FLOOR(distance_miles / 2) * 2\n",
    "# JOIN trip and hh tables on hh_id\n",
    "\n",
    "strQry2 = \"\"\"\n",
    "SELECT \n",
    "  trip.trip_type, \n",
    "  CAST(FLOOR(trip.distance_miles / 2) * 2 AS INT64) AS distance_miles_2mibin,\n",
    "  hh.income_detailed,\n",
    "  SUM(trip.trip_weight) AS trip_weight_sum\n",
    "FROM \n",
    "  `confidential-2023-utah-hts.20230313.ex_trip` AS trip\n",
    "JOIN\n",
    "  `confidential-2023-utah-hts.20230313.ex_hh` AS hh\n",
    "ON \n",
    "  trip.hh_id = hh.hh_id\n",
    "GROUP BY \n",
    "  trip.trip_type, \n",
    "  distance_miles_2mibin,\n",
    "  hh.income_detailed\n",
    "\"\"\""
   ]
  },
  {
   "cell_type": "code",
   "execution_count": 177,
   "metadata": {},
   "outputs": [
    {
     "data": {
      "text/html": [
       "<div>\n",
       "<style scoped>\n",
       "    .dataframe tbody tr th:only-of-type {\n",
       "        vertical-align: middle;\n",
       "    }\n",
       "\n",
       "    .dataframe tbody tr th {\n",
       "        vertical-align: top;\n",
       "    }\n",
       "\n",
       "    .dataframe thead th {\n",
       "        text-align: right;\n",
       "    }\n",
       "</style>\n",
       "<table border=\"1\" class=\"dataframe\">\n",
       "  <thead>\n",
       "    <tr style=\"text-align: right;\">\n",
       "      <th></th>\n",
       "      <th>trip_type</th>\n",
       "      <th>distance_miles_2mibin</th>\n",
       "      <th>income_detailed</th>\n",
       "      <th>trip_weight_sum</th>\n",
       "    </tr>\n",
       "  </thead>\n",
       "  <tbody>\n",
       "    <tr>\n",
       "      <th>0</th>\n",
       "      <td>995</td>\n",
       "      <td>6.0</td>\n",
       "      <td>5</td>\n",
       "      <td>22627.231686</td>\n",
       "    </tr>\n",
       "    <tr>\n",
       "      <th>1</th>\n",
       "      <td>3</td>\n",
       "      <td>8.0</td>\n",
       "      <td>5</td>\n",
       "      <td>9318.391152</td>\n",
       "    </tr>\n",
       "    <tr>\n",
       "      <th>2</th>\n",
       "      <td>3</td>\n",
       "      <td>36.0</td>\n",
       "      <td>5</td>\n",
       "      <td>84.120228</td>\n",
       "    </tr>\n",
       "    <tr>\n",
       "      <th>3</th>\n",
       "      <td>7</td>\n",
       "      <td>10.0</td>\n",
       "      <td>5</td>\n",
       "      <td>8848.344359</td>\n",
       "    </tr>\n",
       "    <tr>\n",
       "      <th>4</th>\n",
       "      <td>995</td>\n",
       "      <td>46.0</td>\n",
       "      <td>5</td>\n",
       "      <td>947.320862</td>\n",
       "    </tr>\n",
       "    <tr>\n",
       "      <th>...</th>\n",
       "      <td>...</td>\n",
       "      <td>...</td>\n",
       "      <td>...</td>\n",
       "      <td>...</td>\n",
       "    </tr>\n",
       "    <tr>\n",
       "      <th>5143</th>\n",
       "      <td>6</td>\n",
       "      <td>70.0</td>\n",
       "      <td>4</td>\n",
       "      <td>0.000000</td>\n",
       "    </tr>\n",
       "    <tr>\n",
       "      <th>5144</th>\n",
       "      <td>5</td>\n",
       "      <td>120.0</td>\n",
       "      <td>2</td>\n",
       "      <td>0.000000</td>\n",
       "    </tr>\n",
       "    <tr>\n",
       "      <th>5145</th>\n",
       "      <td>6</td>\n",
       "      <td>1230.0</td>\n",
       "      <td>7</td>\n",
       "      <td>0.000000</td>\n",
       "    </tr>\n",
       "    <tr>\n",
       "      <th>5146</th>\n",
       "      <td>1</td>\n",
       "      <td>90.0</td>\n",
       "      <td>8</td>\n",
       "      <td>13.497803</td>\n",
       "    </tr>\n",
       "    <tr>\n",
       "      <th>5147</th>\n",
       "      <td>5</td>\n",
       "      <td>236.0</td>\n",
       "      <td>2</td>\n",
       "      <td>0.000000</td>\n",
       "    </tr>\n",
       "  </tbody>\n",
       "</table>\n",
       "<p>5148 rows × 4 columns</p>\n",
       "</div>"
      ],
      "text/plain": [
       "      trip_type  distance_miles_2mibin  income_detailed  trip_weight_sum\n",
       "0           995                    6.0                5     22627.231686\n",
       "1             3                    8.0                5      9318.391152\n",
       "2             3                   36.0                5        84.120228\n",
       "3             7                   10.0                5      8848.344359\n",
       "4           995                   46.0                5       947.320862\n",
       "...         ...                    ...              ...              ...\n",
       "5143          6                   70.0                4         0.000000\n",
       "5144          5                  120.0                2         0.000000\n",
       "5145          6                 1230.0                7         0.000000\n",
       "5146          1                   90.0                8        13.497803\n",
       "5147          5                  236.0                2         0.000000\n",
       "\n",
       "[5148 rows x 4 columns]"
      ]
     },
     "metadata": {},
     "output_type": "display_data"
    }
   ],
   "source": [
    "# DOESN'T WORK YET WITH TRIP TABLE\n",
    "# AWAITING GLOBBING\n",
    "\n",
    "# ACCESS DATA THROUGH BIGQUERY API\n",
    "#dfBinnedTripDistance = client.query(strQry2).to_dataframe()\n",
    "\n",
    "# USE TEMP CSV FROM GBQ BROWSER DOWNLOAD\n",
    "dfBinnedTripDistanceAndIncome = pd.read_csv('bquxjob_3731317a_18f075026b8.csv')\n",
    "\n",
    "display(dfBinnedTripDistanceAndIncome)"
   ]
  },
  {
   "cell_type": "code",
   "execution_count": 178,
   "metadata": {},
   "outputs": [
    {
     "data": {
      "text/html": [
       "<div>\n",
       "<style scoped>\n",
       "    .dataframe tbody tr th:only-of-type {\n",
       "        vertical-align: middle;\n",
       "    }\n",
       "\n",
       "    .dataframe tbody tr th {\n",
       "        vertical-align: top;\n",
       "    }\n",
       "\n",
       "    .dataframe thead th {\n",
       "        text-align: right;\n",
       "    }\n",
       "</style>\n",
       "<table border=\"1\" class=\"dataframe\">\n",
       "  <thead>\n",
       "    <tr style=\"text-align: right;\">\n",
       "      <th></th>\n",
       "      <th>income_detailed</th>\n",
       "      <th>Income</th>\n",
       "    </tr>\n",
       "  </thead>\n",
       "  <tbody>\n",
       "    <tr>\n",
       "      <th>0</th>\n",
       "      <td>1</td>\n",
       "      <td>001-Less than $15,000</td>\n",
       "    </tr>\n",
       "    <tr>\n",
       "      <th>1</th>\n",
       "      <td>2</td>\n",
       "      <td>002-$15,000-$24,999</td>\n",
       "    </tr>\n",
       "    <tr>\n",
       "      <th>2</th>\n",
       "      <td>3</td>\n",
       "      <td>003-$25,000-$34,999</td>\n",
       "    </tr>\n",
       "    <tr>\n",
       "      <th>3</th>\n",
       "      <td>4</td>\n",
       "      <td>004-$35,000-$49,999</td>\n",
       "    </tr>\n",
       "    <tr>\n",
       "      <th>4</th>\n",
       "      <td>5</td>\n",
       "      <td>005-$50,000-$74,999</td>\n",
       "    </tr>\n",
       "    <tr>\n",
       "      <th>5</th>\n",
       "      <td>6</td>\n",
       "      <td>006-$75,000-$99,999</td>\n",
       "    </tr>\n",
       "    <tr>\n",
       "      <th>6</th>\n",
       "      <td>7</td>\n",
       "      <td>007-$100,000-$149,999</td>\n",
       "    </tr>\n",
       "    <tr>\n",
       "      <th>7</th>\n",
       "      <td>8</td>\n",
       "      <td>008-$150,000-$199,999</td>\n",
       "    </tr>\n",
       "    <tr>\n",
       "      <th>8</th>\n",
       "      <td>9</td>\n",
       "      <td>009-$200,000-$249,999</td>\n",
       "    </tr>\n",
       "    <tr>\n",
       "      <th>9</th>\n",
       "      <td>10</td>\n",
       "      <td>010-$250,000 or more</td>\n",
       "    </tr>\n",
       "    <tr>\n",
       "      <th>10</th>\n",
       "      <td>999</td>\n",
       "      <td>999-Prefer not to answer</td>\n",
       "    </tr>\n",
       "  </tbody>\n",
       "</table>\n",
       "</div>"
      ],
      "text/plain": [
       "    income_detailed                    Income\n",
       "0                 1     001-Less than $15,000\n",
       "1                 2       002-$15,000-$24,999\n",
       "2                 3       003-$25,000-$34,999\n",
       "3                 4       004-$35,000-$49,999\n",
       "4                 5       005-$50,000-$74,999\n",
       "5                 6       006-$75,000-$99,999\n",
       "6                 7     007-$100,000-$149,999\n",
       "7                 8     008-$150,000-$199,999\n",
       "8                 9     009-$200,000-$249,999\n",
       "9                10      010-$250,000 or more\n",
       "10              999  999-Prefer not to answer"
      ]
     },
     "execution_count": 178,
     "metadata": {},
     "output_type": "execute_result"
    }
   ],
   "source": [
    "# Assuming dfValueLabels is your DataFrame loaded with necessary data including 'variable', 'value', 'label', etc.\n",
    "\n",
    "# Filter to just the income type labels\n",
    "dfIncomeLabels = dfValueLabels[dfValueLabels['variable'] == 'income_detailed'].copy()\n",
    "\n",
    "# Rename columns as needed and ensure 'income_detailed' is cast as int64\n",
    "dfIncomeLabels.rename(columns={'value': 'income_detailed'}, inplace=True)\n",
    "dfIncomeLabels['income_detailed'] = dfIncomeLabels['income_detailed'].astype('int64')\n",
    "\n",
    "# Create a new 'Income' column combining the 'income_detailed' and 'label' columns\n",
    "dfIncomeLabels['Income'] = dfIncomeLabels['income_detailed'].astype('str') + '-' + dfIncomeLabels['label']\n",
    "\n",
    "# Drop unnecessary columns\n",
    "dfIncomeLabels.drop(columns=['table', 'variable', 'label'], inplace=True)\n",
    "\n",
    "# Extract unique income bins\n",
    "income_bins = dfIncomeLabels['Income'].unique()\n",
    "\n",
    "# Create a list of tuples with formatted display values, original values, and income_detailed\n",
    "options = [(f\"{int(bin.split('-')[0]):03}-{bin.split('-', 1)[1]}\", bin, int(bin.split('-')[0])) for bin in income_bins]\n",
    "\n",
    "# Sort the options based on the formatted (display) part, which is the first element of each tuple\n",
    "options.sort(key=lambda x: x[0])\n",
    "\n",
    "# Create a DataFrame with options including 'income_detailed'\n",
    "dfIncomeLabels = pd.DataFrame(options, columns=['Income', 'Original', 'income_detailed'])\n",
    "\n",
    "# Display or return dfIncomeLabels\n",
    "dfIncomeLabels = dfIncomeLabels[['income_detailed','Income']]\n",
    "dfIncomeLabels\n"
   ]
  },
  {
   "cell_type": "code",
   "execution_count": 179,
   "metadata": {},
   "outputs": [
    {
     "data": {
      "text/html": [
       "<div>\n",
       "<style scoped>\n",
       "    .dataframe tbody tr th:only-of-type {\n",
       "        vertical-align: middle;\n",
       "    }\n",
       "\n",
       "    .dataframe tbody tr th {\n",
       "        vertical-align: top;\n",
       "    }\n",
       "\n",
       "    .dataframe thead th {\n",
       "        text-align: right;\n",
       "    }\n",
       "</style>\n",
       "<table border=\"1\" class=\"dataframe\">\n",
       "  <thead>\n",
       "    <tr style=\"text-align: right;\">\n",
       "      <th></th>\n",
       "      <th>trip_type</th>\n",
       "      <th>distance_miles_2mibin</th>\n",
       "      <th>income_detailed</th>\n",
       "      <th>trip_weight_sum</th>\n",
       "      <th>Trip Type</th>\n",
       "      <th>Income</th>\n",
       "    </tr>\n",
       "  </thead>\n",
       "  <tbody>\n",
       "    <tr>\n",
       "      <th>0</th>\n",
       "      <td>995</td>\n",
       "      <td>6.0</td>\n",
       "      <td>5</td>\n",
       "      <td>22627.231686</td>\n",
       "      <td>995-Missing response</td>\n",
       "      <td>005-$50,000-$74,999</td>\n",
       "    </tr>\n",
       "    <tr>\n",
       "      <th>1</th>\n",
       "      <td>995</td>\n",
       "      <td>46.0</td>\n",
       "      <td>5</td>\n",
       "      <td>947.320862</td>\n",
       "      <td>995-Missing response</td>\n",
       "      <td>005-$50,000-$74,999</td>\n",
       "    </tr>\n",
       "    <tr>\n",
       "      <th>2</th>\n",
       "      <td>995</td>\n",
       "      <td>8.0</td>\n",
       "      <td>5</td>\n",
       "      <td>20901.566540</td>\n",
       "      <td>995-Missing response</td>\n",
       "      <td>005-$50,000-$74,999</td>\n",
       "    </tr>\n",
       "    <tr>\n",
       "      <th>3</th>\n",
       "      <td>995</td>\n",
       "      <td>12.0</td>\n",
       "      <td>5</td>\n",
       "      <td>11202.574912</td>\n",
       "      <td>995-Missing response</td>\n",
       "      <td>005-$50,000-$74,999</td>\n",
       "    </tr>\n",
       "    <tr>\n",
       "      <th>4</th>\n",
       "      <td>995</td>\n",
       "      <td>10.0</td>\n",
       "      <td>5</td>\n",
       "      <td>8981.550640</td>\n",
       "      <td>995-Missing response</td>\n",
       "      <td>005-$50,000-$74,999</td>\n",
       "    </tr>\n",
       "    <tr>\n",
       "      <th>...</th>\n",
       "      <td>...</td>\n",
       "      <td>...</td>\n",
       "      <td>...</td>\n",
       "      <td>...</td>\n",
       "      <td>...</td>\n",
       "      <td>...</td>\n",
       "    </tr>\n",
       "    <tr>\n",
       "      <th>5143</th>\n",
       "      <td>2</td>\n",
       "      <td>10.0</td>\n",
       "      <td>3</td>\n",
       "      <td>469.113878</td>\n",
       "      <td>2-Home-based school</td>\n",
       "      <td>003-$25,000-$34,999</td>\n",
       "    </tr>\n",
       "    <tr>\n",
       "      <th>5144</th>\n",
       "      <td>2</td>\n",
       "      <td>22.0</td>\n",
       "      <td>3</td>\n",
       "      <td>37.056990</td>\n",
       "      <td>2-Home-based school</td>\n",
       "      <td>003-$25,000-$34,999</td>\n",
       "    </tr>\n",
       "    <tr>\n",
       "      <th>5145</th>\n",
       "      <td>2</td>\n",
       "      <td>20.0</td>\n",
       "      <td>3</td>\n",
       "      <td>37.056990</td>\n",
       "      <td>2-Home-based school</td>\n",
       "      <td>003-$25,000-$34,999</td>\n",
       "    </tr>\n",
       "    <tr>\n",
       "      <th>5146</th>\n",
       "      <td>2</td>\n",
       "      <td>54.0</td>\n",
       "      <td>3</td>\n",
       "      <td>2.786011</td>\n",
       "      <td>2-Home-based school</td>\n",
       "      <td>003-$25,000-$34,999</td>\n",
       "    </tr>\n",
       "    <tr>\n",
       "      <th>5147</th>\n",
       "      <td>2</td>\n",
       "      <td>50.0</td>\n",
       "      <td>3</td>\n",
       "      <td>0.000000</td>\n",
       "      <td>2-Home-based school</td>\n",
       "      <td>003-$25,000-$34,999</td>\n",
       "    </tr>\n",
       "  </tbody>\n",
       "</table>\n",
       "<p>5148 rows × 6 columns</p>\n",
       "</div>"
      ],
      "text/plain": [
       "      trip_type  distance_miles_2mibin  income_detailed  trip_weight_sum  \\\n",
       "0           995                    6.0                5     22627.231686   \n",
       "1           995                   46.0                5       947.320862   \n",
       "2           995                    8.0                5     20901.566540   \n",
       "3           995                   12.0                5     11202.574912   \n",
       "4           995                   10.0                5      8981.550640   \n",
       "...         ...                    ...              ...              ...   \n",
       "5143          2                   10.0                3       469.113878   \n",
       "5144          2                   22.0                3        37.056990   \n",
       "5145          2                   20.0                3        37.056990   \n",
       "5146          2                   54.0                3         2.786011   \n",
       "5147          2                   50.0                3         0.000000   \n",
       "\n",
       "                 Trip Type               Income  \n",
       "0     995-Missing response  005-$50,000-$74,999  \n",
       "1     995-Missing response  005-$50,000-$74,999  \n",
       "2     995-Missing response  005-$50,000-$74,999  \n",
       "3     995-Missing response  005-$50,000-$74,999  \n",
       "4     995-Missing response  005-$50,000-$74,999  \n",
       "...                    ...                  ...  \n",
       "5143   2-Home-based school  003-$25,000-$34,999  \n",
       "5144   2-Home-based school  003-$25,000-$34,999  \n",
       "5145   2-Home-based school  003-$25,000-$34,999  \n",
       "5146   2-Home-based school  003-$25,000-$34,999  \n",
       "5147   2-Home-based school  003-$25,000-$34,999  \n",
       "\n",
       "[5148 rows x 6 columns]"
      ]
     },
     "execution_count": 179,
     "metadata": {},
     "output_type": "execute_result"
    }
   ],
   "source": [
    "# add labels onto data\n",
    "dfBinnedTripDistanceAndIncome = pd.merge(dfBinnedTripDistanceAndIncome, dfTripTypeLabels, on='trip_type')\n",
    "dfBinnedTripDistanceAndIncome = pd.merge(dfBinnedTripDistanceAndIncome, dfIncomeLabels, on='income_detailed')\n",
    "dfBinnedTripDistanceAndIncome"
   ]
  },
  {
   "cell_type": "code",
   "execution_count": 180,
   "metadata": {},
   "outputs": [
    {
     "data": {
      "text/html": [
       "<div>\n",
       "<style scoped>\n",
       "    .dataframe tbody tr th:only-of-type {\n",
       "        vertical-align: middle;\n",
       "    }\n",
       "\n",
       "    .dataframe tbody tr th {\n",
       "        vertical-align: top;\n",
       "    }\n",
       "\n",
       "    .dataframe thead th {\n",
       "        text-align: right;\n",
       "    }\n",
       "</style>\n",
       "<table border=\"1\" class=\"dataframe\">\n",
       "  <thead>\n",
       "    <tr style=\"text-align: right;\">\n",
       "      <th></th>\n",
       "      <th>Trip Type</th>\n",
       "      <th>distance_miles_2mibin</th>\n",
       "      <th>Income</th>\n",
       "      <th>trip_weight_sum</th>\n",
       "      <th>percentage</th>\n",
       "    </tr>\n",
       "  </thead>\n",
       "  <tbody>\n",
       "    <tr>\n",
       "      <th>0</th>\n",
       "      <td>1-Home-based work</td>\n",
       "      <td>0.0</td>\n",
       "      <td>001-Less than $15,000</td>\n",
       "      <td>11363.493723</td>\n",
       "      <td>44.636551</td>\n",
       "    </tr>\n",
       "    <tr>\n",
       "      <th>1</th>\n",
       "      <td>1-Home-based work</td>\n",
       "      <td>0.0</td>\n",
       "      <td>002-$15,000-$24,999</td>\n",
       "      <td>12092.779402</td>\n",
       "      <td>32.038777</td>\n",
       "    </tr>\n",
       "    <tr>\n",
       "      <th>2</th>\n",
       "      <td>1-Home-based work</td>\n",
       "      <td>0.0</td>\n",
       "      <td>003-$25,000-$34,999</td>\n",
       "      <td>26935.723346</td>\n",
       "      <td>37.970377</td>\n",
       "    </tr>\n",
       "    <tr>\n",
       "      <th>3</th>\n",
       "      <td>1-Home-based work</td>\n",
       "      <td>0.0</td>\n",
       "      <td>004-$35,000-$49,999</td>\n",
       "      <td>17451.691694</td>\n",
       "      <td>17.791789</td>\n",
       "    </tr>\n",
       "    <tr>\n",
       "      <th>4</th>\n",
       "      <td>1-Home-based work</td>\n",
       "      <td>0.0</td>\n",
       "      <td>005-$50,000-$74,999</td>\n",
       "      <td>34378.930452</td>\n",
       "      <td>16.240522</td>\n",
       "    </tr>\n",
       "    <tr>\n",
       "      <th>...</th>\n",
       "      <td>...</td>\n",
       "      <td>...</td>\n",
       "      <td>...</td>\n",
       "      <td>...</td>\n",
       "      <td>...</td>\n",
       "    </tr>\n",
       "    <tr>\n",
       "      <th>4419</th>\n",
       "      <td>995-Missing response</td>\n",
       "      <td>60.0</td>\n",
       "      <td>006-$75,000-$99,999</td>\n",
       "      <td>90.527638</td>\n",
       "      <td>0.019338</td>\n",
       "    </tr>\n",
       "    <tr>\n",
       "      <th>4420</th>\n",
       "      <td>995-Missing response</td>\n",
       "      <td>60.0</td>\n",
       "      <td>007-$100,000-$149,999</td>\n",
       "      <td>227.634725</td>\n",
       "      <td>0.034434</td>\n",
       "    </tr>\n",
       "    <tr>\n",
       "      <th>4421</th>\n",
       "      <td>995-Missing response</td>\n",
       "      <td>60.0</td>\n",
       "      <td>008-$150,000-$199,999</td>\n",
       "      <td>877.461109</td>\n",
       "      <td>0.328169</td>\n",
       "    </tr>\n",
       "    <tr>\n",
       "      <th>4422</th>\n",
       "      <td>995-Missing response</td>\n",
       "      <td>60.0</td>\n",
       "      <td>009-$200,000-$249,999</td>\n",
       "      <td>1082.011139</td>\n",
       "      <td>0.547218</td>\n",
       "    </tr>\n",
       "    <tr>\n",
       "      <th>4423</th>\n",
       "      <td>995-Missing response</td>\n",
       "      <td>60.0</td>\n",
       "      <td>999-Prefer not to answer</td>\n",
       "      <td>93.493163</td>\n",
       "      <td>0.037387</td>\n",
       "    </tr>\n",
       "  </tbody>\n",
       "</table>\n",
       "<p>2430 rows × 5 columns</p>\n",
       "</div>"
      ],
      "text/plain": [
       "                 Trip Type  distance_miles_2mibin                    Income  \\\n",
       "0        1-Home-based work                    0.0     001-Less than $15,000   \n",
       "1        1-Home-based work                    0.0       002-$15,000-$24,999   \n",
       "2        1-Home-based work                    0.0       003-$25,000-$34,999   \n",
       "3        1-Home-based work                    0.0       004-$35,000-$49,999   \n",
       "4        1-Home-based work                    0.0       005-$50,000-$74,999   \n",
       "...                    ...                    ...                       ...   \n",
       "4419  995-Missing response                   60.0       006-$75,000-$99,999   \n",
       "4420  995-Missing response                   60.0     007-$100,000-$149,999   \n",
       "4421  995-Missing response                   60.0     008-$150,000-$199,999   \n",
       "4422  995-Missing response                   60.0     009-$200,000-$249,999   \n",
       "4423  995-Missing response                   60.0  999-Prefer not to answer   \n",
       "\n",
       "      trip_weight_sum  percentage  \n",
       "0        11363.493723   44.636551  \n",
       "1        12092.779402   32.038777  \n",
       "2        26935.723346   37.970377  \n",
       "3        17451.691694   17.791789  \n",
       "4        34378.930452   16.240522  \n",
       "...               ...         ...  \n",
       "4419        90.527638    0.019338  \n",
       "4420       227.634725    0.034434  \n",
       "4421       877.461109    0.328169  \n",
       "4422      1082.011139    0.547218  \n",
       "4423        93.493163    0.037387  \n",
       "\n",
       "[2430 rows x 5 columns]"
      ]
     },
     "metadata": {},
     "output_type": "display_data"
    }
   ],
   "source": [
    "# Group by 'trip_type' and 'distance_miles_2mibin' and sum 'trip_weight_sum'\n",
    "groupedIncome = dfBinnedTripDistanceAndIncome.groupby(['Trip Type', 'distance_miles_2mibin','Income']).agg({'trip_weight_sum': 'sum'}).reset_index()\n",
    "\n",
    "# Calculate the total weight for each trip type\n",
    "total_weights = groupedIncome.groupby(['Trip Type','Income'])['trip_weight_sum'].transform('sum')\n",
    "\n",
    "# Calculate percentage distribution\n",
    "groupedIncome['percentage'] = (groupedIncome['trip_weight_sum'] / total_weights) * 100\n",
    "\n",
    "# only plot below 60 miles\n",
    "filtered_groupedIncome = groupedIncome[groupedIncome['distance_miles_2mibin'] <= 60].copy()\n",
    "\n",
    "display(filtered_groupedIncome)\n"
   ]
  },
  {
   "cell_type": "code",
   "execution_count": 181,
   "metadata": {},
   "outputs": [
    {
     "data": {
      "text/html": [
       "<div>\n",
       "<style scoped>\n",
       "    .dataframe tbody tr th:only-of-type {\n",
       "        vertical-align: middle;\n",
       "    }\n",
       "\n",
       "    .dataframe tbody tr th {\n",
       "        vertical-align: top;\n",
       "    }\n",
       "\n",
       "    .dataframe thead th {\n",
       "        text-align: right;\n",
       "    }\n",
       "</style>\n",
       "<table border=\"1\" class=\"dataframe\">\n",
       "  <thead>\n",
       "    <tr style=\"text-align: right;\">\n",
       "      <th></th>\n",
       "      <th>Trip Type</th>\n",
       "      <th>distance_miles_2mibin</th>\n",
       "      <th>Income</th>\n",
       "      <th>trip_weight_sum</th>\n",
       "      <th>percentage</th>\n",
       "      <th>cumulative_percentage</th>\n",
       "    </tr>\n",
       "  </thead>\n",
       "  <tbody>\n",
       "    <tr>\n",
       "      <th>0</th>\n",
       "      <td>1-Home-based work</td>\n",
       "      <td>0.0</td>\n",
       "      <td>001-Less than $15,000</td>\n",
       "      <td>11363.493723</td>\n",
       "      <td>44.636551</td>\n",
       "      <td>44.636551</td>\n",
       "    </tr>\n",
       "    <tr>\n",
       "      <th>1</th>\n",
       "      <td>1-Home-based work</td>\n",
       "      <td>0.0</td>\n",
       "      <td>002-$15,000-$24,999</td>\n",
       "      <td>12092.779402</td>\n",
       "      <td>32.038777</td>\n",
       "      <td>32.038777</td>\n",
       "    </tr>\n",
       "    <tr>\n",
       "      <th>2</th>\n",
       "      <td>1-Home-based work</td>\n",
       "      <td>0.0</td>\n",
       "      <td>003-$25,000-$34,999</td>\n",
       "      <td>26935.723346</td>\n",
       "      <td>37.970377</td>\n",
       "      <td>37.970377</td>\n",
       "    </tr>\n",
       "    <tr>\n",
       "      <th>3</th>\n",
       "      <td>1-Home-based work</td>\n",
       "      <td>0.0</td>\n",
       "      <td>004-$35,000-$49,999</td>\n",
       "      <td>17451.691694</td>\n",
       "      <td>17.791789</td>\n",
       "      <td>17.791789</td>\n",
       "    </tr>\n",
       "    <tr>\n",
       "      <th>4</th>\n",
       "      <td>1-Home-based work</td>\n",
       "      <td>0.0</td>\n",
       "      <td>005-$50,000-$74,999</td>\n",
       "      <td>34378.930452</td>\n",
       "      <td>16.240522</td>\n",
       "      <td>16.240522</td>\n",
       "    </tr>\n",
       "    <tr>\n",
       "      <th>...</th>\n",
       "      <td>...</td>\n",
       "      <td>...</td>\n",
       "      <td>...</td>\n",
       "      <td>...</td>\n",
       "      <td>...</td>\n",
       "      <td>...</td>\n",
       "    </tr>\n",
       "    <tr>\n",
       "      <th>4419</th>\n",
       "      <td>995-Missing response</td>\n",
       "      <td>60.0</td>\n",
       "      <td>006-$75,000-$99,999</td>\n",
       "      <td>90.527638</td>\n",
       "      <td>0.019338</td>\n",
       "      <td>98.652145</td>\n",
       "    </tr>\n",
       "    <tr>\n",
       "      <th>4420</th>\n",
       "      <td>995-Missing response</td>\n",
       "      <td>60.0</td>\n",
       "      <td>007-$100,000-$149,999</td>\n",
       "      <td>227.634725</td>\n",
       "      <td>0.034434</td>\n",
       "      <td>99.116023</td>\n",
       "    </tr>\n",
       "    <tr>\n",
       "      <th>4421</th>\n",
       "      <td>995-Missing response</td>\n",
       "      <td>60.0</td>\n",
       "      <td>008-$150,000-$199,999</td>\n",
       "      <td>877.461109</td>\n",
       "      <td>0.328169</td>\n",
       "      <td>98.766241</td>\n",
       "    </tr>\n",
       "    <tr>\n",
       "      <th>4422</th>\n",
       "      <td>995-Missing response</td>\n",
       "      <td>60.0</td>\n",
       "      <td>009-$200,000-$249,999</td>\n",
       "      <td>1082.011139</td>\n",
       "      <td>0.547218</td>\n",
       "      <td>95.083539</td>\n",
       "    </tr>\n",
       "    <tr>\n",
       "      <th>4423</th>\n",
       "      <td>995-Missing response</td>\n",
       "      <td>60.0</td>\n",
       "      <td>999-Prefer not to answer</td>\n",
       "      <td>93.493163</td>\n",
       "      <td>0.037387</td>\n",
       "      <td>98.403887</td>\n",
       "    </tr>\n",
       "  </tbody>\n",
       "</table>\n",
       "<p>2430 rows × 6 columns</p>\n",
       "</div>"
      ],
      "text/plain": [
       "                 Trip Type  distance_miles_2mibin                    Income  \\\n",
       "0        1-Home-based work                    0.0     001-Less than $15,000   \n",
       "1        1-Home-based work                    0.0       002-$15,000-$24,999   \n",
       "2        1-Home-based work                    0.0       003-$25,000-$34,999   \n",
       "3        1-Home-based work                    0.0       004-$35,000-$49,999   \n",
       "4        1-Home-based work                    0.0       005-$50,000-$74,999   \n",
       "...                    ...                    ...                       ...   \n",
       "4419  995-Missing response                   60.0       006-$75,000-$99,999   \n",
       "4420  995-Missing response                   60.0     007-$100,000-$149,999   \n",
       "4421  995-Missing response                   60.0     008-$150,000-$199,999   \n",
       "4422  995-Missing response                   60.0     009-$200,000-$249,999   \n",
       "4423  995-Missing response                   60.0  999-Prefer not to answer   \n",
       "\n",
       "      trip_weight_sum  percentage  cumulative_percentage  \n",
       "0        11363.493723   44.636551              44.636551  \n",
       "1        12092.779402   32.038777              32.038777  \n",
       "2        26935.723346   37.970377              37.970377  \n",
       "3        17451.691694   17.791789              17.791789  \n",
       "4        34378.930452   16.240522              16.240522  \n",
       "...               ...         ...                    ...  \n",
       "4419        90.527638    0.019338              98.652145  \n",
       "4420       227.634725    0.034434              99.116023  \n",
       "4421       877.461109    0.328169              98.766241  \n",
       "4422      1082.011139    0.547218              95.083539  \n",
       "4423        93.493163    0.037387              98.403887  \n",
       "\n",
       "[2430 rows x 6 columns]"
      ]
     },
     "metadata": {},
     "output_type": "display_data"
    }
   ],
   "source": [
    "# Add cumulative distribution\n",
    "\n",
    "# Assuming 'filtered_grouped' is a DataFrame that has been grouped appropriately\n",
    "filtered_groupedIncome['cumulative_percentage'] = filtered_groupedIncome.groupby(['Trip Type','Income'])['percentage'].cumsum()\n",
    "display(filtered_groupedIncome)"
   ]
  },
  {
   "cell_type": "code",
   "execution_count": 182,
   "metadata": {},
   "outputs": [
    {
     "data": {
      "text/markdown": [
       "# Distribution by Income"
      ],
      "text/plain": [
       "<IPython.core.display.Markdown object>"
      ]
     },
     "metadata": {},
     "output_type": "display_data"
    },
    {
     "data": {
      "application/vnd.jupyter.widget-view+json": {
       "model_id": "215af549748d468389e23c8bd6bac699",
       "version_major": 2,
       "version_minor": 0
      },
      "text/plain": [
       "Dropdown(description='Select Income:', options=('001-Less than $15,000', '002-$15,000-$24,999', '003-$25,000-$…"
      ]
     },
     "metadata": {},
     "output_type": "display_data"
    },
    {
     "data": {
      "application/vnd.jupyter.widget-view+json": {
       "model_id": "b4921771d36b4191b1a6a4eac135c549",
       "version_major": 2,
       "version_minor": 0
      },
      "text/plain": [
       "Output()"
      ]
     },
     "metadata": {},
     "output_type": "display_data"
    },
    {
     "data": {
      "application/vnd.plotly.v1+json": {
       "config": {
        "plotlyServerURL": "https://plot.ly"
       },
       "data": [
        {
         "hovertemplate": "Trip Type=1-Home-based work<br>Distance Traveled (miles)=%{x}<br>Cumulative Percentage=%{y}<extra></extra>",
         "legendgroup": "1-Home-based work",
         "line": {
          "color": "#636efa",
          "dash": "solid"
         },
         "marker": {
          "symbol": "circle"
         },
         "mode": "lines",
         "name": "1-Home-based work",
         "orientation": "v",
         "showlegend": true,
         "type": "scatter",
         "x": [
          0,
          2,
          4,
          6,
          8,
          10,
          12,
          14,
          16,
          18,
          20,
          22,
          24,
          26,
          28,
          30,
          32,
          34,
          36,
          38,
          40,
          42,
          44,
          46,
          48,
          50,
          52,
          54,
          56,
          58
         ],
         "xaxis": "x",
         "y": [
          17.791789494442295,
          38.67555061868113,
          54.946283263609146,
          66.39709368013644,
          73.5245095815084,
          80.24129742696846,
          82.46981717868753,
          85.00429118804922,
          87.95513751316972,
          89.26333903481824,
          92.18541950732444,
          93.39528490905488,
          94.18315417557628,
          94.88556293799259,
          95.13284041665054,
          95.13929318171533,
          95.28071732177564,
          97.1810619166066,
          97.26264466265943,
          97.35033936659849,
          97.87239883061787,
          98.20446639985249,
          98.21552681449526,
          98.48307394402586,
          98.52866337159034,
          98.53974262443663,
          98.53974262443663,
          98.6025357277297,
          98.64253284736701,
          98.71596285971
         ],
         "yaxis": "y"
        },
        {
         "hovertemplate": "Trip Type=2-Home-based school<br>Distance Traveled (miles)=%{x}<br>Cumulative Percentage=%{y}<extra></extra>",
         "legendgroup": "2-Home-based school",
         "line": {
          "color": "#EF553B",
          "dash": "solid"
         },
         "marker": {
          "symbol": "circle"
         },
         "mode": "lines",
         "name": "2-Home-based school",
         "orientation": "v",
         "showlegend": true,
         "type": "scatter",
         "x": [
          0,
          2,
          4,
          6,
          8,
          10,
          12,
          14,
          16,
          18,
          20,
          24,
          26,
          30,
          32,
          34,
          36,
          38,
          42,
          44,
          46,
          48,
          50,
          54
         ],
         "xaxis": "x",
         "y": [
          48.328402331077356,
          71.36851863543365,
          84.83501886768576,
          91.28815932357327,
          94.53892237912673,
          95.19424378767042,
          95.40429128051656,
          95.40429128051656,
          95.6761450504444,
          95.83470613230519,
          95.85674728531468,
          96.25028171296181,
          96.42394126844715,
          96.63180088782052,
          96.83234530969027,
          98.2150689626544,
          98.50491380522055,
          98.5503909691836,
          98.5503909691836,
          98.88656853373439,
          99.21766755845074,
          99.40035857093305,
          99.61755953114698,
          99.78840905618513
         ],
         "yaxis": "y"
        },
        {
         "hovertemplate": "Trip Type=3-Home-based shopping<br>Distance Traveled (miles)=%{x}<br>Cumulative Percentage=%{y}<extra></extra>",
         "legendgroup": "3-Home-based shopping",
         "line": {
          "color": "#00cc96",
          "dash": "solid"
         },
         "marker": {
          "symbol": "circle"
         },
         "mode": "lines",
         "name": "3-Home-based shopping",
         "orientation": "v",
         "showlegend": true,
         "type": "scatter",
         "x": [
          0,
          2,
          4,
          6,
          8,
          10,
          12,
          14,
          16,
          18,
          20,
          22,
          24,
          26,
          28,
          30,
          32,
          34,
          36,
          38,
          40,
          42,
          44,
          48,
          50,
          52,
          56,
          58,
          60
         ],
         "xaxis": "x",
         "y": [
          35.34304527372031,
          72.5706194127944,
          81.7025628811179,
          86.20526681467504,
          89.89006411817205,
          92.0699886430973,
          95.87254502901125,
          96.30730549833828,
          96.47964766751555,
          97.99346287869763,
          98.17872109647573,
          98.35775070788304,
          98.35775070788304,
          98.52383235373897,
          98.86555592721986,
          99.14617558943552,
          99.38051083530463,
          99.43975719841916,
          99.49831035940133,
          99.51738983803072,
          99.57152173490857,
          99.57152173490857,
          99.89661555653439,
          99.9054823517599,
          99.93228854749074,
          99.95856682415342,
          99.95856682415342,
          99.99999999999999,
          99.99999999999999
         ],
         "yaxis": "y"
        },
        {
         "hovertemplate": "Trip Type=4-Home-based personal business<br>Distance Traveled (miles)=%{x}<br>Cumulative Percentage=%{y}<extra></extra>",
         "legendgroup": "4-Home-based personal business",
         "line": {
          "color": "#ab63fa",
          "dash": "solid"
         },
         "marker": {
          "symbol": "circle"
         },
         "mode": "lines",
         "name": "4-Home-based personal business",
         "orientation": "v",
         "showlegend": true,
         "type": "scatter",
         "x": [
          0,
          2,
          4,
          6,
          8,
          10,
          12,
          14,
          16,
          18,
          20,
          22,
          24,
          26,
          28,
          30,
          32,
          36,
          38,
          40,
          42,
          46,
          52,
          58
         ],
         "xaxis": "x",
         "y": [
          36.38463913236075,
          62.79952587551642,
          69.29857935953366,
          79.01116084634589,
          81.2546651205729,
          83.5874992847886,
          86.13548168440312,
          87.23686852173608,
          90.48963641992682,
          97.37413173427286,
          97.54063020447137,
          97.70620068795986,
          98.8865851872588,
          98.8865851872588,
          98.93757155128596,
          98.93757155128596,
          98.93757155128596,
          98.93757155128596,
          99.54781387179644,
          99.7060661707818,
          99.93215613705594,
          99.93215613705594,
          99.93215613705594,
          99.9388258661544
         ],
         "yaxis": "y"
        },
        {
         "hovertemplate": "Trip Type=5-Home-based other<br>Distance Traveled (miles)=%{x}<br>Cumulative Percentage=%{y}<extra></extra>",
         "legendgroup": "5-Home-based other",
         "line": {
          "color": "#FFA15A",
          "dash": "solid"
         },
         "marker": {
          "symbol": "circle"
         },
         "mode": "lines",
         "name": "5-Home-based other",
         "orientation": "v",
         "showlegend": true,
         "type": "scatter",
         "x": [
          0,
          2,
          4,
          6,
          8,
          10,
          12,
          14,
          16,
          18,
          20,
          22,
          24,
          26,
          28,
          30,
          32,
          34,
          36,
          38,
          40,
          42,
          44,
          46,
          48,
          50,
          52,
          54,
          56,
          58,
          60
         ],
         "xaxis": "x",
         "y": [
          43.80767902752058,
          66.42019657272346,
          76.93573736134648,
          83.00957755550212,
          87.065476124479,
          89.99610010446055,
          93.2989675048017,
          94.14720024735362,
          94.68195088683227,
          95.05358767108707,
          95.20626400320847,
          95.48661398786352,
          96.39902048618147,
          96.60046962665372,
          96.64975712685728,
          96.71581360855119,
          96.89192692431236,
          97.3599135646142,
          97.41159381245025,
          97.5322913864222,
          97.66693682664697,
          97.96479633114873,
          97.97027779366252,
          97.97027779366252,
          97.97308909313296,
          98.04443637969021,
          98.04443637969021,
          98.08500752603905,
          98.21228683122466,
          98.22542360300677,
          98.22542360300677
         ],
         "yaxis": "y"
        },
        {
         "hovertemplate": "Trip Type=6-Non-home-based work<br>Distance Traveled (miles)=%{x}<br>Cumulative Percentage=%{y}<extra></extra>",
         "legendgroup": "6-Non-home-based work",
         "line": {
          "color": "#19d3f3",
          "dash": "solid"
         },
         "marker": {
          "symbol": "circle"
         },
         "mode": "lines",
         "name": "6-Non-home-based work",
         "orientation": "v",
         "showlegend": true,
         "type": "scatter",
         "x": [
          0,
          2,
          4,
          6,
          8,
          10,
          12,
          14,
          16,
          18,
          20,
          22,
          24,
          26,
          28,
          30,
          32,
          34,
          36,
          38,
          40,
          42,
          44,
          46,
          48,
          50,
          52,
          54,
          56,
          58,
          60
         ],
         "xaxis": "x",
         "y": [
          40.44904438268283,
          58.78040554614227,
          68.82698572237481,
          76.20032678660579,
          80.69163800826487,
          82.83563651780155,
          84.8972926846416,
          87.23422626239683,
          88.16408862137952,
          90.65329242042651,
          92.97459222089978,
          93.11246345738982,
          94.73111472686634,
          95.4527096862293,
          96.17568222755415,
          96.45208864333787,
          96.60427374942681,
          96.94651584507427,
          96.94651584507427,
          97.7603266700079,
          97.77345938792402,
          97.80918306391507,
          97.8291106790668,
          98.03229543391912,
          98.3158750360296,
          98.88303424025054,
          99.02894023281598,
          99.84461332024985,
          99.85484133846536,
          99.87935361794229,
          99.87935361794229
         ],
         "yaxis": "y"
        },
        {
         "hovertemplate": "Trip Type=7-Non-home-based non-work<br>Distance Traveled (miles)=%{x}<br>Cumulative Percentage=%{y}<extra></extra>",
         "legendgroup": "7-Non-home-based non-work",
         "line": {
          "color": "#FF6692",
          "dash": "solid"
         },
         "marker": {
          "symbol": "circle"
         },
         "mode": "lines",
         "name": "7-Non-home-based non-work",
         "orientation": "v",
         "showlegend": true,
         "type": "scatter",
         "x": [
          0,
          2,
          4,
          6,
          8,
          10,
          12,
          14,
          16,
          18,
          20,
          22,
          24,
          26,
          28,
          30,
          32,
          34,
          36,
          38,
          40,
          42,
          44,
          46,
          48,
          50,
          52,
          54,
          56,
          58,
          60
         ],
         "xaxis": "x",
         "y": [
          40.31216387484209,
          66.51629843782531,
          81.09062369620241,
          84.74339331973215,
          88.79142495067558,
          90.68532735802229,
          91.85628816680068,
          93.73604195770439,
          94.93077061492612,
          96.46628141234619,
          97.34160366113564,
          97.5571052772819,
          98.04767578091771,
          98.31434444213942,
          98.48155107606044,
          98.57982414818551,
          98.57982414818551,
          98.78668298334252,
          98.78668298334252,
          98.83292742711112,
          98.86068610913205,
          99.08724127576536,
          99.1128787237904,
          99.1324767283003,
          99.24057442669638,
          99.30438591035505,
          99.30438591035505,
          99.32138144799066,
          99.34737857588,
          99.34737857588,
          99.34837908037436
         ],
         "yaxis": "y"
        },
        {
         "hovertemplate": "Trip Type=995-Missing response<br>Distance Traveled (miles)=%{x}<br>Cumulative Percentage=%{y}<extra></extra>",
         "legendgroup": "995-Missing response",
         "line": {
          "color": "#B6E880",
          "dash": "solid"
         },
         "marker": {
          "symbol": "circle"
         },
         "mode": "lines",
         "name": "995-Missing response",
         "orientation": "v",
         "showlegend": true,
         "type": "scatter",
         "x": [
          0,
          2,
          4,
          6,
          8,
          10,
          12,
          14,
          16,
          18,
          20,
          22,
          24,
          26,
          28,
          30,
          32,
          34,
          36,
          38,
          40,
          42,
          44,
          46,
          48,
          50,
          54,
          56,
          58
         ],
         "xaxis": "x",
         "y": [
          36.69658494767376,
          61.4321491016413,
          74.15447541525826,
          81.53088663475077,
          84.77702596978642,
          86.76335282743501,
          88.2400600286467,
          90.71013581383147,
          91.1022636545292,
          92.00708017986466,
          92.64742396441154,
          93.61148782297539,
          94.3412868148834,
          94.9330671101205,
          95.37212776736506,
          95.54247821541355,
          95.99557345679887,
          96.41424812088178,
          96.71441480167925,
          97.33646574208902,
          97.5900359287282,
          97.7021880686842,
          97.82492463844828,
          97.91312078297301,
          97.96916721605778,
          98.08293192610765,
          98.14641082964721,
          98.23665130224083,
          98.23665130224083
         ],
         "yaxis": "y"
        }
       ],
       "layout": {
        "legend": {
         "title": {
          "text": "Trip Type"
         },
         "tracegroupgap": 0
        },
        "template": {
         "data": {
          "bar": [
           {
            "error_x": {
             "color": "#2a3f5f"
            },
            "error_y": {
             "color": "#2a3f5f"
            },
            "marker": {
             "line": {
              "color": "#E5ECF6",
              "width": 0.5
             },
             "pattern": {
              "fillmode": "overlay",
              "size": 10,
              "solidity": 0.2
             }
            },
            "type": "bar"
           }
          ],
          "barpolar": [
           {
            "marker": {
             "line": {
              "color": "#E5ECF6",
              "width": 0.5
             },
             "pattern": {
              "fillmode": "overlay",
              "size": 10,
              "solidity": 0.2
             }
            },
            "type": "barpolar"
           }
          ],
          "carpet": [
           {
            "aaxis": {
             "endlinecolor": "#2a3f5f",
             "gridcolor": "white",
             "linecolor": "white",
             "minorgridcolor": "white",
             "startlinecolor": "#2a3f5f"
            },
            "baxis": {
             "endlinecolor": "#2a3f5f",
             "gridcolor": "white",
             "linecolor": "white",
             "minorgridcolor": "white",
             "startlinecolor": "#2a3f5f"
            },
            "type": "carpet"
           }
          ],
          "choropleth": [
           {
            "colorbar": {
             "outlinewidth": 0,
             "ticks": ""
            },
            "type": "choropleth"
           }
          ],
          "contour": [
           {
            "colorbar": {
             "outlinewidth": 0,
             "ticks": ""
            },
            "colorscale": [
             [
              0,
              "#0d0887"
             ],
             [
              0.1111111111111111,
              "#46039f"
             ],
             [
              0.2222222222222222,
              "#7201a8"
             ],
             [
              0.3333333333333333,
              "#9c179e"
             ],
             [
              0.4444444444444444,
              "#bd3786"
             ],
             [
              0.5555555555555556,
              "#d8576b"
             ],
             [
              0.6666666666666666,
              "#ed7953"
             ],
             [
              0.7777777777777778,
              "#fb9f3a"
             ],
             [
              0.8888888888888888,
              "#fdca26"
             ],
             [
              1,
              "#f0f921"
             ]
            ],
            "type": "contour"
           }
          ],
          "contourcarpet": [
           {
            "colorbar": {
             "outlinewidth": 0,
             "ticks": ""
            },
            "type": "contourcarpet"
           }
          ],
          "heatmap": [
           {
            "colorbar": {
             "outlinewidth": 0,
             "ticks": ""
            },
            "colorscale": [
             [
              0,
              "#0d0887"
             ],
             [
              0.1111111111111111,
              "#46039f"
             ],
             [
              0.2222222222222222,
              "#7201a8"
             ],
             [
              0.3333333333333333,
              "#9c179e"
             ],
             [
              0.4444444444444444,
              "#bd3786"
             ],
             [
              0.5555555555555556,
              "#d8576b"
             ],
             [
              0.6666666666666666,
              "#ed7953"
             ],
             [
              0.7777777777777778,
              "#fb9f3a"
             ],
             [
              0.8888888888888888,
              "#fdca26"
             ],
             [
              1,
              "#f0f921"
             ]
            ],
            "type": "heatmap"
           }
          ],
          "heatmapgl": [
           {
            "colorbar": {
             "outlinewidth": 0,
             "ticks": ""
            },
            "colorscale": [
             [
              0,
              "#0d0887"
             ],
             [
              0.1111111111111111,
              "#46039f"
             ],
             [
              0.2222222222222222,
              "#7201a8"
             ],
             [
              0.3333333333333333,
              "#9c179e"
             ],
             [
              0.4444444444444444,
              "#bd3786"
             ],
             [
              0.5555555555555556,
              "#d8576b"
             ],
             [
              0.6666666666666666,
              "#ed7953"
             ],
             [
              0.7777777777777778,
              "#fb9f3a"
             ],
             [
              0.8888888888888888,
              "#fdca26"
             ],
             [
              1,
              "#f0f921"
             ]
            ],
            "type": "heatmapgl"
           }
          ],
          "histogram": [
           {
            "marker": {
             "pattern": {
              "fillmode": "overlay",
              "size": 10,
              "solidity": 0.2
             }
            },
            "type": "histogram"
           }
          ],
          "histogram2d": [
           {
            "colorbar": {
             "outlinewidth": 0,
             "ticks": ""
            },
            "colorscale": [
             [
              0,
              "#0d0887"
             ],
             [
              0.1111111111111111,
              "#46039f"
             ],
             [
              0.2222222222222222,
              "#7201a8"
             ],
             [
              0.3333333333333333,
              "#9c179e"
             ],
             [
              0.4444444444444444,
              "#bd3786"
             ],
             [
              0.5555555555555556,
              "#d8576b"
             ],
             [
              0.6666666666666666,
              "#ed7953"
             ],
             [
              0.7777777777777778,
              "#fb9f3a"
             ],
             [
              0.8888888888888888,
              "#fdca26"
             ],
             [
              1,
              "#f0f921"
             ]
            ],
            "type": "histogram2d"
           }
          ],
          "histogram2dcontour": [
           {
            "colorbar": {
             "outlinewidth": 0,
             "ticks": ""
            },
            "colorscale": [
             [
              0,
              "#0d0887"
             ],
             [
              0.1111111111111111,
              "#46039f"
             ],
             [
              0.2222222222222222,
              "#7201a8"
             ],
             [
              0.3333333333333333,
              "#9c179e"
             ],
             [
              0.4444444444444444,
              "#bd3786"
             ],
             [
              0.5555555555555556,
              "#d8576b"
             ],
             [
              0.6666666666666666,
              "#ed7953"
             ],
             [
              0.7777777777777778,
              "#fb9f3a"
             ],
             [
              0.8888888888888888,
              "#fdca26"
             ],
             [
              1,
              "#f0f921"
             ]
            ],
            "type": "histogram2dcontour"
           }
          ],
          "mesh3d": [
           {
            "colorbar": {
             "outlinewidth": 0,
             "ticks": ""
            },
            "type": "mesh3d"
           }
          ],
          "parcoords": [
           {
            "line": {
             "colorbar": {
              "outlinewidth": 0,
              "ticks": ""
             }
            },
            "type": "parcoords"
           }
          ],
          "pie": [
           {
            "automargin": true,
            "type": "pie"
           }
          ],
          "scatter": [
           {
            "fillpattern": {
             "fillmode": "overlay",
             "size": 10,
             "solidity": 0.2
            },
            "type": "scatter"
           }
          ],
          "scatter3d": [
           {
            "line": {
             "colorbar": {
              "outlinewidth": 0,
              "ticks": ""
             }
            },
            "marker": {
             "colorbar": {
              "outlinewidth": 0,
              "ticks": ""
             }
            },
            "type": "scatter3d"
           }
          ],
          "scattercarpet": [
           {
            "marker": {
             "colorbar": {
              "outlinewidth": 0,
              "ticks": ""
             }
            },
            "type": "scattercarpet"
           }
          ],
          "scattergeo": [
           {
            "marker": {
             "colorbar": {
              "outlinewidth": 0,
              "ticks": ""
             }
            },
            "type": "scattergeo"
           }
          ],
          "scattergl": [
           {
            "marker": {
             "colorbar": {
              "outlinewidth": 0,
              "ticks": ""
             }
            },
            "type": "scattergl"
           }
          ],
          "scattermapbox": [
           {
            "marker": {
             "colorbar": {
              "outlinewidth": 0,
              "ticks": ""
             }
            },
            "type": "scattermapbox"
           }
          ],
          "scatterpolar": [
           {
            "marker": {
             "colorbar": {
              "outlinewidth": 0,
              "ticks": ""
             }
            },
            "type": "scatterpolar"
           }
          ],
          "scatterpolargl": [
           {
            "marker": {
             "colorbar": {
              "outlinewidth": 0,
              "ticks": ""
             }
            },
            "type": "scatterpolargl"
           }
          ],
          "scatterternary": [
           {
            "marker": {
             "colorbar": {
              "outlinewidth": 0,
              "ticks": ""
             }
            },
            "type": "scatterternary"
           }
          ],
          "surface": [
           {
            "colorbar": {
             "outlinewidth": 0,
             "ticks": ""
            },
            "colorscale": [
             [
              0,
              "#0d0887"
             ],
             [
              0.1111111111111111,
              "#46039f"
             ],
             [
              0.2222222222222222,
              "#7201a8"
             ],
             [
              0.3333333333333333,
              "#9c179e"
             ],
             [
              0.4444444444444444,
              "#bd3786"
             ],
             [
              0.5555555555555556,
              "#d8576b"
             ],
             [
              0.6666666666666666,
              "#ed7953"
             ],
             [
              0.7777777777777778,
              "#fb9f3a"
             ],
             [
              0.8888888888888888,
              "#fdca26"
             ],
             [
              1,
              "#f0f921"
             ]
            ],
            "type": "surface"
           }
          ],
          "table": [
           {
            "cells": {
             "fill": {
              "color": "#EBF0F8"
             },
             "line": {
              "color": "white"
             }
            },
            "header": {
             "fill": {
              "color": "#C8D4E3"
             },
             "line": {
              "color": "white"
             }
            },
            "type": "table"
           }
          ]
         },
         "layout": {
          "annotationdefaults": {
           "arrowcolor": "#2a3f5f",
           "arrowhead": 0,
           "arrowwidth": 1
          },
          "autotypenumbers": "strict",
          "coloraxis": {
           "colorbar": {
            "outlinewidth": 0,
            "ticks": ""
           }
          },
          "colorscale": {
           "diverging": [
            [
             0,
             "#8e0152"
            ],
            [
             0.1,
             "#c51b7d"
            ],
            [
             0.2,
             "#de77ae"
            ],
            [
             0.3,
             "#f1b6da"
            ],
            [
             0.4,
             "#fde0ef"
            ],
            [
             0.5,
             "#f7f7f7"
            ],
            [
             0.6,
             "#e6f5d0"
            ],
            [
             0.7,
             "#b8e186"
            ],
            [
             0.8,
             "#7fbc41"
            ],
            [
             0.9,
             "#4d9221"
            ],
            [
             1,
             "#276419"
            ]
           ],
           "sequential": [
            [
             0,
             "#0d0887"
            ],
            [
             0.1111111111111111,
             "#46039f"
            ],
            [
             0.2222222222222222,
             "#7201a8"
            ],
            [
             0.3333333333333333,
             "#9c179e"
            ],
            [
             0.4444444444444444,
             "#bd3786"
            ],
            [
             0.5555555555555556,
             "#d8576b"
            ],
            [
             0.6666666666666666,
             "#ed7953"
            ],
            [
             0.7777777777777778,
             "#fb9f3a"
            ],
            [
             0.8888888888888888,
             "#fdca26"
            ],
            [
             1,
             "#f0f921"
            ]
           ],
           "sequentialminus": [
            [
             0,
             "#0d0887"
            ],
            [
             0.1111111111111111,
             "#46039f"
            ],
            [
             0.2222222222222222,
             "#7201a8"
            ],
            [
             0.3333333333333333,
             "#9c179e"
            ],
            [
             0.4444444444444444,
             "#bd3786"
            ],
            [
             0.5555555555555556,
             "#d8576b"
            ],
            [
             0.6666666666666666,
             "#ed7953"
            ],
            [
             0.7777777777777778,
             "#fb9f3a"
            ],
            [
             0.8888888888888888,
             "#fdca26"
            ],
            [
             1,
             "#f0f921"
            ]
           ]
          },
          "colorway": [
           "#636efa",
           "#EF553B",
           "#00cc96",
           "#ab63fa",
           "#FFA15A",
           "#19d3f3",
           "#FF6692",
           "#B6E880",
           "#FF97FF",
           "#FECB52"
          ],
          "font": {
           "color": "#2a3f5f"
          },
          "geo": {
           "bgcolor": "white",
           "lakecolor": "white",
           "landcolor": "#E5ECF6",
           "showlakes": true,
           "showland": true,
           "subunitcolor": "white"
          },
          "hoverlabel": {
           "align": "left"
          },
          "hovermode": "closest",
          "mapbox": {
           "style": "light"
          },
          "paper_bgcolor": "white",
          "plot_bgcolor": "#E5ECF6",
          "polar": {
           "angularaxis": {
            "gridcolor": "white",
            "linecolor": "white",
            "ticks": ""
           },
           "bgcolor": "#E5ECF6",
           "radialaxis": {
            "gridcolor": "white",
            "linecolor": "white",
            "ticks": ""
           }
          },
          "scene": {
           "xaxis": {
            "backgroundcolor": "#E5ECF6",
            "gridcolor": "white",
            "gridwidth": 2,
            "linecolor": "white",
            "showbackground": true,
            "ticks": "",
            "zerolinecolor": "white"
           },
           "yaxis": {
            "backgroundcolor": "#E5ECF6",
            "gridcolor": "white",
            "gridwidth": 2,
            "linecolor": "white",
            "showbackground": true,
            "ticks": "",
            "zerolinecolor": "white"
           },
           "zaxis": {
            "backgroundcolor": "#E5ECF6",
            "gridcolor": "white",
            "gridwidth": 2,
            "linecolor": "white",
            "showbackground": true,
            "ticks": "",
            "zerolinecolor": "white"
           }
          },
          "shapedefaults": {
           "line": {
            "color": "#2a3f5f"
           }
          },
          "ternary": {
           "aaxis": {
            "gridcolor": "white",
            "linecolor": "white",
            "ticks": ""
           },
           "baxis": {
            "gridcolor": "white",
            "linecolor": "white",
            "ticks": ""
           },
           "bgcolor": "#E5ECF6",
           "caxis": {
            "gridcolor": "white",
            "linecolor": "white",
            "ticks": ""
           }
          },
          "title": {
           "x": 0.05
          },
          "xaxis": {
           "automargin": true,
           "gridcolor": "white",
           "linecolor": "white",
           "ticks": "",
           "title": {
            "standoff": 15
           },
           "zerolinecolor": "white",
           "zerolinewidth": 2
          },
          "yaxis": {
           "automargin": true,
           "gridcolor": "white",
           "linecolor": "white",
           "ticks": "",
           "title": {
            "standoff": 15
           },
           "zerolinecolor": "white",
           "zerolinewidth": 2
          }
         }
        },
        "title": {
         "text": "Cumulative Trip Distance Distribution for Income 004-$35,000-$49,999"
        },
        "xaxis": {
         "anchor": "y",
         "domain": [
          0,
          1
         ],
         "title": {
          "text": "Distance Traveled (miles)"
         }
        },
        "yaxis": {
         "anchor": "x",
         "domain": [
          0,
          1
         ],
         "title": {
          "text": "Cumulative Percentage of Trips"
         }
        }
       }
      }
     },
     "metadata": {},
     "output_type": "display_data"
    },
    {
     "data": {
      "application/vnd.jupyter.widget-view+json": {
       "model_id": "c3999dc517724fc7bb4c96744573c399",
       "version_major": 2,
       "version_minor": 0
      },
      "text/plain": [
       "Output()"
      ]
     },
     "metadata": {},
     "output_type": "display_data"
    }
   ],
   "source": [
    "import plotly.express as px\n",
    "import ipywidgets as widgets\n",
    "from IPython.display import display, Markdown\n",
    "\n",
    "# Function to update the plot based on selected income bin\n",
    "def update_plot(income_bin):\n",
    "\n",
    "    output.clear_output()\n",
    "\n",
    "    global firstTime\n",
    "    if firstTime:\n",
    "        firstTime = False\n",
    "    else:\n",
    "\n",
    "        filtered_data = filtered_groupedIncome[filtered_groupedIncome['Income'] == income_bin]\n",
    "        fig = px.line(\n",
    "            filtered_data,\n",
    "            x='distance_miles_2mibin',\n",
    "            y='cumulative_percentage',\n",
    "            color='Trip Type',\n",
    "            labels={\n",
    "                'distance_miles_2mibin': 'Distance Traveled (miles)',\n",
    "                'cumulative_percentage': 'Cumulative Percentage'\n",
    "            },\n",
    "            title=f'Cumulative Trip Distance Distribution for Income {income_bin}'\n",
    "        )\n",
    "        fig.update_layout(\n",
    "            xaxis_title='Distance Traveled (miles)',\n",
    "            yaxis_title='Cumulative Percentage of Trips',\n",
    "            legend_title='Trip Type'\n",
    "        )\n",
    "        fig.show()\n",
    "        \n",
    "# Define widgets and output\n",
    "income_bins = filtered_groupedIncome['Income'].unique()\n",
    "dropdown = widgets.Dropdown(\n",
    "    options=income_bins,\n",
    "    description='Select Income:',\n",
    "    disabled=False,\n",
    ")\n",
    "\n",
    "# Set up a global variable to track whether the widgets have been changed\n",
    "firstTime = True\n",
    "\n",
    "# create output widget to display filtered DataFrame\n",
    "output = widgets.Output()\n",
    "\n",
    "# create interactive widget\n",
    "interactive_output = widgets.interactive_output(update_plot, {'income_bin': dropdown})\n",
    "\n",
    "\n",
    "# Widget interaction\n",
    "\n",
    "# Display a markdown heading\n",
    "display(Markdown('# Distribution by Income'))\n",
    "display(dropdown)\n",
    "display(interactive_output)\n",
    "display(output)"
   ]
  },
  {
   "cell_type": "code",
   "execution_count": 190,
   "metadata": {},
   "outputs": [
    {
     "data": {
      "text/markdown": [
       "# Distribution by Income and Trip Type"
      ],
      "text/plain": [
       "<IPython.core.display.Markdown object>"
      ]
     },
     "metadata": {},
     "output_type": "display_data"
    },
    {
     "data": {
      "application/vnd.jupyter.widget-view+json": {
       "model_id": "1bed55f04ea746abba17dfc4cb2aade1",
       "version_major": 2,
       "version_minor": 0
      },
      "text/plain": [
       "SelectMultiple(description='Select Income:', options=('001-Less than $15,000', '002-$15,000-$24,999', '003-$25…"
      ]
     },
     "metadata": {},
     "output_type": "display_data"
    },
    {
     "data": {
      "application/vnd.jupyter.widget-view+json": {
       "model_id": "26604d2799534f729a22cf9d02a5e529",
       "version_major": 2,
       "version_minor": 0
      },
      "text/plain": [
       "Dropdown(description='Trip Types:', options=('1-Home-based work', '2-Home-based school', '3-Home-based shoppin…"
      ]
     },
     "metadata": {},
     "output_type": "display_data"
    },
    {
     "data": {
      "application/vnd.jupyter.widget-view+json": {
       "model_id": "f847d0d479824308bc0df43cbe89c327",
       "version_major": 2,
       "version_minor": 0
      },
      "text/plain": [
       "Output()"
      ]
     },
     "metadata": {},
     "output_type": "display_data"
    },
    {
     "data": {
      "application/vnd.plotly.v1+json": {
       "config": {
        "plotlyServerURL": "https://plot.ly"
       },
       "data": [
        {
         "hovertemplate": "Income=001-Less than $15,000<br>Distance Traveled (miles)=%{x}<br>Cumulative Percentage=%{y}<extra></extra>",
         "legendgroup": "001-Less than $15,000",
         "line": {
          "color": "#B6E0FE",
          "dash": "solid"
         },
         "marker": {
          "symbol": "circle"
         },
         "mode": "lines",
         "name": "001-Less than $15,000",
         "orientation": "v",
         "showlegend": true,
         "type": "scatter",
         "x": [
          0,
          2,
          4,
          6,
          8,
          10,
          12,
          14,
          16,
          18,
          20,
          22,
          24,
          26,
          28,
          32,
          36,
          38,
          40,
          44,
          52,
          54
         ],
         "xaxis": "x",
         "y": [
          44.636551307865474,
          56.732001596210395,
          64.15473069090649,
          71.3536407942027,
          75.74116318841939,
          77.2402193780687,
          89.58324897341828,
          89.79783116537341,
          94.70699690300275,
          94.70699690300275,
          94.9247279853596,
          95.63367827555386,
          97.07535307082914,
          98.5173394146229,
          98.5173394146229,
          98.5173394146229,
          98.59092324602129,
          99.13624621180729,
          99.3155555971275,
          99.3155555971275,
          99.64770206411706,
          99.64770206411706
         ],
         "yaxis": "y"
        },
        {
         "hovertemplate": "Income=002-$15,000-$24,999<br>Distance Traveled (miles)=%{x}<br>Cumulative Percentage=%{y}<extra></extra>",
         "legendgroup": "002-$15,000-$24,999",
         "line": {
          "color": "#92C5FC",
          "dash": "solid"
         },
         "marker": {
          "symbol": "circle"
         },
         "mode": "lines",
         "name": "002-$15,000-$24,999",
         "orientation": "v",
         "showlegend": true,
         "type": "scatter",
         "x": [
          0,
          2,
          4,
          6,
          8,
          10,
          12,
          14,
          16,
          18,
          20,
          22,
          24,
          26,
          28,
          30,
          34,
          36,
          40,
          42,
          44,
          46,
          48,
          50,
          52,
          54,
          56,
          60
         ],
         "xaxis": "x",
         "y": [
          32.038777295100054,
          60.19265133239661,
          68.54444648226917,
          80.89973943068313,
          84.4072850073993,
          88.54956018663498,
          90.37443497997222,
          93.30087585198179,
          93.33044402476645,
          93.40842494005322,
          93.98544442640095,
          94.0033600127971,
          94.23984991316348,
          95.41391051371525,
          95.41391051371525,
          95.41391051371525,
          96.27947556796877,
          96.29239937455196,
          99.36453397424458,
          99.36453397424458,
          99.39339093326433,
          99.60416698796,
          99.70562607011355,
          99.8070851522671,
          99.88132702276124,
          99.88631603030859,
          99.88631603030859,
          99.88631603030859
         ],
         "yaxis": "y"
        },
        {
         "hovertemplate": "Income=003-$25,000-$34,999<br>Distance Traveled (miles)=%{x}<br>Cumulative Percentage=%{y}<extra></extra>",
         "legendgroup": "003-$25,000-$34,999",
         "line": {
          "color": "#6FA8DC",
          "dash": "solid"
         },
         "marker": {
          "symbol": "circle"
         },
         "mode": "lines",
         "name": "003-$25,000-$34,999",
         "orientation": "v",
         "showlegend": true,
         "type": "scatter",
         "x": [
          0,
          2,
          4,
          6,
          8,
          10,
          12,
          14,
          16,
          18,
          20,
          22,
          24,
          28,
          30,
          34,
          38,
          40,
          42,
          44,
          46,
          48,
          50,
          52,
          54,
          58
         ],
         "xaxis": "x",
         "y": [
          37.97037714698199,
          62.93117065814127,
          74.36121358137419,
          81.53258531229213,
          85.15235976125625,
          91.92556577075395,
          95.9708783139517,
          97.45157543615747,
          98.19708952975994,
          98.43509927025063,
          98.44050806323112,
          98.55902463163582,
          98.66285578869523,
          98.72323358873498,
          98.86540519360265,
          98.87312506016762,
          98.9894119311015,
          98.9894119311015,
          98.9894119311015,
          98.9894119311015,
          99.14853500799377,
          99.16763493250926,
          99.18453488579458,
          99.2029096199935,
          99.83556419750677,
          99.83556419750677
         ],
         "yaxis": "y"
        },
        {
         "hovertemplate": "Income=004-$35,000-$49,999<br>Distance Traveled (miles)=%{x}<br>Cumulative Percentage=%{y}<extra></extra>",
         "legendgroup": "004-$35,000-$49,999",
         "line": {
          "color": "#4D85BD",
          "dash": "solid"
         },
         "marker": {
          "symbol": "circle"
         },
         "mode": "lines",
         "name": "004-$35,000-$49,999",
         "orientation": "v",
         "showlegend": true,
         "type": "scatter",
         "x": [
          0,
          2,
          4,
          6,
          8,
          10,
          12,
          14,
          16,
          18,
          20,
          22,
          24,
          26,
          28,
          30,
          32,
          34,
          36,
          38,
          40,
          42,
          44,
          46,
          48,
          50,
          52,
          54,
          56,
          58
         ],
         "xaxis": "x",
         "y": [
          17.791789494442295,
          38.67555061868113,
          54.946283263609146,
          66.39709368013644,
          73.5245095815084,
          80.24129742696846,
          82.46981717868753,
          85.00429118804922,
          87.95513751316972,
          89.26333903481824,
          92.18541950732444,
          93.39528490905488,
          94.18315417557628,
          94.88556293799259,
          95.13284041665054,
          95.13929318171533,
          95.28071732177564,
          97.1810619166066,
          97.26264466265943,
          97.35033936659849,
          97.87239883061787,
          98.20446639985249,
          98.21552681449526,
          98.48307394402586,
          98.52866337159034,
          98.53974262443663,
          98.53974262443663,
          98.6025357277297,
          98.64253284736701,
          98.71596285971
         ],
         "yaxis": "y"
        },
        {
         "hovertemplate": "Income=007-$100,000-$149,999<br>Distance Traveled (miles)=%{x}<br>Cumulative Percentage=%{y}<extra></extra>",
         "legendgroup": "007-$100,000-$149,999",
         "line": {
          "color": "#2A4B8D",
          "dash": "solid"
         },
         "marker": {
          "symbol": "circle"
         },
         "mode": "lines",
         "name": "007-$100,000-$149,999",
         "orientation": "v",
         "showlegend": true,
         "type": "scatter",
         "x": [
          0,
          2,
          4,
          6,
          8,
          10,
          12,
          14,
          16,
          18,
          20,
          22,
          24,
          26,
          28,
          30,
          32,
          34,
          36,
          38,
          40,
          42,
          44,
          46,
          48,
          50,
          52,
          54,
          56,
          58,
          60
         ],
         "xaxis": "x",
         "y": [
          18.459232150638993,
          34.44823137427186,
          46.84223775816915,
          57.80442450674233,
          66.22652404852963,
          71.30859042755088,
          76.57611104942299,
          82.19578348992506,
          84.185503294052,
          87.151237260447,
          90.48351596695373,
          92.34741310388169,
          92.97027061453515,
          93.62074632999594,
          94.1239944611767,
          94.62911260192507,
          95.46163679269888,
          96.18175252819869,
          96.54968945166554,
          97.14298905220127,
          97.44815230950697,
          98.2368693847718,
          98.26395781864053,
          98.53224593281936,
          98.77087432835533,
          98.80805406613128,
          98.90923372567056,
          98.92145616098071,
          99.11686066638407,
          99.29954800692279,
          99.72028385028382
         ],
         "yaxis": "y"
        },
        {
         "hovertemplate": "Income=008-$150,000-$199,999<br>Distance Traveled (miles)=%{x}<br>Cumulative Percentage=%{y}<extra></extra>",
         "legendgroup": "008-$150,000-$199,999",
         "line": {
          "color": "#1E3A5F",
          "dash": "solid"
         },
         "marker": {
          "symbol": "circle"
         },
         "mode": "lines",
         "name": "008-$150,000-$199,999",
         "orientation": "v",
         "showlegend": true,
         "type": "scatter",
         "x": [
          0,
          2,
          4,
          6,
          8,
          10,
          12,
          14,
          16,
          18,
          20,
          22,
          24,
          26,
          28,
          30,
          32,
          34,
          36,
          38,
          42,
          44,
          46,
          48,
          50,
          52,
          54,
          56,
          58
         ],
         "xaxis": "x",
         "y": [
          14.672738275179114,
          27.916290721252288,
          38.18151354535457,
          52.19418846011176,
          55.829580359969384,
          64.11640892936153,
          69.53817798328109,
          72.48324968304976,
          76.70385434834667,
          79.24769272214711,
          83.15812290438268,
          86.52869097182217,
          88.5727178571205,
          89.93406813190448,
          92.32344989328891,
          92.50841867130637,
          94.25427561060692,
          94.35928351184239,
          94.54190838571303,
          95.44106385960896,
          95.53728467369602,
          96.680693178165,
          96.86618548567525,
          96.92122266183289,
          97.07218038038067,
          97.09367519779184,
          98.01260154240148,
          98.14324451641757,
          98.27538295501815
         ],
         "yaxis": "y"
        },
        {
         "hovertemplate": "Income=009-$200,000-$249,999<br>Distance Traveled (miles)=%{x}<br>Cumulative Percentage=%{y}<extra></extra>",
         "legendgroup": "009-$200,000-$249,999",
         "line": {
          "color": "#162447",
          "dash": "solid"
         },
         "marker": {
          "symbol": "circle"
         },
         "mode": "lines",
         "name": "009-$200,000-$249,999",
         "orientation": "v",
         "showlegend": true,
         "type": "scatter",
         "x": [
          0,
          2,
          4,
          6,
          8,
          10,
          12,
          14,
          16,
          18,
          20,
          22,
          24,
          26,
          28,
          30,
          32,
          34,
          36,
          38,
          40,
          42,
          44,
          46,
          48,
          52,
          54,
          58
         ],
         "xaxis": "x",
         "y": [
          19.85027373033378,
          30.745106993898055,
          43.153258184066935,
          46.72621118331865,
          56.90966816003039,
          57.856705154605045,
          62.78585671868561,
          63.955867082062724,
          68.3441997364144,
          75.98349586488017,
          78.75367447955445,
          81.09811884853863,
          84.64689003746449,
          85.89175390348633,
          87.12174085116379,
          89.44580610848475,
          89.44580610848475,
          89.47835931641475,
          90.76660446073626,
          92.02231915549525,
          92.13713204020347,
          92.13713204020347,
          92.24727802622587,
          92.37794287674652,
          92.41047332630905,
          94.58911692842253,
          94.62092396992067,
          97.9923117670151
         ],
         "yaxis": "y"
        },
        {
         "hovertemplate": "Income=010-$250,000 or more<br>Distance Traveled (miles)=%{x}<br>Cumulative Percentage=%{y}<extra></extra>",
         "legendgroup": "010-$250,000 or more",
         "line": {
          "color": "#0A2239",
          "dash": "solid"
         },
         "marker": {
          "symbol": "circle"
         },
         "mode": "lines",
         "name": "010-$250,000 or more",
         "orientation": "v",
         "showlegend": true,
         "type": "scatter",
         "x": [
          0,
          2,
          4,
          6,
          8,
          10,
          12,
          14,
          16,
          18,
          20,
          22,
          24,
          26,
          28,
          30,
          32,
          34,
          36,
          38,
          40,
          42,
          44,
          46,
          48,
          50,
          54
         ],
         "xaxis": "x",
         "y": [
          21.199486406983066,
          35.725527906430635,
          46.288232682027505,
          55.505241478489594,
          61.526721592480214,
          65.41952676737274,
          69.23322422572316,
          77.76037935906274,
          80.51906314743265,
          83.20438968599493,
          87.14930109091118,
          87.47844521264331,
          95.38441368784515,
          96.14853797736059,
          96.14853797736059,
          96.49522042968712,
          96.51327595973082,
          96.5861759250553,
          96.5861759250553,
          96.6307959580962,
          97.8265058882323,
          97.91719013280397,
          98.8798448167708,
          99.64396910628625,
          99.66111998719452,
          99.68117217417469,
          99.84918980775375
         ],
         "yaxis": "y"
        }
       ],
       "layout": {
        "legend": {
         "title": {
          "text": "Trip Type"
         },
         "tracegroupgap": 0
        },
        "template": {
         "data": {
          "bar": [
           {
            "error_x": {
             "color": "#2a3f5f"
            },
            "error_y": {
             "color": "#2a3f5f"
            },
            "marker": {
             "line": {
              "color": "#E5ECF6",
              "width": 0.5
             },
             "pattern": {
              "fillmode": "overlay",
              "size": 10,
              "solidity": 0.2
             }
            },
            "type": "bar"
           }
          ],
          "barpolar": [
           {
            "marker": {
             "line": {
              "color": "#E5ECF6",
              "width": 0.5
             },
             "pattern": {
              "fillmode": "overlay",
              "size": 10,
              "solidity": 0.2
             }
            },
            "type": "barpolar"
           }
          ],
          "carpet": [
           {
            "aaxis": {
             "endlinecolor": "#2a3f5f",
             "gridcolor": "white",
             "linecolor": "white",
             "minorgridcolor": "white",
             "startlinecolor": "#2a3f5f"
            },
            "baxis": {
             "endlinecolor": "#2a3f5f",
             "gridcolor": "white",
             "linecolor": "white",
             "minorgridcolor": "white",
             "startlinecolor": "#2a3f5f"
            },
            "type": "carpet"
           }
          ],
          "choropleth": [
           {
            "colorbar": {
             "outlinewidth": 0,
             "ticks": ""
            },
            "type": "choropleth"
           }
          ],
          "contour": [
           {
            "colorbar": {
             "outlinewidth": 0,
             "ticks": ""
            },
            "colorscale": [
             [
              0,
              "#0d0887"
             ],
             [
              0.1111111111111111,
              "#46039f"
             ],
             [
              0.2222222222222222,
              "#7201a8"
             ],
             [
              0.3333333333333333,
              "#9c179e"
             ],
             [
              0.4444444444444444,
              "#bd3786"
             ],
             [
              0.5555555555555556,
              "#d8576b"
             ],
             [
              0.6666666666666666,
              "#ed7953"
             ],
             [
              0.7777777777777778,
              "#fb9f3a"
             ],
             [
              0.8888888888888888,
              "#fdca26"
             ],
             [
              1,
              "#f0f921"
             ]
            ],
            "type": "contour"
           }
          ],
          "contourcarpet": [
           {
            "colorbar": {
             "outlinewidth": 0,
             "ticks": ""
            },
            "type": "contourcarpet"
           }
          ],
          "heatmap": [
           {
            "colorbar": {
             "outlinewidth": 0,
             "ticks": ""
            },
            "colorscale": [
             [
              0,
              "#0d0887"
             ],
             [
              0.1111111111111111,
              "#46039f"
             ],
             [
              0.2222222222222222,
              "#7201a8"
             ],
             [
              0.3333333333333333,
              "#9c179e"
             ],
             [
              0.4444444444444444,
              "#bd3786"
             ],
             [
              0.5555555555555556,
              "#d8576b"
             ],
             [
              0.6666666666666666,
              "#ed7953"
             ],
             [
              0.7777777777777778,
              "#fb9f3a"
             ],
             [
              0.8888888888888888,
              "#fdca26"
             ],
             [
              1,
              "#f0f921"
             ]
            ],
            "type": "heatmap"
           }
          ],
          "heatmapgl": [
           {
            "colorbar": {
             "outlinewidth": 0,
             "ticks": ""
            },
            "colorscale": [
             [
              0,
              "#0d0887"
             ],
             [
              0.1111111111111111,
              "#46039f"
             ],
             [
              0.2222222222222222,
              "#7201a8"
             ],
             [
              0.3333333333333333,
              "#9c179e"
             ],
             [
              0.4444444444444444,
              "#bd3786"
             ],
             [
              0.5555555555555556,
              "#d8576b"
             ],
             [
              0.6666666666666666,
              "#ed7953"
             ],
             [
              0.7777777777777778,
              "#fb9f3a"
             ],
             [
              0.8888888888888888,
              "#fdca26"
             ],
             [
              1,
              "#f0f921"
             ]
            ],
            "type": "heatmapgl"
           }
          ],
          "histogram": [
           {
            "marker": {
             "pattern": {
              "fillmode": "overlay",
              "size": 10,
              "solidity": 0.2
             }
            },
            "type": "histogram"
           }
          ],
          "histogram2d": [
           {
            "colorbar": {
             "outlinewidth": 0,
             "ticks": ""
            },
            "colorscale": [
             [
              0,
              "#0d0887"
             ],
             [
              0.1111111111111111,
              "#46039f"
             ],
             [
              0.2222222222222222,
              "#7201a8"
             ],
             [
              0.3333333333333333,
              "#9c179e"
             ],
             [
              0.4444444444444444,
              "#bd3786"
             ],
             [
              0.5555555555555556,
              "#d8576b"
             ],
             [
              0.6666666666666666,
              "#ed7953"
             ],
             [
              0.7777777777777778,
              "#fb9f3a"
             ],
             [
              0.8888888888888888,
              "#fdca26"
             ],
             [
              1,
              "#f0f921"
             ]
            ],
            "type": "histogram2d"
           }
          ],
          "histogram2dcontour": [
           {
            "colorbar": {
             "outlinewidth": 0,
             "ticks": ""
            },
            "colorscale": [
             [
              0,
              "#0d0887"
             ],
             [
              0.1111111111111111,
              "#46039f"
             ],
             [
              0.2222222222222222,
              "#7201a8"
             ],
             [
              0.3333333333333333,
              "#9c179e"
             ],
             [
              0.4444444444444444,
              "#bd3786"
             ],
             [
              0.5555555555555556,
              "#d8576b"
             ],
             [
              0.6666666666666666,
              "#ed7953"
             ],
             [
              0.7777777777777778,
              "#fb9f3a"
             ],
             [
              0.8888888888888888,
              "#fdca26"
             ],
             [
              1,
              "#f0f921"
             ]
            ],
            "type": "histogram2dcontour"
           }
          ],
          "mesh3d": [
           {
            "colorbar": {
             "outlinewidth": 0,
             "ticks": ""
            },
            "type": "mesh3d"
           }
          ],
          "parcoords": [
           {
            "line": {
             "colorbar": {
              "outlinewidth": 0,
              "ticks": ""
             }
            },
            "type": "parcoords"
           }
          ],
          "pie": [
           {
            "automargin": true,
            "type": "pie"
           }
          ],
          "scatter": [
           {
            "fillpattern": {
             "fillmode": "overlay",
             "size": 10,
             "solidity": 0.2
            },
            "type": "scatter"
           }
          ],
          "scatter3d": [
           {
            "line": {
             "colorbar": {
              "outlinewidth": 0,
              "ticks": ""
             }
            },
            "marker": {
             "colorbar": {
              "outlinewidth": 0,
              "ticks": ""
             }
            },
            "type": "scatter3d"
           }
          ],
          "scattercarpet": [
           {
            "marker": {
             "colorbar": {
              "outlinewidth": 0,
              "ticks": ""
             }
            },
            "type": "scattercarpet"
           }
          ],
          "scattergeo": [
           {
            "marker": {
             "colorbar": {
              "outlinewidth": 0,
              "ticks": ""
             }
            },
            "type": "scattergeo"
           }
          ],
          "scattergl": [
           {
            "marker": {
             "colorbar": {
              "outlinewidth": 0,
              "ticks": ""
             }
            },
            "type": "scattergl"
           }
          ],
          "scattermapbox": [
           {
            "marker": {
             "colorbar": {
              "outlinewidth": 0,
              "ticks": ""
             }
            },
            "type": "scattermapbox"
           }
          ],
          "scatterpolar": [
           {
            "marker": {
             "colorbar": {
              "outlinewidth": 0,
              "ticks": ""
             }
            },
            "type": "scatterpolar"
           }
          ],
          "scatterpolargl": [
           {
            "marker": {
             "colorbar": {
              "outlinewidth": 0,
              "ticks": ""
             }
            },
            "type": "scatterpolargl"
           }
          ],
          "scatterternary": [
           {
            "marker": {
             "colorbar": {
              "outlinewidth": 0,
              "ticks": ""
             }
            },
            "type": "scatterternary"
           }
          ],
          "surface": [
           {
            "colorbar": {
             "outlinewidth": 0,
             "ticks": ""
            },
            "colorscale": [
             [
              0,
              "#0d0887"
             ],
             [
              0.1111111111111111,
              "#46039f"
             ],
             [
              0.2222222222222222,
              "#7201a8"
             ],
             [
              0.3333333333333333,
              "#9c179e"
             ],
             [
              0.4444444444444444,
              "#bd3786"
             ],
             [
              0.5555555555555556,
              "#d8576b"
             ],
             [
              0.6666666666666666,
              "#ed7953"
             ],
             [
              0.7777777777777778,
              "#fb9f3a"
             ],
             [
              0.8888888888888888,
              "#fdca26"
             ],
             [
              1,
              "#f0f921"
             ]
            ],
            "type": "surface"
           }
          ],
          "table": [
           {
            "cells": {
             "fill": {
              "color": "#EBF0F8"
             },
             "line": {
              "color": "white"
             }
            },
            "header": {
             "fill": {
              "color": "#C8D4E3"
             },
             "line": {
              "color": "white"
             }
            },
            "type": "table"
           }
          ]
         },
         "layout": {
          "annotationdefaults": {
           "arrowcolor": "#2a3f5f",
           "arrowhead": 0,
           "arrowwidth": 1
          },
          "autotypenumbers": "strict",
          "coloraxis": {
           "colorbar": {
            "outlinewidth": 0,
            "ticks": ""
           }
          },
          "colorscale": {
           "diverging": [
            [
             0,
             "#8e0152"
            ],
            [
             0.1,
             "#c51b7d"
            ],
            [
             0.2,
             "#de77ae"
            ],
            [
             0.3,
             "#f1b6da"
            ],
            [
             0.4,
             "#fde0ef"
            ],
            [
             0.5,
             "#f7f7f7"
            ],
            [
             0.6,
             "#e6f5d0"
            ],
            [
             0.7,
             "#b8e186"
            ],
            [
             0.8,
             "#7fbc41"
            ],
            [
             0.9,
             "#4d9221"
            ],
            [
             1,
             "#276419"
            ]
           ],
           "sequential": [
            [
             0,
             "#0d0887"
            ],
            [
             0.1111111111111111,
             "#46039f"
            ],
            [
             0.2222222222222222,
             "#7201a8"
            ],
            [
             0.3333333333333333,
             "#9c179e"
            ],
            [
             0.4444444444444444,
             "#bd3786"
            ],
            [
             0.5555555555555556,
             "#d8576b"
            ],
            [
             0.6666666666666666,
             "#ed7953"
            ],
            [
             0.7777777777777778,
             "#fb9f3a"
            ],
            [
             0.8888888888888888,
             "#fdca26"
            ],
            [
             1,
             "#f0f921"
            ]
           ],
           "sequentialminus": [
            [
             0,
             "#0d0887"
            ],
            [
             0.1111111111111111,
             "#46039f"
            ],
            [
             0.2222222222222222,
             "#7201a8"
            ],
            [
             0.3333333333333333,
             "#9c179e"
            ],
            [
             0.4444444444444444,
             "#bd3786"
            ],
            [
             0.5555555555555556,
             "#d8576b"
            ],
            [
             0.6666666666666666,
             "#ed7953"
            ],
            [
             0.7777777777777778,
             "#fb9f3a"
            ],
            [
             0.8888888888888888,
             "#fdca26"
            ],
            [
             1,
             "#f0f921"
            ]
           ]
          },
          "colorway": [
           "#636efa",
           "#EF553B",
           "#00cc96",
           "#ab63fa",
           "#FFA15A",
           "#19d3f3",
           "#FF6692",
           "#B6E880",
           "#FF97FF",
           "#FECB52"
          ],
          "font": {
           "color": "#2a3f5f"
          },
          "geo": {
           "bgcolor": "white",
           "lakecolor": "white",
           "landcolor": "#E5ECF6",
           "showlakes": true,
           "showland": true,
           "subunitcolor": "white"
          },
          "hoverlabel": {
           "align": "left"
          },
          "hovermode": "closest",
          "mapbox": {
           "style": "light"
          },
          "paper_bgcolor": "white",
          "plot_bgcolor": "#E5ECF6",
          "polar": {
           "angularaxis": {
            "gridcolor": "white",
            "linecolor": "white",
            "ticks": ""
           },
           "bgcolor": "#E5ECF6",
           "radialaxis": {
            "gridcolor": "white",
            "linecolor": "white",
            "ticks": ""
           }
          },
          "scene": {
           "xaxis": {
            "backgroundcolor": "#E5ECF6",
            "gridcolor": "white",
            "gridwidth": 2,
            "linecolor": "white",
            "showbackground": true,
            "ticks": "",
            "zerolinecolor": "white"
           },
           "yaxis": {
            "backgroundcolor": "#E5ECF6",
            "gridcolor": "white",
            "gridwidth": 2,
            "linecolor": "white",
            "showbackground": true,
            "ticks": "",
            "zerolinecolor": "white"
           },
           "zaxis": {
            "backgroundcolor": "#E5ECF6",
            "gridcolor": "white",
            "gridwidth": 2,
            "linecolor": "white",
            "showbackground": true,
            "ticks": "",
            "zerolinecolor": "white"
           }
          },
          "shapedefaults": {
           "line": {
            "color": "#2a3f5f"
           }
          },
          "ternary": {
           "aaxis": {
            "gridcolor": "white",
            "linecolor": "white",
            "ticks": ""
           },
           "baxis": {
            "gridcolor": "white",
            "linecolor": "white",
            "ticks": ""
           },
           "bgcolor": "#E5ECF6",
           "caxis": {
            "gridcolor": "white",
            "linecolor": "white",
            "ticks": ""
           }
          },
          "title": {
           "x": 0.05
          },
          "xaxis": {
           "automargin": true,
           "gridcolor": "white",
           "linecolor": "white",
           "ticks": "",
           "title": {
            "standoff": 15
           },
           "zerolinecolor": "white",
           "zerolinewidth": 2
          },
          "yaxis": {
           "automargin": true,
           "gridcolor": "white",
           "linecolor": "white",
           "ticks": "",
           "title": {
            "standoff": 15
           },
           "zerolinecolor": "white",
           "zerolinewidth": 2
          }
         }
        },
        "title": {
         "text": "Cumulative Trip Distance Distribution for Income ('001-Less than $15,000', '002-$15,000-$24,999', '003-$25,000-$34,999', '004-$35,000-$49,999', '007-$100,000-$149,999', '008-$150,000-$199,999', '009-$200,000-$249,999', '010-$250,000 or more')"
        },
        "xaxis": {
         "anchor": "y",
         "domain": [
          0,
          1
         ],
         "title": {
          "text": "Distance Traveled (miles)"
         }
        },
        "yaxis": {
         "anchor": "x",
         "domain": [
          0,
          1
         ],
         "title": {
          "text": "Cumulative Percentage of Trips"
         }
        }
       }
      }
     },
     "metadata": {},
     "output_type": "display_data"
    },
    {
     "data": {
      "application/vnd.jupyter.widget-view+json": {
       "model_id": "f71b4bcf01e740679f17dcab0b6ec3c3",
       "version_major": 2,
       "version_minor": 0
      },
      "text/plain": [
       "Output()"
      ]
     },
     "metadata": {},
     "output_type": "display_data"
    }
   ],
   "source": [
    "import plotly.express as px\n",
    "import ipywidgets as widgets\n",
    "from IPython.display import display, Markdown, clear_output\n",
    "\n",
    "# Assuming 'filtered_groupedIncome' is defined and contains 'Trip Type' and 'Income' columns\n",
    "\n",
    "color_map = {\n",
    "    '001-Less than $15,000'   :'#B6E0FE',\n",
    "    '002-$15,000-$24,999'     :'#92C5FC',\n",
    "    '003-$25,000-$34,999'     :'#6FA8DC',\n",
    "    '004-$35,000-$49,999'     :'#4D85BD',\n",
    "    '005-$50,000-$74,999'     :'#357ABD',\n",
    "    '006-$75,000-$99,999'     :'#2B6CB0',\n",
    "    '007-$100,000-$149,999'   :'#2A4B8D',\n",
    "    '008-$150,000-$199,999'   :'#1E3A5F',\n",
    "    '009-$200,000-$249,999'   :'#162447',\n",
    "    '010-$250,000 or more'    :'#0A2239',\n",
    "    '999-Prefer not to answer':'#eeeeee' \n",
    "}\n",
    "\n",
    "\n",
    "# Function to update the plot based on selected income and trip types\n",
    "def update_plot(income_bin, triptype):\n",
    "\n",
    "    output.clear_output()\n",
    "\n",
    "    global firstTime\n",
    "    if firstTime:\n",
    "        firstTime = False\n",
    "    else:\n",
    "        # Filter data based on the selected income and trip types\n",
    "        filtered_data = filtered_groupedIncome[\n",
    "            (filtered_groupedIncome['Income'].isin(income_bin) &\n",
    "            (filtered_groupedIncome['Trip Type'] == triptype))\n",
    "        ]\n",
    "        fig = px.line(\n",
    "            filtered_data,\n",
    "            x='distance_miles_2mibin',\n",
    "            y='cumulative_percentage',\n",
    "            color='Income',\n",
    "            color_discrete_map=color_map,  # Map specific colors to categories\n",
    "            labels={\n",
    "                'distance_miles_2mibin': 'Distance Traveled (miles)',\n",
    "                'cumulative_percentage': 'Cumulative Percentage'\n",
    "            },\n",
    "            title=f'Cumulative Trip Distance Distribution for Income {income_bin}'\n",
    "\n",
    "        )\n",
    "        fig.update_layout(\n",
    "            xaxis_title='Distance Traveled (miles)',\n",
    "            yaxis_title='Cumulative Percentage of Trips',\n",
    "            legend_title='Trip Type'\n",
    "        )\n",
    "        fig.show()\n",
    "\n",
    "# Extract unique values for income bins and trip types\n",
    "income_bins = filtered_groupedIncome['Income'].unique()\n",
    "trip_types = filtered_groupedIncome['Trip Type'].unique()\n",
    "\n",
    "# Create dropdown for income bin selection\n",
    "income_dropdown = widgets.SelectMultiple(\n",
    "    options=income_bins,\n",
    "    description='Select Income:',\n",
    "    disabled=False,\n",
    ")\n",
    "\n",
    "# Create multiselect for trip types\n",
    "trip_type_selector = widgets.Dropdown(\n",
    "    options=trip_types,\n",
    "    description='Trip Types:',\n",
    "    disabled=False\n",
    ")\n",
    "\n",
    "# Set up a global variable to track whether the widgets have been changed\n",
    "firstTime = True\n",
    "\n",
    "\n",
    "# create output widget to display filtered DataFrame\n",
    "output = widgets.Output()\n",
    "\n",
    "# create interactive widget\n",
    "interactive_output = widgets.interactive_output(update_plot, {'income_bin': income_dropdown, 'triptype': trip_type_selector})\n",
    "# Display widgets and output\n",
    "display(Markdown('# Distribution by Income and Trip Type'))\n",
    "display(income_dropdown)\n",
    "display(trip_type_selector)\n",
    "display(interactive_output)\n",
    "display(output)\n"
   ]
  },
  {
   "cell_type": "code",
   "execution_count": null,
   "metadata": {},
   "outputs": [],
   "source": []
  }
 ],
 "metadata": {
  "kernelspec": {
   "display_name": "base",
   "language": "python",
   "name": "python3"
  },
  "language_info": {
   "codemirror_mode": {
    "name": "ipython",
    "version": 3
   },
   "file_extension": ".py",
   "mimetype": "text/x-python",
   "name": "python",
   "nbconvert_exporter": "python",
   "pygments_lexer": "ipython3",
   "version": "3.9.13"
  }
 },
 "nbformat": 4,
 "nbformat_minor": 2
}
