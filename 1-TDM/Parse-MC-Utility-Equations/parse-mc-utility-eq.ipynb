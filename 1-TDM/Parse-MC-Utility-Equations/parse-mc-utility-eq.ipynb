{
 "cells": [
  {
   "cell_type": "code",
   "execution_count": 1,
   "metadata": {},
   "outputs": [],
   "source": [
    "import os\n",
    "import pandas as pd"
   ]
  },
  {
   "cell_type": "code",
   "execution_count": null,
   "metadata": {},
   "outputs": [],
   "source": [
    "folderTDM = r\"A:\\1 - TDM\\3 - Model Dev\\1 - WF\\2 - Sandbox\\v9.0Beta\\WF TDM v9.0 - 2023-03-16\"\n",
    "folderMCUtEqBlocks = [r\"2_ModelScripts\\4_ModeChoice\\block\\HBW_HBO_calculate_utilities.block\",\n",
    "                      r\"2_ModelScripts\\4_ModeChoice\\block\\NHB_HBC_calculate_utilities.block\"]"
   ]
  },
  {
   "cell_type": "code",
   "execution_count": 3,
   "metadata": {},
   "outputs": [
    {
     "ename": "SyntaxError",
     "evalue": "invalid syntax (<string>, line 1)",
     "output_type": "error",
     "traceback": [
      "\u001b[1;31mValueError\u001b[0m\u001b[1;31m:\u001b[0m Error from parse_expr with transformed code: \"Symbol ('asc_wLCL' )+Symbol ('asc_LCL' )+Symbol ('asc_walkacc' )+Symbol ('asc_transit' )+Symbol ('asc_motor' )+Symbol ('utCounty' )*Symbol ('ivt_coef_' )@Symbol ('purp' )@+Symbol ('ivt_coef_' )@Symbol ('purp' )@*Symbol ('mw' )[Integer (104 )][Symbol ('j' )]+Symbol ('initwait_coef_' )@Symbol ('purp' )@*Symbol ('mw' )[Integer (114 )][Symbol ('j' )]+Symbol ('walk_coef_1_' )@Symbol ('purp' )@*Symbol ('mw' )[Integer (154 )][Symbol ('j' )]+Symbol ('walk_coef_gt_1_' )@Symbol ('purp' )@*Symbol ('mw' )[Integer (184 )][Symbol ('j' )]+Symbol ('drive_coef_' )@Symbol ('purp' )@*Symbol ('mw' )[Integer (144 )][Symbol ('j' )]+Symbol ('xferwait_coef_' )@Symbol ('purp' )@*Symbol ('mw' )[Integer (164 )][Symbol ('j' )]+Symbol ('transfers_coef_walk_' )@Symbol ('purp' )@*Symbol ('mw' )[Integer (174 )][Symbol ('j' )]\"\n",
      "\nThe above exception was the direct cause of the following exception:\n",
      "Traceback \u001b[1;36m(most recent call last)\u001b[0m:\n",
      "  File \u001b[0;32m\"c:\\Users\\bhereth\\Anaconda3\\lib\\site-packages\\IPython\\core\\interactiveshell.py\"\u001b[0m, line \u001b[0;32m3457\u001b[0m, in \u001b[0;35mrun_code\u001b[0m\n    exec(code_obj, self.user_global_ns, self.user_ns)\n",
      "  File \u001b[0;32m\"C:\\Users\\bhereth\\AppData\\Local\\Temp\\ipykernel_24088\\2729146882.py\"\u001b[0m, line \u001b[0;32m5\u001b[0m, in \u001b[0;35m<module>\u001b[0m\n    equation = parse_expr(equation_str)\n",
      "  File \u001b[0;32m\"c:\\Users\\bhereth\\Anaconda3\\lib\\site-packages\\sympy\\parsing\\sympy_parser.py\"\u001b[0m, line \u001b[0;32m1105\u001b[0m, in \u001b[0;35mparse_expr\u001b[0m\n    raise e from ValueError(f\"Error from parse_expr with transformed code: {code!r}\")\n",
      "  File \u001b[0;32m\"c:\\Users\\bhereth\\Anaconda3\\lib\\site-packages\\sympy\\parsing\\sympy_parser.py\"\u001b[0m, line \u001b[0;32m1096\u001b[0m, in \u001b[0;35mparse_expr\u001b[0m\n    rv = eval_expr(code, local_dict, global_dict)\n",
      "\u001b[1;36m  File \u001b[1;32m\"c:\\Users\\bhereth\\Anaconda3\\lib\\site-packages\\sympy\\parsing\\sympy_parser.py\"\u001b[1;36m, line \u001b[1;32m915\u001b[1;36m, in \u001b[1;35meval_expr\u001b[1;36m\u001b[0m\n\u001b[1;33m    expr = eval(\u001b[0m\n",
      "\u001b[1;36m  File \u001b[1;32m\"<string>\"\u001b[1;36m, line \u001b[1;32m1\u001b[0m\n\u001b[1;33m    Symbol ('asc_wLCL' )+Symbol ('asc_LCL' )+Symbol ('asc_walkacc' )+Symbol ('asc_transit' )+Symbol ('asc_motor' )+Symbol ('utCounty' )*Symbol ('ivt_coef_' )@Symbol ('purp' )@+Symbol ('ivt_coef_' )@Symbol ('purp' )@*Symbol ('mw' )[Integer (104 )][Symbol ('j' )]+Symbol ('initwait_coef_' )@Symbol ('purp' )@*Symbol ('mw' )[Integer (114 )][Symbol ('j' )]+Symbol ('walk_coef_1_' )@Symbol ('purp' )@*Symbol ('mw' )[Integer (154 )][Symbol ('j' )]+Symbol ('walk_coef_gt_1_' )@Symbol ('purp' )@*Symbol ('mw' )[Integer (184 )][Symbol ('j' )]+Symbol ('drive_coef_' )@Symbol ('purp' )@*Symbol ('mw' )[Integer (144 )][Symbol ('j' )]+Symbol ('xferwait_coef_' )@Symbol ('purp' )@*Symbol ('mw' )[Integer (164 )][Symbol ('j' )]+Symbol ('transfers_coef_walk_' )@Symbol ('purp' )@*Symbol ('mw' )[Integer (174 )][Symbol ('j' )]\u001b[0m\n\u001b[1;37m                                                                                                                                                                                                                       ^\u001b[0m\n\u001b[1;31mSyntaxError\u001b[0m\u001b[1;31m:\u001b[0m invalid syntax\n"
     ]
    }
   ],
   "source": [
    "from sympy.parsing.sympy_parser import parse_expr\n",
    "\n",
    "equation_str = input(\"Enter an equation: \")\n",
    "\n",
    "equation = parse_expr(equation_str)\n",
    "\n",
    "print(\"Parsed equation: \", equation)"
   ]
  }
 ],
 "metadata": {
  "kernelspec": {
   "display_name": "base",
   "language": "python",
   "name": "python3"
  },
  "language_info": {
   "codemirror_mode": {
    "name": "ipython",
    "version": 3
   },
   "file_extension": ".py",
   "mimetype": "text/x-python",
   "name": "python",
   "nbconvert_exporter": "python",
   "pygments_lexer": "ipython3",
   "version": "3.9.13"
  },
  "orig_nbformat": 4
 },
 "nbformat": 4,
 "nbformat_minor": 2
}
