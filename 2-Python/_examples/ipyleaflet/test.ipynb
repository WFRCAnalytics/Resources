{
 "cells": [
  {
   "cell_type": "code",
   "execution_count": 3,
   "metadata": {},
   "outputs": [
    {
     "data": {
      "application/vnd.jupyter.widget-view+json": {
       "model_id": "23b4445b126f4a92990f00922e859a42",
       "version_major": 2,
       "version_minor": 0
      },
      "text/plain": [
       "Map(center=[52.204793, 360.121558], controls=(ZoomControl(options=['position', 'zoom_in_text', 'zoom_in_title'…"
      ]
     },
     "metadata": {},
     "output_type": "display_data"
    }
   ],
   "source": [
    "\n",
    "from ipyleaflet import Map, Marker, basemaps, basemap_to_tiles, GeoJSON, WidgetControl\n",
    "from ipywidgets import Dropdown\n",
    "from bqplot import Lines, Figure, LinearScale, DateScale, Axis\n",
    "\n",
    "m = Map(\n",
    "  basemap=basemap_to_tiles(\n",
    "    basemaps.NASAGIBS.ModisTerraTrueColorCR, \"2017-04-08\"\n",
    "  ),\n",
    "  center=(52.204793, 360.121558),\n",
    "  zoom=4\n",
    ")\n",
    "\n",
    "m.add_layer(Marker(location=(52.204793, 360.121558)))\n",
    "\n",
    "\n",
    "figure = Figure(\n",
    "    title='first title',\n",
    "    layout={\"max_height\": \"150px\", \"max_width\": \"400px\"}\n",
    ")\n",
    "\n",
    "widget_control1 = WidgetControl(widget=figure, position=\"bottomright\")\n",
    "\n",
    "def update_figure(lat):\n",
    "    figure.title = str(lat)\n",
    "    m.add_layer(Marker(location=(lat, 360.121558)))\n",
    "\n",
    "lat = 52.204793\n",
    "\n",
    "dropdown = Dropdown(\n",
    "    options=[42.204793, 52.204793, 62.204793],\n",
    "    value=lat,\n",
    "    description=\"Latitude:\",\n",
    ")\n",
    "\n",
    "def on_click(change):\n",
    "    global lat\n",
    "    lat = change[\"new\"]\n",
    "    update_figure(lat)\n",
    "\n",
    "dropdown.observe(on_click, \"value\")\n",
    "\n",
    "widget_control2 = WidgetControl(widget=dropdown, position=\"topright\")\n",
    "\n",
    "m.add(widget_control1)\n",
    "m.add(widget_control2)\n",
    "\n",
    "display(m)\n"
   ]
  }
 ],
 "metadata": {
  "kernelspec": {
   "display_name": "base",
   "language": "python",
   "name": "python3"
  },
  "language_info": {
   "codemirror_mode": {
    "name": "ipython",
    "version": 3
   },
   "file_extension": ".py",
   "mimetype": "text/x-python",
   "name": "python",
   "nbconvert_exporter": "python",
   "pygments_lexer": "ipython3",
   "version": "3.9.13"
  },
  "orig_nbformat": 4
 },
 "nbformat": 4,
 "nbformat_minor": 2
}
