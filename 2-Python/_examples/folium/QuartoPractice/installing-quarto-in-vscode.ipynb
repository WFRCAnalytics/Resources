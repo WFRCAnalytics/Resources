{
 "cells": [
  {
   "attachments": {},
   "cell_type": "markdown",
   "metadata": {},
   "source": [
    "# Quarto in VsCode\n",
    "Getting Quarto to work in VsCode shouldn't be too hard. I following the following steps and it worked for me:\n",
    "\n",
    "    1.\n",
    "     Download Anaconda (https://www.anaconda.com/products/distribution)\n",
    "\n",
    "        a. Check if it works. Open cmd and type \"conda --version\"\n",
    "        \n",
    "    2. Follow these steps to initiate anaconda as a PATH variable (https://stackoverflow.com/questions/44515769/conda-is-not-recognized-as-internal-or-external-command)\n",
    "\n",
    "    3. Download Quarto (https://quarto.org/docs/download/)\n",
    "       \n",
    "        a. Check if it works. Open cmd and type \"quarto --version\"\n",
    "\n",
    "    4. Download the Quarto Extension in VsCode\n",
    "\n",
    "    5. Follow these steps to start a simple quarto document (https://quarto.org/docs/get-started/hello/vscode.html)\n",
    "\n",
    "    6. Under \"Learning More\" there are instructions on how to create websites, books, presentations, etc. for further use! (https://quarto.org/docs/get-started/authoring/vscode.html)\n",
    "\n",
    "\n",
    "    "
   ]
  }
 ],
 "metadata": {
  "language_info": {
   "name": "python"
  },
  "orig_nbformat": 4
 },
 "nbformat": 4,
 "nbformat_minor": 2
}
