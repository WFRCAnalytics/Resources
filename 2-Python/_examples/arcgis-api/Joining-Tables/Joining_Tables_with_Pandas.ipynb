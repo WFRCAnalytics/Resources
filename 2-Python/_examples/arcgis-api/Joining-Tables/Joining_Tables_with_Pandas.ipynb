{
 "cells": [
  {
   "cell_type": "code",
   "execution_count": 30,
   "metadata": {},
   "outputs": [],
   "source": [
    "import os\n",
    "from arcgis import GIS\n",
    "from arcgis.features import GeoAccessor\n",
    "import pandas as pd\n",
    "import arcpy\n",
    "\n",
    "# show all columns\n",
    "pd.options.display.max_columns = None\n",
    "\n",
    "# pd.DataFrame.spatial.from_featureclass(???)\n",
    "# df.spatial.to_featureclass(location=???,sanitize_columns=False)"
   ]
  },
  {
   "cell_type": "markdown",
   "metadata": {},
   "source": [
    "## Store paths to inputs data"
   ]
  },
  {
   "cell_type": "code",
   "execution_count": 31,
   "metadata": {},
   "outputs": [],
   "source": [
    "parcels_buildings = \".\\\\Inputs\\\\Parcels_Subset.gdb\\\\parcels_buildings\"\n",
    "parcels_zoning = \".\\\\Inputs\\\\Parcels_Subset.gdb\\\\parcels_zoning\"\n",
    "parcel_taz_lu = \".\\\\Inputs\\\\parcel_id_taz_lu_table.csv\""
   ]
  },
  {
   "cell_type": "markdown",
   "metadata": {},
   "source": [
    "## Setup Outputs environment"
   ]
  },
  {
   "cell_type": "code",
   "execution_count": 32,
   "metadata": {},
   "outputs": [],
   "source": [
    "# create output folder, if it doesn't exist\n",
    "output_folder = '.\\\\Outputs'\n",
    "if not os.path.exists('Outputs'): \n",
    "    os.makedirs('Outputs') \n",
    "\n",
    "# create output geodatabase if it doesn't exist\n",
    "gdb = os.path.join(output_folder, \"results.gdb\")\n",
    "if not arcpy.Exists(gdb): \n",
    "    arcpy.CreateFileGDB_management(output_folder, 'results.gdb')"
   ]
  },
  {
   "cell_type": "markdown",
   "metadata": {},
   "source": [
    "## Load feature classes and csvs into Pandas Dataframes"
   ]
  },
  {
   "cell_type": "code",
   "execution_count": 33,
   "metadata": {},
   "outputs": [],
   "source": [
    "parcels_buildings_df = pd.DataFrame.spatial.from_featureclass(parcels_buildings)\n",
    "parcels_zoning_df = pd.DataFrame.spatial.from_featureclass(parcels_zoning)\n",
    "parcel_taz_lu_df = pd.read_csv(parcel_taz_lu)"
   ]
  },
  {
   "cell_type": "markdown",
   "metadata": {},
   "source": [
    "## Inspect dataframe"
   ]
  },
  {
   "cell_type": "code",
   "execution_count": 34,
   "metadata": {},
   "outputs": [
    {
     "data": {
      "text/html": [
       "<div>\n",
       "<style scoped>\n",
       "    .dataframe tbody tr th:only-of-type {\n",
       "        vertical-align: middle;\n",
       "    }\n",
       "\n",
       "    .dataframe tbody tr th {\n",
       "        vertical-align: top;\n",
       "    }\n",
       "\n",
       "    .dataframe thead th {\n",
       "        text-align: right;\n",
       "    }\n",
       "</style>\n",
       "<table border=\"1\" class=\"dataframe\">\n",
       "  <thead>\n",
       "    <tr style=\"text-align: right;\">\n",
       "      <th></th>\n",
       "      <th>OBJECTID</th>\n",
       "      <th>parcel_id_REMM</th>\n",
       "      <th>TOTAL_MKT_VALUE</th>\n",
       "      <th>land_value</th>\n",
       "      <th>residential_units</th>\n",
       "      <th>building_sqft</th>\n",
       "      <th>FLOORS_CNT</th>\n",
       "      <th>year_built</th>\n",
       "      <th>building_type_id</th>\n",
       "      <th>parcel_acres</th>\n",
       "      <th>building_type</th>\n",
       "      <th>SHAPE</th>\n",
       "    </tr>\n",
       "  </thead>\n",
       "  <tbody>\n",
       "    <tr>\n",
       "      <th>0</th>\n",
       "      <td>1</td>\n",
       "      <td>27303</td>\n",
       "      <td>224100.0</td>\n",
       "      <td>167900.0</td>\n",
       "      <td>0.0</td>\n",
       "      <td>2210</td>\n",
       "      <td>1.0</td>\n",
       "      <td>1977.0</td>\n",
       "      <td>10.0</td>\n",
       "      <td>0.170335</td>\n",
       "      <td>Church</td>\n",
       "      <td>{\"rings\": [[[425482.0663999999, 4511535.4605],...</td>\n",
       "    </tr>\n",
       "    <tr>\n",
       "      <th>1</th>\n",
       "      <td>2</td>\n",
       "      <td>27304</td>\n",
       "      <td>35000.0</td>\n",
       "      <td>35000.0</td>\n",
       "      <td>0.0</td>\n",
       "      <td>0</td>\n",
       "      <td>0.0</td>\n",
       "      <td>0.0</td>\n",
       "      <td>10.0</td>\n",
       "      <td>0.231649</td>\n",
       "      <td>Church</td>\n",
       "      <td>{\"rings\": [[[425812.89329999965, 4511714.13130...</td>\n",
       "    </tr>\n",
       "    <tr>\n",
       "      <th>2</th>\n",
       "      <td>3</td>\n",
       "      <td>27305</td>\n",
       "      <td>1224900.0</td>\n",
       "      <td>339000.0</td>\n",
       "      <td>0.0</td>\n",
       "      <td>11780</td>\n",
       "      <td>0.0</td>\n",
       "      <td>1983.0</td>\n",
       "      <td>10.0</td>\n",
       "      <td>2.225053</td>\n",
       "      <td>Church</td>\n",
       "      <td>{\"rings\": [[[425827.5959999999, 4511814.5721],...</td>\n",
       "    </tr>\n",
       "    <tr>\n",
       "      <th>3</th>\n",
       "      <td>4</td>\n",
       "      <td>27306</td>\n",
       "      <td>1689300.0</td>\n",
       "      <td>80600.0</td>\n",
       "      <td>0.0</td>\n",
       "      <td>280</td>\n",
       "      <td>0.0</td>\n",
       "      <td>1987.0</td>\n",
       "      <td>10.0</td>\n",
       "      <td>0.531271</td>\n",
       "      <td>Church</td>\n",
       "      <td>{\"rings\": [[[425968.0197999999, 4511774.556399...</td>\n",
       "    </tr>\n",
       "    <tr>\n",
       "      <th>4</th>\n",
       "      <td>5</td>\n",
       "      <td>27307</td>\n",
       "      <td>13700.0</td>\n",
       "      <td>13700.0</td>\n",
       "      <td>0.0</td>\n",
       "      <td>0</td>\n",
       "      <td>0.0</td>\n",
       "      <td>0.0</td>\n",
       "      <td>10.0</td>\n",
       "      <td>0.093493</td>\n",
       "      <td>Church</td>\n",
       "      <td>{\"rings\": [[[425968.0197999999, 4511774.556399...</td>\n",
       "    </tr>\n",
       "  </tbody>\n",
       "</table>\n",
       "</div>"
      ],
      "text/plain": [
       "   OBJECTID  parcel_id_REMM  TOTAL_MKT_VALUE  land_value  residential_units  \\\n",
       "0         1           27303         224100.0    167900.0                0.0   \n",
       "1         2           27304          35000.0     35000.0                0.0   \n",
       "2         3           27305        1224900.0    339000.0                0.0   \n",
       "3         4           27306        1689300.0     80600.0                0.0   \n",
       "4         5           27307          13700.0     13700.0                0.0   \n",
       "\n",
       "   building_sqft  FLOORS_CNT  year_built  building_type_id  parcel_acres  \\\n",
       "0           2210         1.0      1977.0              10.0      0.170335   \n",
       "1              0         0.0         0.0              10.0      0.231649   \n",
       "2          11780         0.0      1983.0              10.0      2.225053   \n",
       "3            280         0.0      1987.0              10.0      0.531271   \n",
       "4              0         0.0         0.0              10.0      0.093493   \n",
       "\n",
       "  building_type                                              SHAPE  \n",
       "0        Church  {\"rings\": [[[425482.0663999999, 4511535.4605],...  \n",
       "1        Church  {\"rings\": [[[425812.89329999965, 4511714.13130...  \n",
       "2        Church  {\"rings\": [[[425827.5959999999, 4511814.5721],...  \n",
       "3        Church  {\"rings\": [[[425968.0197999999, 4511774.556399...  \n",
       "4        Church  {\"rings\": [[[425968.0197999999, 4511774.556399...  "
      ]
     },
     "execution_count": 34,
     "metadata": {},
     "output_type": "execute_result"
    }
   ],
   "source": [
    "# preview dataframe\n",
    "parcels_buildings_df.head(5)"
   ]
  },
  {
   "cell_type": "code",
   "execution_count": 35,
   "metadata": {},
   "outputs": [
    {
     "data": {
      "text/plain": [
       "Index(['OBJECTID', 'parcel_id_REMM', 'TOTAL_MKT_VALUE', 'land_value',\n",
       "       'residential_units', 'building_sqft', 'FLOORS_CNT', 'year_built',\n",
       "       'building_type_id', 'parcel_acres', 'building_type', 'SHAPE'],\n",
       "      dtype='object')"
      ]
     },
     "execution_count": 35,
     "metadata": {},
     "output_type": "execute_result"
    }
   ],
   "source": [
    "# list out the columns\n",
    "parcels_buildings_df.columns"
   ]
  },
  {
   "cell_type": "code",
   "execution_count": 36,
   "metadata": {},
   "outputs": [
    {
     "data": {
      "text/plain": [
       "(3664, 12)"
      ]
     },
     "execution_count": 36,
     "metadata": {},
     "output_type": "execute_result"
    }
   ],
   "source": [
    "# check number of records (# of rows, # of Columns)\n",
    "parcels_buildings_df.shape"
   ]
  },
  {
   "cell_type": "code",
   "execution_count": 37,
   "metadata": {},
   "outputs": [],
   "source": [
    "# remove unneeded columns\n",
    "del parcels_buildings_df['OBJECTID']\n",
    "del parcels_zoning_df['OBJECTID']\n",
    "\n",
    "# the other parcels table already has 'SHAPE', so we'll remove it to avoid confusion\n",
    "del parcels_zoning_df['SHAPE']"
   ]
  },
  {
   "cell_type": "markdown",
   "metadata": {},
   "source": [
    "## Join tables\n",
    "\n",
    "dataframe.merge joins to tables together, the arguments are:  \n",
    "- dataframe to join with\n",
    "- left_on: column to join on from base dataframe\n",
    "- right_on: column to join on from join dataframe\n",
    "- how: type of join e.g. (left, right, inner, outer)\n",
    "\n",
    "[Documentation](https://pandas.pydata.org/docs/reference/api/pandas.DataFrame.merge.html)  "
   ]
  },
  {
   "cell_type": "code",
   "execution_count": 38,
   "metadata": {},
   "outputs": [],
   "source": [
    "# join the parcels with building data, with the other parcels with zoning data, using \"parcel_id_REMM\" column\n",
    "new_parcels = parcels_buildings_df.merge(parcels_zoning_df, left_on='parcel_id_REMM', right_on='parcel_id_REMM', how='left')"
   ]
  },
  {
   "cell_type": "markdown",
   "metadata": {},
   "source": [
    "## Inspect the joined result"
   ]
  },
  {
   "cell_type": "code",
   "execution_count": 39,
   "metadata": {},
   "outputs": [
    {
     "data": {
      "text/plain": [
       "(3664, 23)"
      ]
     },
     "execution_count": 39,
     "metadata": {},
     "output_type": "execute_result"
    }
   ],
   "source": [
    "# check number of records to make sure nothing weird happened\n",
    "new_parcels.shape"
   ]
  },
  {
   "cell_type": "code",
   "execution_count": 40,
   "metadata": {},
   "outputs": [
    {
     "data": {
      "text/html": [
       "<div>\n",
       "<style scoped>\n",
       "    .dataframe tbody tr th:only-of-type {\n",
       "        vertical-align: middle;\n",
       "    }\n",
       "\n",
       "    .dataframe tbody tr th {\n",
       "        vertical-align: top;\n",
       "    }\n",
       "\n",
       "    .dataframe thead th {\n",
       "        text-align: right;\n",
       "    }\n",
       "</style>\n",
       "<table border=\"1\" class=\"dataframe\">\n",
       "  <thead>\n",
       "    <tr style=\"text-align: right;\">\n",
       "      <th></th>\n",
       "      <th>parcel_id_REMM</th>\n",
       "      <th>TOTAL_MKT_VALUE</th>\n",
       "      <th>land_value</th>\n",
       "      <th>residential_units</th>\n",
       "      <th>building_sqft</th>\n",
       "      <th>FLOORS_CNT</th>\n",
       "      <th>year_built</th>\n",
       "      <th>building_type_id</th>\n",
       "      <th>parcel_acres</th>\n",
       "      <th>building_type</th>\n",
       "      <th>SHAPE</th>\n",
       "      <th>CO_NAME</th>\n",
       "      <th>max_dua</th>\n",
       "      <th>max_far</th>\n",
       "      <th>type1</th>\n",
       "      <th>type2</th>\n",
       "      <th>type3</th>\n",
       "      <th>type4</th>\n",
       "      <th>type5</th>\n",
       "      <th>type6</th>\n",
       "      <th>type7</th>\n",
       "      <th>type8</th>\n",
       "      <th>NoBuild</th>\n",
       "    </tr>\n",
       "  </thead>\n",
       "  <tbody>\n",
       "    <tr>\n",
       "      <th>3661</th>\n",
       "      <td>461342</td>\n",
       "      <td>9067500.0</td>\n",
       "      <td>1491400.0</td>\n",
       "      <td>98.0</td>\n",
       "      <td>82330</td>\n",
       "      <td>NaN</td>\n",
       "      <td>1979.0</td>\n",
       "      <td>2.0</td>\n",
       "      <td>1.249838</td>\n",
       "      <td>Multi Family Res</td>\n",
       "      <td>{'rings': [[[425386.5906999996, 4512009.9351],...</td>\n",
       "      <td>Salt Lake</td>\n",
       "      <td>85.0</td>\n",
       "      <td>0.5</td>\n",
       "      <td>f</td>\n",
       "      <td>t</td>\n",
       "      <td>f</td>\n",
       "      <td>f</td>\n",
       "      <td>f</td>\n",
       "      <td>f</td>\n",
       "      <td>f</td>\n",
       "      <td>f</td>\n",
       "      <td>NaN</td>\n",
       "    </tr>\n",
       "    <tr>\n",
       "      <th>3662</th>\n",
       "      <td>461546</td>\n",
       "      <td>1955600.0</td>\n",
       "      <td>627500.0</td>\n",
       "      <td>30.0</td>\n",
       "      <td>20450</td>\n",
       "      <td>NaN</td>\n",
       "      <td>1989.0</td>\n",
       "      <td>2.0</td>\n",
       "      <td>0.688894</td>\n",
       "      <td>Multi Family Res</td>\n",
       "      <td>{'rings': [[[426008.59970000014, 4511812.87099...</td>\n",
       "      <td>Salt Lake</td>\n",
       "      <td>30.0</td>\n",
       "      <td>0.5</td>\n",
       "      <td>t</td>\n",
       "      <td>t</td>\n",
       "      <td>f</td>\n",
       "      <td>f</td>\n",
       "      <td>f</td>\n",
       "      <td>f</td>\n",
       "      <td>f</td>\n",
       "      <td>f</td>\n",
       "      <td>NaN</td>\n",
       "    </tr>\n",
       "    <tr>\n",
       "      <th>3663</th>\n",
       "      <td>461550</td>\n",
       "      <td>5087800.0</td>\n",
       "      <td>1291000.0</td>\n",
       "      <td>70.0</td>\n",
       "      <td>122280</td>\n",
       "      <td>NaN</td>\n",
       "      <td>1983.0</td>\n",
       "      <td>2.0</td>\n",
       "      <td>1.316267</td>\n",
       "      <td>Multi Family Res</td>\n",
       "      <td>{'rings': [[[425879.86110000033, 4511447.27580...</td>\n",
       "      <td>Salt Lake</td>\n",
       "      <td>0.0</td>\n",
       "      <td>0.5</td>\n",
       "      <td>f</td>\n",
       "      <td>f</td>\n",
       "      <td>f</td>\n",
       "      <td>f</td>\n",
       "      <td>f</td>\n",
       "      <td>f</td>\n",
       "      <td>f</td>\n",
       "      <td>f</td>\n",
       "      <td>NaN</td>\n",
       "    </tr>\n",
       "  </tbody>\n",
       "</table>\n",
       "</div>"
      ],
      "text/plain": [
       "      parcel_id_REMM  TOTAL_MKT_VALUE  land_value  residential_units  \\\n",
       "3661          461342        9067500.0   1491400.0               98.0   \n",
       "3662          461546        1955600.0    627500.0               30.0   \n",
       "3663          461550        5087800.0   1291000.0               70.0   \n",
       "\n",
       "      building_sqft  FLOORS_CNT  year_built  building_type_id  parcel_acres  \\\n",
       "3661          82330         NaN      1979.0               2.0      1.249838   \n",
       "3662          20450         NaN      1989.0               2.0      0.688894   \n",
       "3663         122280         NaN      1983.0               2.0      1.316267   \n",
       "\n",
       "         building_type                                              SHAPE  \\\n",
       "3661  Multi Family Res  {'rings': [[[425386.5906999996, 4512009.9351],...   \n",
       "3662  Multi Family Res  {'rings': [[[426008.59970000014, 4511812.87099...   \n",
       "3663  Multi Family Res  {'rings': [[[425879.86110000033, 4511447.27580...   \n",
       "\n",
       "        CO_NAME  max_dua  max_far type1 type2 type3 type4 type5 type6 type7  \\\n",
       "3661  Salt Lake     85.0      0.5     f     t     f     f     f     f     f   \n",
       "3662  Salt Lake     30.0      0.5     t     t     f     f     f     f     f   \n",
       "3663  Salt Lake      0.0      0.5     f     f     f     f     f     f     f   \n",
       "\n",
       "     type8  NoBuild  \n",
       "3661     f      NaN  \n",
       "3662     f      NaN  \n",
       "3663     f      NaN  "
      ]
     },
     "execution_count": 40,
     "metadata": {},
     "output_type": "execute_result"
    }
   ],
   "source": [
    "# preview the joined table\n",
    "new_parcels.tail(3)"
   ]
  },
  {
   "cell_type": "markdown",
   "metadata": {},
   "source": [
    "## Join the current dataframe to our dataframe with the taz ids"
   ]
  },
  {
   "cell_type": "code",
   "execution_count": 41,
   "metadata": {},
   "outputs": [],
   "source": [
    "new_parcels2 = new_parcels.merge(parcel_taz_lu_df, left_on='parcel_id_REMM', right_on='parcel_id_REMM', how='left')"
   ]
  },
  {
   "cell_type": "code",
   "execution_count": 42,
   "metadata": {},
   "outputs": [
    {
     "data": {
      "text/plain": [
       "Index(['parcel_id_REMM', 'TOTAL_MKT_VALUE', 'land_value', 'residential_units',\n",
       "       'building_sqft', 'FLOORS_CNT', 'year_built', 'building_type_id',\n",
       "       'parcel_acres', 'building_type', 'SHAPE', 'CO_NAME', 'max_dua',\n",
       "       'max_far', 'type1', 'type2', 'type3', 'type4', 'type5', 'type6',\n",
       "       'type7', 'type8', 'NoBuild', 'TAZID_832', 'TAZID_900', 'Tract_GEOID'],\n",
       "      dtype='object')"
      ]
     },
     "execution_count": 42,
     "metadata": {},
     "output_type": "execute_result"
    }
   ],
   "source": [
    "# check columns\n",
    "new_parcels2.columns"
   ]
  },
  {
   "cell_type": "code",
   "execution_count": null,
   "metadata": {},
   "outputs": [],
   "source": []
  },
  {
   "cell_type": "markdown",
   "metadata": {},
   "source": [
    "## export as a feature class to geodatabase"
   ]
  },
  {
   "cell_type": "code",
   "execution_count": 43,
   "metadata": {},
   "outputs": [],
   "source": [
    "#name output file\n",
    "outfile = os.path.join(gdb, 'parcels_with_new_data')\n",
    "new_parcels2.spatial.to_featureclass(location=outfile, sanitize_columns=False)"
   ]
  },
  {
   "cell_type": "code",
   "execution_count": 44,
   "metadata": {},
   "outputs": [],
   "source": [
    "#name output file\n",
    "outfile = '.\\\\Outputs\\\\parcels_with_new_data.shp'\n",
    "new_parcels2.spatial.to_featureclass(location=outfile, sanitize_columns=True)"
   ]
  },
  {
   "cell_type": "markdown",
   "metadata": {},
   "source": [
    "## export to csv (non spatial)"
   ]
  },
  {
   "cell_type": "code",
   "execution_count": 45,
   "metadata": {},
   "outputs": [],
   "source": [
    "# delete SHAPE column first because its not needed\n",
    "del new_parcels2['SHAPE']\n",
    "new_parcels2.to_csv('.\\\\Outputs\\\\new_parcels.csv', index=False)"
   ]
  },
  {
   "cell_type": "markdown",
   "metadata": {},
   "source": [
    "## Final tips:\n",
    "- Be careful joining tables with the same column names, pandas will rename them on the fly\n",
    "- in order to export a datframe to feature class or shapefile, it must have \"SHAPE\" column\n",
    "- check number of rows after to make sure nothing weird happened"
   ]
  }
 ],
 "metadata": {
  "interpreter": {
   "hash": "d657bb250ec970b20532561b3a87d14bbf82ce653c71023131e868b5848d28d1"
  },
  "kernelspec": {
   "display_name": "Clone",
   "language": "python",
   "name": "clone"
  },
  "language_info": {
   "codemirror_mode": {
    "name": "ipython",
    "version": 3
   },
   "file_extension": ".py",
   "mimetype": "text/x-python",
   "name": "python",
   "nbconvert_exporter": "python",
   "pygments_lexer": "ipython3",
   "version": "3.7.11"
  },
  "varInspector": {
   "cols": {
    "lenName": 16,
    "lenType": 16,
    "lenVar": 40
   },
   "kernels_config": {
    "python": {
     "delete_cmd_postfix": "",
     "delete_cmd_prefix": "del ",
     "library": "var_list.py",
     "varRefreshCmd": "print(var_dic_list())"
    },
    "r": {
     "delete_cmd_postfix": ") ",
     "delete_cmd_prefix": "rm(",
     "library": "var_list.r",
     "varRefreshCmd": "cat(var_dic_list()) "
    }
   },
   "types_to_exclude": [
    "module",
    "function",
    "builtin_function_or_method",
    "instance",
    "_Feature"
   ],
   "window_display": false
  }
 },
 "nbformat": 4,
 "nbformat_minor": 4
}
