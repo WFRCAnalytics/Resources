{
 "cells": [
  {
   "cell_type": "markdown",
   "metadata": {},
   "source": [
    "# Spread Operator\n",
    "https://gadgetmates.com/python-spread-operator-a-complete-guide"
   ]
  },
  {
   "cell_type": "code",
   "execution_count": 2,
   "metadata": {},
   "outputs": [
    {
     "name": "stdout",
     "output_type": "stream",
     "text": [
      "[1, 2, 3, 4, 5, 6]\n"
     ]
    }
   ],
   "source": [
    "list_one = [1, 2, 3]\n",
    "list_two = [4, 5, 6]\n",
    "combined_list = [*list_one, *list_two]\n",
    "print(combined_list)  # Outputs: [1, 2, 3, 4, 5, 6]"
   ]
  },
  {
   "cell_type": "code",
   "execution_count": null,
   "metadata": {},
   "outputs": [],
   "source": []
  },
  {
   "cell_type": "markdown",
   "metadata": {},
   "source": [
    "## vizTool Example"
   ]
  },
  {
   "cell_type": "code",
   "execution_count": null,
   "metadata": {},
   "outputs": [],
   "source": [
    "import pandas as pd\n",
    "\n",
    "# JSON data\n",
    "dividers = [\n",
    "    {\n",
    "        \"jsonFileName\": \"zones-se\",\n",
    "        \"baseGeoJsonKey\": \"taz\",\n",
    "        \"baseGeoJsonId\": \"TAZID\",\n",
    "        \"aCode\": \"aTotHh\",\n",
    "        \"aDisplayName\": \"Total Households\",\n",
    "        \"filter\": \"\"\n",
    "    },\n",
    "    {\n",
    "        \"jsonFileName\": \"zones-se\",\n",
    "        \"baseGeoJsonKey\": \"taz\",\n",
    "        \"baseGeoJsonId\": \"TAZID\",\n",
    "        \"aCode\": \"aWrk\",\n",
    "        \"aDisplayName\": \"Total Workers\",\n",
    "        \"filter\": \"\"\n",
    "    },\n",
    "    {\n",
    "        \"jsonFileName\": \"zones-se\",\n",
    "        \"baseGeoJsonKey\": \"taz\",\n",
    "        \"baseGeoJsonId\": \"TAZID\",\n",
    "        \"aCode\": \"aTotEmp\",\n",
    "        \"aDisplayName\": \"Total Jobs\",\n",
    "        \"filter\": \"\"\n",
    "    },\n",
    "    {\n",
    "        \"jsonFileName\": \"zones-se\",\n",
    "        \"baseGeoJsonKey\": \"taz\",\n",
    "        \"baseGeoJsonId\": \"TAZID\",\n",
    "        \"aCode\": \"aHhPop\",\n",
    "        \"aDisplayName\": \"Total Population\",\n",
    "        \"filter\": \"\"\n",
    "    }\n",
    "]\n",
    "\n",
    "# Convert JSON to DataFrame\n",
    "df = pd.DataFrame(json_data)"
   ]
  },
  {
   "cell_type": "code",
   "execution_count": null,
   "metadata": {},
   "outputs": [],
   "source": [
    "const hardcodedItem = { value: \"\", label: \"Nothing\" };\n",
    "const newArray = [hardcodedItem, ...dividers.map(item => ({ value: item.aCode, label: item.aDisplayName }))];\n"
   ]
  }
 ],
 "metadata": {
  "kernelspec": {
   "display_name": "base",
   "language": "python",
   "name": "python3"
  },
  "language_info": {
   "codemirror_mode": {
    "name": "ipython",
    "version": 3
   },
   "file_extension": ".py",
   "mimetype": "text/x-python",
   "name": "python",
   "nbconvert_exporter": "python",
   "pygments_lexer": "ipython3",
   "version": "3.9.13"
  }
 },
 "nbformat": 4,
 "nbformat_minor": 2
}
