{
 "cells": [
  {
   "cell_type": "code",
   "execution_count": 17,
   "metadata": {},
   "outputs": [],
   "source": [
    "import pandas as pd\n",
    "\n",
    "#google cloud big query libaries\n",
    "from google.cloud import bigquery\n",
    "from google.oauth2 import service_account\n",
    "\n",
    "dataset_name = \"20240322\""
   ]
  },
  {
   "cell_type": "markdown",
   "metadata": {},
   "source": [
    "# Access Data in BigQuery"
   ]
  },
  {
   "cell_type": "markdown",
   "metadata": {},
   "source": [
    "**Steps to Create a BigQuery API Key**:\n",
    "- Go to Google Cloud Console\n",
    "- Select Project in top drop down\n",
    "- Select IAM & Admin in sidebar\n",
    "- Select Service Accounts in sidebar\n",
    "- Click Create Service Account button (example name bhereth-wfrcbq) \n",
    "- Create account and give permissions\n",
    "- Select Keys option\n",
    "- Clcik Add Key button - Create New Key\n",
    "- Select JSON\n",
    "- Should receive confirmation that key was created\n",
    "- Look in 'Downloads' folder for key\n",
    "- Move file to secure spot on local drive\n"
   ]
  },
  {
   "cell_type": "code",
   "execution_count": null,
   "metadata": {},
   "outputs": [
    {
     "name": "stdout",
     "output_type": "stream",
     "text": [
      "Successfully Linked to BigQuery Client!\n"
     ]
    }
   ],
   "source": [
    "# Link to BigQuery Client through API\n",
    "\n",
    "key_path = r\"C:\\Users\\bhereth\\confidential-2023-utah-hts-db5335615978.json\"\n",
    "#key_path = r\"C:\\Users\\bhereth\\tdm-scenarios-a85044dbbfd3.json\"\n",
    "\n",
    "credentials = service_account.Credentials.from_service_account_file(\n",
    "    key_path, scopes=[\"https://www.googleapis.com/auth/cloud-platform\"],\n",
    ")\n",
    "\n",
    "client = bigquery.Client(credentials=credentials, project=credentials.project_id,)\n",
    "print ('Successfully Linked to BigQuery Client!')"
   ]
  },
  {
   "cell_type": "code",
   "execution_count": 7,
   "metadata": {},
   "outputs": [
    {
     "data": {
      "text/plain": [
       "'confidential-2023-utah-hts'"
      ]
     },
     "execution_count": 7,
     "metadata": {},
     "output_type": "execute_result"
    }
   ],
   "source": [
    "credentials.project_id"
   ]
  },
  {
   "cell_type": "code",
   "execution_count": 12,
   "metadata": {},
   "outputs": [
    {
     "data": {
      "text/plain": [
       "'confidential-2023-utah-hts'"
      ]
     },
     "execution_count": 12,
     "metadata": {},
     "output_type": "execute_result"
    }
   ],
   "source": [
    "credentials.project_id"
   ]
  },
  {
   "cell_type": "code",
   "execution_count": 26,
   "metadata": {},
   "outputs": [
    {
     "data": {
      "application/vnd.microsoft.datawrangler.viewer.v0+json": {
       "columns": [
        {
         "name": "index",
         "rawType": "int64",
         "type": "integer"
        },
        {
         "name": "dataset_name",
         "rawType": "object",
         "type": "string"
        },
        {
         "name": "table_name",
         "rawType": "object",
         "type": "string"
        },
        {
         "name": "column_name",
         "rawType": "object",
         "type": "string"
        },
        {
         "name": "data_type",
         "rawType": "object",
         "type": "string"
        }
       ],
       "conversionMethod": "pd.DataFrame",
       "ref": "58c9f025-f863-4d0f-876d-f94ab30786c4",
       "rows": [
        [
         "0",
         "20240322",
         "core_hh",
         "home_lat",
         "FLOAT64"
        ],
        [
         "1",
         "20240322",
         "core_hh",
         "home_lon",
         "FLOAT64"
        ],
        [
         "2",
         "20240322",
         "core_hh",
         "home_x",
         "FLOAT64"
        ],
        [
         "3",
         "20240322",
         "core_hh",
         "home_y",
         "FLOAT64"
        ],
        [
         "4",
         "20240322",
         "core_hh",
         "sample_home_lat",
         "FLOAT64"
        ],
        [
         "5",
         "20240322",
         "core_hh",
         "sample_home_lon",
         "FLOAT64"
        ],
        [
         "6",
         "20240322",
         "core_hh",
         "seasonal_res_lat",
         "FLOAT64"
        ],
        [
         "7",
         "20240322",
         "core_hh",
         "seasonal_res_lon",
         "FLOAT64"
        ],
        [
         "8",
         "20240322",
         "core_hh",
         "seasonal_res_x",
         "FLOAT64"
        ],
        [
         "9",
         "20240322",
         "core_hh",
         "seasonal_res_y",
         "FLOAT64"
        ],
        [
         "10",
         "20240322",
         "core_person",
         "school_lat",
         "FLOAT64"
        ],
        [
         "11",
         "20240322",
         "core_person",
         "school_lon",
         "FLOAT64"
        ],
        [
         "12",
         "20240322",
         "core_person",
         "school_x",
         "FLOAT64"
        ],
        [
         "13",
         "20240322",
         "core_person",
         "school_y",
         "FLOAT64"
        ],
        [
         "14",
         "20240322",
         "core_person",
         "second_home_lat",
         "FLOAT64"
        ],
        [
         "15",
         "20240322",
         "core_person",
         "second_home_lon",
         "FLOAT64"
        ],
        [
         "16",
         "20240322",
         "core_person",
         "second_home_x",
         "FLOAT64"
        ],
        [
         "17",
         "20240322",
         "core_person",
         "second_home_y",
         "FLOAT64"
        ],
        [
         "18",
         "20240322",
         "core_person",
         "work_lat",
         "FLOAT64"
        ],
        [
         "19",
         "20240322",
         "core_person",
         "work_lon",
         "FLOAT64"
        ],
        [
         "20",
         "20240322",
         "core_person",
         "work_x",
         "FLOAT64"
        ],
        [
         "21",
         "20240322",
         "core_person",
         "work_y",
         "FLOAT64"
        ],
        [
         "22",
         "20240322",
         "core_trip",
         "d_lat",
         "FLOAT64"
        ],
        [
         "23",
         "20240322",
         "core_trip",
         "d_lon",
         "FLOAT64"
        ],
        [
         "24",
         "20240322",
         "core_trip",
         "d_x",
         "FLOAT64"
        ],
        [
         "25",
         "20240322",
         "core_trip",
         "d_y",
         "FLOAT64"
        ],
        [
         "26",
         "20240322",
         "core_trip",
         "o_lat",
         "FLOAT64"
        ],
        [
         "27",
         "20240322",
         "core_trip",
         "o_lon",
         "FLOAT64"
        ],
        [
         "28",
         "20240322",
         "core_trip",
         "o_x",
         "FLOAT64"
        ],
        [
         "29",
         "20240322",
         "core_trip",
         "o_y",
         "FLOAT64"
        ],
        [
         "30",
         "20240322",
         "followon_hh",
         "home_lat",
         "FLOAT64"
        ],
        [
         "31",
         "20240322",
         "followon_hh",
         "home_lon",
         "FLOAT64"
        ],
        [
         "32",
         "20240322",
         "followon_hh",
         "home_x",
         "FLOAT64"
        ],
        [
         "33",
         "20240322",
         "followon_hh",
         "home_y",
         "FLOAT64"
        ],
        [
         "34",
         "20240322",
         "followon_trip",
         "ld_dest_lat",
         "FLOAT64"
        ],
        [
         "35",
         "20240322",
         "followon_trip",
         "ld_dest_lon",
         "FLOAT64"
        ],
        [
         "36",
         "20240322",
         "followon_trip",
         "ld_dest_x",
         "FLOAT64"
        ],
        [
         "37",
         "20240322",
         "followon_trip",
         "ld_dest_y",
         "FLOAT64"
        ]
       ],
       "shape": {
        "columns": 4,
        "rows": 38
       }
      },
      "text/html": [
       "<div>\n",
       "<style scoped>\n",
       "    .dataframe tbody tr th:only-of-type {\n",
       "        vertical-align: middle;\n",
       "    }\n",
       "\n",
       "    .dataframe tbody tr th {\n",
       "        vertical-align: top;\n",
       "    }\n",
       "\n",
       "    .dataframe thead th {\n",
       "        text-align: right;\n",
       "    }\n",
       "</style>\n",
       "<table border=\"1\" class=\"dataframe\">\n",
       "  <thead>\n",
       "    <tr style=\"text-align: right;\">\n",
       "      <th></th>\n",
       "      <th>dataset_name</th>\n",
       "      <th>table_name</th>\n",
       "      <th>column_name</th>\n",
       "      <th>data_type</th>\n",
       "    </tr>\n",
       "  </thead>\n",
       "  <tbody>\n",
       "    <tr>\n",
       "      <th>0</th>\n",
       "      <td>20240322</td>\n",
       "      <td>core_hh</td>\n",
       "      <td>home_lat</td>\n",
       "      <td>FLOAT64</td>\n",
       "    </tr>\n",
       "    <tr>\n",
       "      <th>1</th>\n",
       "      <td>20240322</td>\n",
       "      <td>core_hh</td>\n",
       "      <td>home_lon</td>\n",
       "      <td>FLOAT64</td>\n",
       "    </tr>\n",
       "    <tr>\n",
       "      <th>2</th>\n",
       "      <td>20240322</td>\n",
       "      <td>core_hh</td>\n",
       "      <td>home_x</td>\n",
       "      <td>FLOAT64</td>\n",
       "    </tr>\n",
       "    <tr>\n",
       "      <th>3</th>\n",
       "      <td>20240322</td>\n",
       "      <td>core_hh</td>\n",
       "      <td>home_y</td>\n",
       "      <td>FLOAT64</td>\n",
       "    </tr>\n",
       "    <tr>\n",
       "      <th>4</th>\n",
       "      <td>20240322</td>\n",
       "      <td>core_hh</td>\n",
       "      <td>sample_home_lat</td>\n",
       "      <td>FLOAT64</td>\n",
       "    </tr>\n",
       "    <tr>\n",
       "      <th>5</th>\n",
       "      <td>20240322</td>\n",
       "      <td>core_hh</td>\n",
       "      <td>sample_home_lon</td>\n",
       "      <td>FLOAT64</td>\n",
       "    </tr>\n",
       "    <tr>\n",
       "      <th>6</th>\n",
       "      <td>20240322</td>\n",
       "      <td>core_hh</td>\n",
       "      <td>seasonal_res_lat</td>\n",
       "      <td>FLOAT64</td>\n",
       "    </tr>\n",
       "    <tr>\n",
       "      <th>7</th>\n",
       "      <td>20240322</td>\n",
       "      <td>core_hh</td>\n",
       "      <td>seasonal_res_lon</td>\n",
       "      <td>FLOAT64</td>\n",
       "    </tr>\n",
       "    <tr>\n",
       "      <th>8</th>\n",
       "      <td>20240322</td>\n",
       "      <td>core_hh</td>\n",
       "      <td>seasonal_res_x</td>\n",
       "      <td>FLOAT64</td>\n",
       "    </tr>\n",
       "    <tr>\n",
       "      <th>9</th>\n",
       "      <td>20240322</td>\n",
       "      <td>core_hh</td>\n",
       "      <td>seasonal_res_y</td>\n",
       "      <td>FLOAT64</td>\n",
       "    </tr>\n",
       "    <tr>\n",
       "      <th>10</th>\n",
       "      <td>20240322</td>\n",
       "      <td>core_person</td>\n",
       "      <td>school_lat</td>\n",
       "      <td>FLOAT64</td>\n",
       "    </tr>\n",
       "    <tr>\n",
       "      <th>11</th>\n",
       "      <td>20240322</td>\n",
       "      <td>core_person</td>\n",
       "      <td>school_lon</td>\n",
       "      <td>FLOAT64</td>\n",
       "    </tr>\n",
       "    <tr>\n",
       "      <th>12</th>\n",
       "      <td>20240322</td>\n",
       "      <td>core_person</td>\n",
       "      <td>school_x</td>\n",
       "      <td>FLOAT64</td>\n",
       "    </tr>\n",
       "    <tr>\n",
       "      <th>13</th>\n",
       "      <td>20240322</td>\n",
       "      <td>core_person</td>\n",
       "      <td>school_y</td>\n",
       "      <td>FLOAT64</td>\n",
       "    </tr>\n",
       "    <tr>\n",
       "      <th>14</th>\n",
       "      <td>20240322</td>\n",
       "      <td>core_person</td>\n",
       "      <td>second_home_lat</td>\n",
       "      <td>FLOAT64</td>\n",
       "    </tr>\n",
       "    <tr>\n",
       "      <th>15</th>\n",
       "      <td>20240322</td>\n",
       "      <td>core_person</td>\n",
       "      <td>second_home_lon</td>\n",
       "      <td>FLOAT64</td>\n",
       "    </tr>\n",
       "    <tr>\n",
       "      <th>16</th>\n",
       "      <td>20240322</td>\n",
       "      <td>core_person</td>\n",
       "      <td>second_home_x</td>\n",
       "      <td>FLOAT64</td>\n",
       "    </tr>\n",
       "    <tr>\n",
       "      <th>17</th>\n",
       "      <td>20240322</td>\n",
       "      <td>core_person</td>\n",
       "      <td>second_home_y</td>\n",
       "      <td>FLOAT64</td>\n",
       "    </tr>\n",
       "    <tr>\n",
       "      <th>18</th>\n",
       "      <td>20240322</td>\n",
       "      <td>core_person</td>\n",
       "      <td>work_lat</td>\n",
       "      <td>FLOAT64</td>\n",
       "    </tr>\n",
       "    <tr>\n",
       "      <th>19</th>\n",
       "      <td>20240322</td>\n",
       "      <td>core_person</td>\n",
       "      <td>work_lon</td>\n",
       "      <td>FLOAT64</td>\n",
       "    </tr>\n",
       "    <tr>\n",
       "      <th>20</th>\n",
       "      <td>20240322</td>\n",
       "      <td>core_person</td>\n",
       "      <td>work_x</td>\n",
       "      <td>FLOAT64</td>\n",
       "    </tr>\n",
       "    <tr>\n",
       "      <th>21</th>\n",
       "      <td>20240322</td>\n",
       "      <td>core_person</td>\n",
       "      <td>work_y</td>\n",
       "      <td>FLOAT64</td>\n",
       "    </tr>\n",
       "    <tr>\n",
       "      <th>22</th>\n",
       "      <td>20240322</td>\n",
       "      <td>core_trip</td>\n",
       "      <td>d_lat</td>\n",
       "      <td>FLOAT64</td>\n",
       "    </tr>\n",
       "    <tr>\n",
       "      <th>23</th>\n",
       "      <td>20240322</td>\n",
       "      <td>core_trip</td>\n",
       "      <td>d_lon</td>\n",
       "      <td>FLOAT64</td>\n",
       "    </tr>\n",
       "    <tr>\n",
       "      <th>24</th>\n",
       "      <td>20240322</td>\n",
       "      <td>core_trip</td>\n",
       "      <td>d_x</td>\n",
       "      <td>FLOAT64</td>\n",
       "    </tr>\n",
       "    <tr>\n",
       "      <th>25</th>\n",
       "      <td>20240322</td>\n",
       "      <td>core_trip</td>\n",
       "      <td>d_y</td>\n",
       "      <td>FLOAT64</td>\n",
       "    </tr>\n",
       "    <tr>\n",
       "      <th>26</th>\n",
       "      <td>20240322</td>\n",
       "      <td>core_trip</td>\n",
       "      <td>o_lat</td>\n",
       "      <td>FLOAT64</td>\n",
       "    </tr>\n",
       "    <tr>\n",
       "      <th>27</th>\n",
       "      <td>20240322</td>\n",
       "      <td>core_trip</td>\n",
       "      <td>o_lon</td>\n",
       "      <td>FLOAT64</td>\n",
       "    </tr>\n",
       "    <tr>\n",
       "      <th>28</th>\n",
       "      <td>20240322</td>\n",
       "      <td>core_trip</td>\n",
       "      <td>o_x</td>\n",
       "      <td>FLOAT64</td>\n",
       "    </tr>\n",
       "    <tr>\n",
       "      <th>29</th>\n",
       "      <td>20240322</td>\n",
       "      <td>core_trip</td>\n",
       "      <td>o_y</td>\n",
       "      <td>FLOAT64</td>\n",
       "    </tr>\n",
       "    <tr>\n",
       "      <th>30</th>\n",
       "      <td>20240322</td>\n",
       "      <td>followon_hh</td>\n",
       "      <td>home_lat</td>\n",
       "      <td>FLOAT64</td>\n",
       "    </tr>\n",
       "    <tr>\n",
       "      <th>31</th>\n",
       "      <td>20240322</td>\n",
       "      <td>followon_hh</td>\n",
       "      <td>home_lon</td>\n",
       "      <td>FLOAT64</td>\n",
       "    </tr>\n",
       "    <tr>\n",
       "      <th>32</th>\n",
       "      <td>20240322</td>\n",
       "      <td>followon_hh</td>\n",
       "      <td>home_x</td>\n",
       "      <td>FLOAT64</td>\n",
       "    </tr>\n",
       "    <tr>\n",
       "      <th>33</th>\n",
       "      <td>20240322</td>\n",
       "      <td>followon_hh</td>\n",
       "      <td>home_y</td>\n",
       "      <td>FLOAT64</td>\n",
       "    </tr>\n",
       "    <tr>\n",
       "      <th>34</th>\n",
       "      <td>20240322</td>\n",
       "      <td>followon_trip</td>\n",
       "      <td>ld_dest_lat</td>\n",
       "      <td>FLOAT64</td>\n",
       "    </tr>\n",
       "    <tr>\n",
       "      <th>35</th>\n",
       "      <td>20240322</td>\n",
       "      <td>followon_trip</td>\n",
       "      <td>ld_dest_lon</td>\n",
       "      <td>FLOAT64</td>\n",
       "    </tr>\n",
       "    <tr>\n",
       "      <th>36</th>\n",
       "      <td>20240322</td>\n",
       "      <td>followon_trip</td>\n",
       "      <td>ld_dest_x</td>\n",
       "      <td>FLOAT64</td>\n",
       "    </tr>\n",
       "    <tr>\n",
       "      <th>37</th>\n",
       "      <td>20240322</td>\n",
       "      <td>followon_trip</td>\n",
       "      <td>ld_dest_y</td>\n",
       "      <td>FLOAT64</td>\n",
       "    </tr>\n",
       "  </tbody>\n",
       "</table>\n",
       "</div>"
      ],
      "text/plain": [
       "   dataset_name     table_name       column_name data_type\n",
       "0      20240322        core_hh          home_lat   FLOAT64\n",
       "1      20240322        core_hh          home_lon   FLOAT64\n",
       "2      20240322        core_hh            home_x   FLOAT64\n",
       "3      20240322        core_hh            home_y   FLOAT64\n",
       "4      20240322        core_hh   sample_home_lat   FLOAT64\n",
       "5      20240322        core_hh   sample_home_lon   FLOAT64\n",
       "6      20240322        core_hh  seasonal_res_lat   FLOAT64\n",
       "7      20240322        core_hh  seasonal_res_lon   FLOAT64\n",
       "8      20240322        core_hh    seasonal_res_x   FLOAT64\n",
       "9      20240322        core_hh    seasonal_res_y   FLOAT64\n",
       "10     20240322    core_person        school_lat   FLOAT64\n",
       "11     20240322    core_person        school_lon   FLOAT64\n",
       "12     20240322    core_person          school_x   FLOAT64\n",
       "13     20240322    core_person          school_y   FLOAT64\n",
       "14     20240322    core_person   second_home_lat   FLOAT64\n",
       "15     20240322    core_person   second_home_lon   FLOAT64\n",
       "16     20240322    core_person     second_home_x   FLOAT64\n",
       "17     20240322    core_person     second_home_y   FLOAT64\n",
       "18     20240322    core_person          work_lat   FLOAT64\n",
       "19     20240322    core_person          work_lon   FLOAT64\n",
       "20     20240322    core_person            work_x   FLOAT64\n",
       "21     20240322    core_person            work_y   FLOAT64\n",
       "22     20240322      core_trip             d_lat   FLOAT64\n",
       "23     20240322      core_trip             d_lon   FLOAT64\n",
       "24     20240322      core_trip               d_x   FLOAT64\n",
       "25     20240322      core_trip               d_y   FLOAT64\n",
       "26     20240322      core_trip             o_lat   FLOAT64\n",
       "27     20240322      core_trip             o_lon   FLOAT64\n",
       "28     20240322      core_trip               o_x   FLOAT64\n",
       "29     20240322      core_trip               o_y   FLOAT64\n",
       "30     20240322    followon_hh          home_lat   FLOAT64\n",
       "31     20240322    followon_hh          home_lon   FLOAT64\n",
       "32     20240322    followon_hh            home_x   FLOAT64\n",
       "33     20240322    followon_hh            home_y   FLOAT64\n",
       "34     20240322  followon_trip       ld_dest_lat   FLOAT64\n",
       "35     20240322  followon_trip       ld_dest_lon   FLOAT64\n",
       "36     20240322  followon_trip         ld_dest_x   FLOAT64\n",
       "37     20240322  followon_trip         ld_dest_y   FLOAT64"
      ]
     },
     "execution_count": 26,
     "metadata": {},
     "output_type": "execute_result"
    }
   ],
   "source": [
    "# Get all datasets in the project\n",
    "#datasets_query = f\"SELECT schema_name FROM `{client.project}.INFORMATION_SCHEMA.SCHEMATA`\"\n",
    "#datasets = [row.schema_name for row in client.query(datasets_query).result()]\n",
    "\n",
    "# Placeholder for results\n",
    "results = []\n",
    "\n",
    "# Loop through each dataset and get the matching columns from each table\n",
    "for dataset in [dataset_name]: #datasets:\n",
    "    query = f\"\"\"\n",
    "        SELECT \n",
    "            table_schema AS dataset_name,\n",
    "            table_name,\n",
    "            column_name,\n",
    "            data_type\n",
    "        FROM `{client.project}.{dataset}.INFORMATION_SCHEMA.COLUMNS`\n",
    "        WHERE RIGHT(column_name, 2) IN ('_x', '_y')\n",
    "        OR RIGHT(column_name, 4) IN ('_lat', '_lon')\n",
    "        ORDER BY dataset_name, table_name, column_name;\n",
    "    \"\"\"\n",
    "    \n",
    "    query_job = client.query(query)\n",
    "    results.extend(query_job.result())\n",
    "\n",
    "# Convert to DataFrame\n",
    "df = pd.DataFrame([dict(row) for row in results])\n",
    "\n",
    "df"
   ]
  },
  {
   "cell_type": "code",
   "execution_count": 27,
   "metadata": {},
   "outputs": [
    {
     "data": {
      "application/vnd.microsoft.datawrangler.viewer.v0+json": {
       "columns": [
        {
         "name": "index",
         "rawType": "int64",
         "type": "integer"
        },
        {
         "name": "dataset_name",
         "rawType": "object",
         "type": "string"
        },
        {
         "name": "table_name",
         "rawType": "object",
         "type": "string"
        },
        {
         "name": "column_name",
         "rawType": "object",
         "type": "string"
        },
        {
         "name": "data_type",
         "rawType": "object",
         "type": "string"
        }
       ],
       "conversionMethod": "pd.DataFrame",
       "ref": "e262bd60-0ed4-451d-aa42-b836b01048aa",
       "rows": [
        [
         "0",
         "20240322",
         "core_hh",
         "home_bg_2020",
         "INT64"
        ],
        [
         "1",
         "20240322",
         "core_hh",
         "seasonal_res_bg_2020",
         "FLOAT64"
        ],
        [
         "2",
         "20240322",
         "core_person",
         "school_bg_2020",
         "FLOAT64"
        ],
        [
         "3",
         "20240322",
         "core_person",
         "second_home_bg_2020",
         "FLOAT64"
        ],
        [
         "4",
         "20240322",
         "core_person",
         "work_bg_2020",
         "FLOAT64"
        ],
        [
         "5",
         "20240322",
         "core_trip",
         "d_bg_2020",
         "FLOAT64"
        ],
        [
         "6",
         "20240322",
         "core_trip",
         "o_bg_2020",
         "FLOAT64"
        ],
        [
         "7",
         "20240322",
         "followon_hh",
         "home_bg_2020",
         "INT64"
        ]
       ],
       "shape": {
        "columns": 4,
        "rows": 8
       }
      },
      "text/html": [
       "<div>\n",
       "<style scoped>\n",
       "    .dataframe tbody tr th:only-of-type {\n",
       "        vertical-align: middle;\n",
       "    }\n",
       "\n",
       "    .dataframe tbody tr th {\n",
       "        vertical-align: top;\n",
       "    }\n",
       "\n",
       "    .dataframe thead th {\n",
       "        text-align: right;\n",
       "    }\n",
       "</style>\n",
       "<table border=\"1\" class=\"dataframe\">\n",
       "  <thead>\n",
       "    <tr style=\"text-align: right;\">\n",
       "      <th></th>\n",
       "      <th>dataset_name</th>\n",
       "      <th>table_name</th>\n",
       "      <th>column_name</th>\n",
       "      <th>data_type</th>\n",
       "    </tr>\n",
       "  </thead>\n",
       "  <tbody>\n",
       "    <tr>\n",
       "      <th>0</th>\n",
       "      <td>20240322</td>\n",
       "      <td>core_hh</td>\n",
       "      <td>home_bg_2020</td>\n",
       "      <td>INT64</td>\n",
       "    </tr>\n",
       "    <tr>\n",
       "      <th>1</th>\n",
       "      <td>20240322</td>\n",
       "      <td>core_hh</td>\n",
       "      <td>seasonal_res_bg_2020</td>\n",
       "      <td>FLOAT64</td>\n",
       "    </tr>\n",
       "    <tr>\n",
       "      <th>2</th>\n",
       "      <td>20240322</td>\n",
       "      <td>core_person</td>\n",
       "      <td>school_bg_2020</td>\n",
       "      <td>FLOAT64</td>\n",
       "    </tr>\n",
       "    <tr>\n",
       "      <th>3</th>\n",
       "      <td>20240322</td>\n",
       "      <td>core_person</td>\n",
       "      <td>second_home_bg_2020</td>\n",
       "      <td>FLOAT64</td>\n",
       "    </tr>\n",
       "    <tr>\n",
       "      <th>4</th>\n",
       "      <td>20240322</td>\n",
       "      <td>core_person</td>\n",
       "      <td>work_bg_2020</td>\n",
       "      <td>FLOAT64</td>\n",
       "    </tr>\n",
       "    <tr>\n",
       "      <th>5</th>\n",
       "      <td>20240322</td>\n",
       "      <td>core_trip</td>\n",
       "      <td>d_bg_2020</td>\n",
       "      <td>FLOAT64</td>\n",
       "    </tr>\n",
       "    <tr>\n",
       "      <th>6</th>\n",
       "      <td>20240322</td>\n",
       "      <td>core_trip</td>\n",
       "      <td>o_bg_2020</td>\n",
       "      <td>FLOAT64</td>\n",
       "    </tr>\n",
       "    <tr>\n",
       "      <th>7</th>\n",
       "      <td>20240322</td>\n",
       "      <td>followon_hh</td>\n",
       "      <td>home_bg_2020</td>\n",
       "      <td>INT64</td>\n",
       "    </tr>\n",
       "  </tbody>\n",
       "</table>\n",
       "</div>"
      ],
      "text/plain": [
       "  dataset_name   table_name           column_name data_type\n",
       "0     20240322      core_hh          home_bg_2020     INT64\n",
       "1     20240322      core_hh  seasonal_res_bg_2020   FLOAT64\n",
       "2     20240322  core_person        school_bg_2020   FLOAT64\n",
       "3     20240322  core_person   second_home_bg_2020   FLOAT64\n",
       "4     20240322  core_person          work_bg_2020   FLOAT64\n",
       "5     20240322    core_trip             d_bg_2020   FLOAT64\n",
       "6     20240322    core_trip             o_bg_2020   FLOAT64\n",
       "7     20240322  followon_hh          home_bg_2020     INT64"
      ]
     },
     "execution_count": 27,
     "metadata": {},
     "output_type": "execute_result"
    }
   ],
   "source": [
    "# Get all datasets in the project\n",
    "#datasets_query = f\"SELECT schema_name FROM `{client.project}.INFORMATION_SCHEMA.SCHEMATA`\"\n",
    "#datasets = [row.schema_name for row in client.query(datasets_query).result()]\n",
    "\n",
    "# Placeholder for results\n",
    "results = []\n",
    "\n",
    "# Loop through each dataset and get the matching columns from each table\n",
    "for dataset in [dataset_name]: #datasets:\n",
    "    query = f\"\"\"\n",
    "        SELECT \n",
    "            table_schema AS dataset_name,\n",
    "            table_name,\n",
    "            column_name,\n",
    "            data_type\n",
    "        FROM `{client.project}.{dataset}.INFORMATION_SCHEMA.COLUMNS`\n",
    "        WHERE RIGHT(column_name, 8) IN ('_bg_2020')\n",
    "        ORDER BY dataset_name, table_name, column_name;\n",
    "    \"\"\"\n",
    "    \n",
    "    query_job = client.query(query)\n",
    "    results.extend(query_job.result())\n",
    "\n",
    "# Convert to DataFrame\n",
    "df = pd.DataFrame([dict(row) for row in results])\n",
    "\n",
    "df"
   ]
  }
 ],
 "metadata": {
  "kernelspec": {
   "display_name": "march2024",
   "language": "python",
   "name": "python3"
  },
  "language_info": {
   "codemirror_mode": {
    "name": "ipython",
    "version": 3
   },
   "file_extension": ".py",
   "mimetype": "text/x-python",
   "name": "python",
   "nbconvert_exporter": "python",
   "pygments_lexer": "ipython3",
   "version": "3.9.19"
  }
 },
 "nbformat": 4,
 "nbformat_minor": 2
}
