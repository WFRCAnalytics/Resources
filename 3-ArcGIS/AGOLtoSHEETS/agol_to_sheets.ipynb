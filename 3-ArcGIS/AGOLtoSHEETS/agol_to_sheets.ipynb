{
 "cells": [
  {
   "cell_type": "code",
   "execution_count": 1,
   "metadata": {},
   "outputs": [],
   "source": [
    "import arcpy\n",
    "import pandas as pd\n",
    "from arcgis.features import GeoAccessor, GeoSeriesAccessor\n",
    "\n",
    "strFilterTime = \"2022-08-24T00:00:00.000+00:00\""
   ]
  },
  {
   "cell_type": "code",
   "execution_count": 2,
   "metadata": {},
   "outputs": [],
   "source": [
    "from arcgis import GIS\n",
    "gis = GIS()\n",
    "item = gis.content.get(\"89d4e14f9c24462eaf9d04e12e3276e3\")\n",
    "flayer = item.tables[0]\n"
   ]
  },
  {
   "cell_type": "code",
   "execution_count": 3,
   "metadata": {},
   "outputs": [
    {
     "data": {
      "text/html": [
       "<div>\n",
       "<style scoped>\n",
       "    .dataframe tbody tr th:only-of-type {\n",
       "        vertical-align: middle;\n",
       "    }\n",
       "\n",
       "    .dataframe tbody tr th {\n",
       "        vertical-align: top;\n",
       "    }\n",
       "\n",
       "    .dataframe thead th {\n",
       "        text-align: right;\n",
       "    }\n",
       "</style>\n",
       "<table border=\"1\" class=\"dataframe\">\n",
       "  <thead>\n",
       "    <tr style=\"text-align: right;\">\n",
       "      <th></th>\n",
       "      <th>OBJECTID</th>\n",
       "      <th>GeoType</th>\n",
       "      <th>GeoID</th>\n",
       "      <th>CommentText</th>\n",
       "      <th>Email</th>\n",
       "      <th>TimeStampText</th>\n",
       "    </tr>\n",
       "  </thead>\n",
       "  <tbody>\n",
       "    <tr>\n",
       "      <th>0</th>\n",
       "      <td>1</td>\n",
       "      <td>TAZ</td>\n",
       "      <td></td>\n",
       "      <td>test</td>\n",
       "      <td>williamrh@gmail.com</td>\n",
       "      <td>None</td>\n",
       "    </tr>\n",
       "    <tr>\n",
       "      <th>1</th>\n",
       "      <td>2</td>\n",
       "      <td>TAZ</td>\n",
       "      <td></td>\n",
       "      <td>test2</td>\n",
       "      <td>williamrh@gmail.com</td>\n",
       "      <td>None</td>\n",
       "    </tr>\n",
       "    <tr>\n",
       "      <th>2</th>\n",
       "      <td>3</td>\n",
       "      <td>TAZ</td>\n",
       "      <td>None</td>\n",
       "      <td>Test343</td>\n",
       "      <td>williamrh@gmail.com</td>\n",
       "      <td>None</td>\n",
       "    </tr>\n",
       "    <tr>\n",
       "      <th>3</th>\n",
       "      <td>4</td>\n",
       "      <td>CITYAREA</td>\n",
       "      <td>None</td>\n",
       "      <td>Test</td>\n",
       "      <td>williamrh@gmail.com</td>\n",
       "      <td>2022-06-16T21:57:20.884Z</td>\n",
       "    </tr>\n",
       "    <tr>\n",
       "      <th>4</th>\n",
       "      <td>5</td>\n",
       "      <td>CITYAREA</td>\n",
       "      <td>None</td>\n",
       "      <td>and another</td>\n",
       "      <td>williamrh@gmail.com</td>\n",
       "      <td>2022-06-16T22:01:14.749Z</td>\n",
       "    </tr>\n",
       "    <tr>\n",
       "      <th>...</th>\n",
       "      <td>...</td>\n",
       "      <td>...</td>\n",
       "      <td>...</td>\n",
       "      <td>...</td>\n",
       "      <td>...</td>\n",
       "      <td>...</td>\n",
       "    </tr>\n",
       "    <tr>\n",
       "      <th>287</th>\n",
       "      <td>309</td>\n",
       "      <td>TAZ</td>\n",
       "      <td>2047</td>\n",
       "      <td>Development agreement includes 211 Single Fami...</td>\n",
       "      <td>bterry@herriman.org</td>\n",
       "      <td>2022-08-24T22:16:06.833Z</td>\n",
       "    </tr>\n",
       "    <tr>\n",
       "      <th>288</th>\n",
       "      <td>310</td>\n",
       "      <td>TAZ</td>\n",
       "      <td>2022</td>\n",
       "      <td>Approximately 1700 housing units planned in th...</td>\n",
       "      <td>bterry@herriman.org</td>\n",
       "      <td>2022-08-24T22:29:22.051Z</td>\n",
       "    </tr>\n",
       "    <tr>\n",
       "      <th>289</th>\n",
       "      <td>311</td>\n",
       "      <td>TAZ</td>\n",
       "      <td>2034</td>\n",
       "      <td>250 Single Family Units approved in this TAZ</td>\n",
       "      <td>bterry@herriman.org</td>\n",
       "      <td>2022-08-24T22:38:04.360Z</td>\n",
       "    </tr>\n",
       "    <tr>\n",
       "      <th>290</th>\n",
       "      <td>312</td>\n",
       "      <td>TAZ</td>\n",
       "      <td>2036</td>\n",
       "      <td>Total of 540 Units planned to be built be 2030...</td>\n",
       "      <td>bterry@herriman.org</td>\n",
       "      <td>2022-08-24T22:42:02.035Z</td>\n",
       "    </tr>\n",
       "    <tr>\n",
       "      <th>291</th>\n",
       "      <td>313</td>\n",
       "      <td>TAZ</td>\n",
       "      <td>2033</td>\n",
       "      <td>There should be some jobs here City Hall exist...</td>\n",
       "      <td>bterry@herriman.org</td>\n",
       "      <td>2022-08-24T22:44:22.794Z</td>\n",
       "    </tr>\n",
       "  </tbody>\n",
       "</table>\n",
       "<p>292 rows × 6 columns</p>\n",
       "</div>"
      ],
      "text/plain": [
       "     OBJECTID   GeoType GeoID  \\\n",
       "0           1       TAZ         \n",
       "1           2       TAZ         \n",
       "2           3       TAZ  None   \n",
       "3           4  CITYAREA  None   \n",
       "4           5  CITYAREA  None   \n",
       "..        ...       ...   ...   \n",
       "287       309       TAZ  2047   \n",
       "288       310       TAZ  2022   \n",
       "289       311       TAZ  2034   \n",
       "290       312       TAZ  2036   \n",
       "291       313       TAZ  2033   \n",
       "\n",
       "                                           CommentText                Email  \\\n",
       "0                                                 test  williamrh@gmail.com   \n",
       "1                                                test2  williamrh@gmail.com   \n",
       "2                                              Test343  williamrh@gmail.com   \n",
       "3                                                 Test  williamrh@gmail.com   \n",
       "4                                          and another  williamrh@gmail.com   \n",
       "..                                                 ...                  ...   \n",
       "287  Development agreement includes 211 Single Fami...  bterry@herriman.org   \n",
       "288  Approximately 1700 housing units planned in th...  bterry@herriman.org   \n",
       "289       250 Single Family Units approved in this TAZ  bterry@herriman.org   \n",
       "290  Total of 540 Units planned to be built be 2030...  bterry@herriman.org   \n",
       "291  There should be some jobs here City Hall exist...  bterry@herriman.org   \n",
       "\n",
       "                TimeStampText  \n",
       "0                        None  \n",
       "1                        None  \n",
       "2                        None  \n",
       "3    2022-06-16T21:57:20.884Z  \n",
       "4    2022-06-16T22:01:14.749Z  \n",
       "..                        ...  \n",
       "287  2022-08-24T22:16:06.833Z  \n",
       "288  2022-08-24T22:29:22.051Z  \n",
       "289  2022-08-24T22:38:04.360Z  \n",
       "290  2022-08-24T22:42:02.035Z  \n",
       "291  2022-08-24T22:44:22.794Z  \n",
       "\n",
       "[292 rows x 6 columns]"
      ]
     },
     "execution_count": 3,
     "metadata": {},
     "output_type": "execute_result"
    }
   ],
   "source": [
    "# create a Spatially Enabled DataFrame object\n",
    "sdf = pd.DataFrame.spatial.from_layer(flayer)\n",
    "sdf\n"
   ]
  },
  {
   "cell_type": "code",
   "execution_count": 4,
   "metadata": {},
   "outputs": [],
   "source": [
    "import gspread\n",
    "from oauth2client.service_account import ServiceAccountCredentials"
   ]
  },
  {
   "cell_type": "code",
   "execution_count": 5,
   "metadata": {},
   "outputs": [],
   "source": [
    "scope = ['https://spreadsheets.google.com/feeds']\n",
    "credentials = ServiceAccountCredentials.from_json_keyfile_name('streetlight-temp-analysis-1374f860ac96.json', scope)\n",
    "gc = gspread.authorize(credentials)"
   ]
  },
  {
   "cell_type": "code",
   "execution_count": 6,
   "metadata": {},
   "outputs": [],
   "source": [
    "spreadsheet_key = '1Sd1L0wTbd079zsMQGN2n0tyyugmsyffM2v97MhzcRUg'\n",
    "book = gc.open_by_key(spreadsheet_key)\n",
    "#worksheet = book.worksheet(\"Sheet1\")\n",
    "#table = worksheet.get_all_values()\n",
    "#display(table)"
   ]
  },
  {
   "cell_type": "code",
   "execution_count": 7,
   "metadata": {},
   "outputs": [],
   "source": [
    "##Convert table data into a dataframe\n",
    "#df = pd.DataFrame(table[1:], columns=table[0])\n",
    "\n",
    "##Only keep columns we need\n",
    "#df = df[['Order', 'Candidate', 'Position', 'Start Date', 'End Date', 'Years of Experience', 'Points']]\n",
    "\n",
    "##Convert number strings to floats and ints\n",
    "#df = df.apply(pd.to_numeric, errors='ignore')\n",
    "\n",
    "##Convert date strings to datetime format\n",
    "#df['End Date'] = pd.to_datetime(df['End Date'],infer_datetime_format=True)\n",
    "#df['Start Date'] = pd.to_datetime(df['Start Date'],infer_datetime_format=True)\n",
    "\n",
    "#df"
   ]
  },
  {
   "cell_type": "code",
   "execution_count": 8,
   "metadata": {},
   "outputs": [],
   "source": [
    "#agoldatatoappend['GeoID'].str.contains(\"None\")"
   ]
  },
  {
   "cell_type": "code",
   "execution_count": 9,
   "metadata": {},
   "outputs": [
    {
     "data": {
      "text/html": [
       "<div>\n",
       "<style scoped>\n",
       "    .dataframe tbody tr th:only-of-type {\n",
       "        vertical-align: middle;\n",
       "    }\n",
       "\n",
       "    .dataframe tbody tr th {\n",
       "        vertical-align: top;\n",
       "    }\n",
       "\n",
       "    .dataframe thead th {\n",
       "        text-align: right;\n",
       "    }\n",
       "</style>\n",
       "<table border=\"1\" class=\"dataframe\">\n",
       "  <thead>\n",
       "    <tr style=\"text-align: right;\">\n",
       "      <th></th>\n",
       "      <th>GeoType</th>\n",
       "      <th>GeoID</th>\n",
       "      <th>CommentText</th>\n",
       "      <th>Email</th>\n",
       "      <th>TimeStampText</th>\n",
       "      <th>Accessed from AGOL</th>\n",
       "    </tr>\n",
       "  </thead>\n",
       "  <tbody>\n",
       "    <tr>\n",
       "      <th>287</th>\n",
       "      <td>TAZ</td>\n",
       "      <td>2047</td>\n",
       "      <td>Development agreement includes 211 Single Fami...</td>\n",
       "      <td>bterry@herriman.org</td>\n",
       "      <td>2022-08-24T22:16:06.833Z</td>\n",
       "      <td>2022-08-30 17:30:30.876048</td>\n",
       "    </tr>\n",
       "    <tr>\n",
       "      <th>288</th>\n",
       "      <td>TAZ</td>\n",
       "      <td>2022</td>\n",
       "      <td>Approximately 1700 housing units planned in th...</td>\n",
       "      <td>bterry@herriman.org</td>\n",
       "      <td>2022-08-24T22:29:22.051Z</td>\n",
       "      <td>2022-08-30 17:30:30.876048</td>\n",
       "    </tr>\n",
       "    <tr>\n",
       "      <th>289</th>\n",
       "      <td>TAZ</td>\n",
       "      <td>2034</td>\n",
       "      <td>250 Single Family Units approved in this TAZ</td>\n",
       "      <td>bterry@herriman.org</td>\n",
       "      <td>2022-08-24T22:38:04.360Z</td>\n",
       "      <td>2022-08-30 17:30:30.876048</td>\n",
       "    </tr>\n",
       "    <tr>\n",
       "      <th>290</th>\n",
       "      <td>TAZ</td>\n",
       "      <td>2036</td>\n",
       "      <td>Total of 540 Units planned to be built be 2030...</td>\n",
       "      <td>bterry@herriman.org</td>\n",
       "      <td>2022-08-24T22:42:02.035Z</td>\n",
       "      <td>2022-08-30 17:30:30.876048</td>\n",
       "    </tr>\n",
       "    <tr>\n",
       "      <th>291</th>\n",
       "      <td>TAZ</td>\n",
       "      <td>2033</td>\n",
       "      <td>There should be some jobs here City Hall exist...</td>\n",
       "      <td>bterry@herriman.org</td>\n",
       "      <td>2022-08-24T22:44:22.794Z</td>\n",
       "      <td>2022-08-30 17:30:30.876048</td>\n",
       "    </tr>\n",
       "  </tbody>\n",
       "</table>\n",
       "</div>"
      ],
      "text/plain": [
       "    GeoType GeoID                                        CommentText  \\\n",
       "287     TAZ  2047  Development agreement includes 211 Single Fami...   \n",
       "288     TAZ  2022  Approximately 1700 housing units planned in th...   \n",
       "289     TAZ  2034       250 Single Family Units approved in this TAZ   \n",
       "290     TAZ  2036  Total of 540 Units planned to be built be 2030...   \n",
       "291     TAZ  2033  There should be some jobs here City Hall exist...   \n",
       "\n",
       "                   Email             TimeStampText         Accessed from AGOL  \n",
       "287  bterry@herriman.org  2022-08-24T22:16:06.833Z 2022-08-30 17:30:30.876048  \n",
       "288  bterry@herriman.org  2022-08-24T22:29:22.051Z 2022-08-30 17:30:30.876048  \n",
       "289  bterry@herriman.org  2022-08-24T22:38:04.360Z 2022-08-30 17:30:30.876048  \n",
       "290  bterry@herriman.org  2022-08-24T22:42:02.035Z 2022-08-30 17:30:30.876048  \n",
       "291  bterry@herriman.org  2022-08-24T22:44:22.794Z 2022-08-30 17:30:30.876048  "
      ]
     },
     "execution_count": 9,
     "metadata": {},
     "output_type": "execute_result"
    }
   ],
   "source": [
    "agoldatatoappend = sdf[['GeoType','GeoID','CommentText','Email','TimeStampText']]\n",
    "agoldatatoappend['TimeStamp'] = pd.to_datetime(agoldatatoappend['TimeStampText'])\n",
    "#agoldatatoappend = agoldatatoappend[(agoldatatoappend['GeoID'].str.contains(\"None\")) | (agoldatatoappend['GeoID']!=\"\")]\n",
    "\n",
    "# limit to only after a certain date, in case google sheet was updated\n",
    "agoldatatoappend = agoldatatoappend[agoldatatoappend['TimeStamp']> strFilterTime]\n",
    "agoldatatoappend = agoldatatoappend.drop(columns='TimeStamp')\n",
    "agoldatatoappend['Accessed from AGOL'] = pd.to_datetime(\"now\")\n",
    "agoldatatoappend"
   ]
  },
  {
   "cell_type": "code",
   "execution_count": 10,
   "metadata": {},
   "outputs": [
    {
     "data": {
      "text/plain": [
       "'2022-08-30'"
      ]
     },
     "metadata": {},
     "output_type": "display_data"
    }
   ],
   "source": [
    "from datetime import datetime\n",
    "\n",
    "now = pd.Timestamp.now()\n",
    "\n",
    "wks_name = now.strftime(\"%Y-%m-%d\")\n",
    "display(wks_name)"
   ]
  },
  {
   "cell_type": "code",
   "execution_count": 11,
   "metadata": {},
   "outputs": [
    {
     "data": {
      "text/plain": [
       "<Worksheet '2022-08-30' id:43300438>"
      ]
     },
     "execution_count": 11,
     "metadata": {},
     "output_type": "execute_result"
    }
   ],
   "source": [
    "from df2gspread import df2gspread as d2g\n",
    "\n",
    "d2g.upload(agoldatatoappend, spreadsheet_key, wks_name, credentials=credentials, row_names=True)"
   ]
  },
  {
   "cell_type": "code",
   "execution_count": null,
   "metadata": {},
   "outputs": [],
   "source": []
  }
 ],
 "metadata": {
  "kernelspec": {
   "display_name": "Python 3.7.11 ('arcgispro-py3-billenv')",
   "language": "python",
   "name": "python3"
  },
  "language_info": {
   "codemirror_mode": {
    "name": "ipython",
    "version": 3
   },
   "file_extension": ".py",
   "mimetype": "text/x-python",
   "name": "python",
   "nbconvert_exporter": "python",
   "pygments_lexer": "ipython3",
   "version": "3.7.11"
  },
  "orig_nbformat": 4,
  "vscode": {
   "interpreter": {
    "hash": "39b59de2f731b39f091c9de8c143172f125d18ae1801be30e7c5edf78e24c54f"
   }
  }
 },
 "nbformat": 4,
 "nbformat_minor": 2
}
