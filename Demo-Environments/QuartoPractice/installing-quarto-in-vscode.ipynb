{
 "cells": [
  {
   "attachments": {},
   "cell_type": "markdown",
   "metadata": {},
   "source": [
    "# Quarto in VsCode\n",
    "Getting Quarto to work in VsCode shouldn't be too hard. I following the following steps and it worked for me:\n",
    "\n",
    "    1. Download Anaconda (https://www.anaconda.com/products/distribution)\n",
    "\n",
    "        a. Check if it works. Open cmd and type \"conda --version\"\n",
    "        \n",
    "    2. Follow these steps to initiate anaconda as a PATH variable (https://stackoverflow.com/questions/44515769/conda-is-not-recognized-as-internal-or-external-command)\n",
    "\n",
    "    3. Download Quarto (https://quarto.org/docs/download/)\n",
    "       \n",
    "        a. Check if it works. Open cmd and type \"quarto --version\"\n",
    "\n",
    "    4. Download the Quarto Extension in VsCode\n",
    "\n",
    "    5. Follow these steps to start a simple quarto document (https://quarto.org/docs/get-started/hello/vscode.html)\n",
    "\n",
    "    6. Under \"Learning More\" there are instructions on how to create websites, books, presentations, etc. for further use! (https://quarto.org/docs/get-started/authoring/vscode.html)\n",
    "\n",
    "# Debugging Quarto\n",
    "If you encounter this error, \n",
    "\n",
    "    - Starting python3 kernel...Python was not found; run without arguments to install from the Microsoft Store, or disable this shortcut from Settings > Manage App Execution Aliases. Unable to locate an installed version of Python 3. Install Python 3 from https://www.python.org/downloads/\n",
    "\n",
    "then follow the steps at this location (https://quarto.org/docs/computations/python.html). Specifically, you need to set the QUARTO_PYTHON variable to a python.exe file somewhere on your system. To find a python.exe on your system, type \"where python\" into the command prompt and select one of those locations.\n",
    "\n",
    "\n",
    "    "
   ]
  }
 ],
 "metadata": {
  "language_info": {
   "name": "python"
  },
  "orig_nbformat": 4
 },
 "nbformat": 4,
 "nbformat_minor": 2
}
